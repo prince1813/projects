{
 "cells": [
  {
   "cell_type": "markdown",
   "metadata": {},
   "source": [
    "iphone sales analysis"
   ]
  },
  {
   "cell_type": "code",
   "execution_count": 2,
   "metadata": {},
   "outputs": [],
   "source": [
    "import pandas as pd       #pandas:- to clean data\n",
    "import plotly.express as px         #data visulization library\n",
    "import plotly.graph_objects as go\n",
    "import matplotlib.pyplot as plt\n"
   ]
  },
  {
   "cell_type": "markdown",
   "metadata": {},
   "source": [
    "plotly.graph_objects module contains the objects Figure, layout, data, and the definition of the plots like scatter plot, line chart) that are responsible for creating the plots. The Figure can be represented either as dict or instances of plotly.graph_objects.Figure and these are serialized as JSON before it gets passed to plotly.js"
   ]
  },
  {
   "cell_type": "code",
   "execution_count": 3,
   "metadata": {},
   "outputs": [
    {
     "data": {
      "text/html": [
       "<div>\n",
       "<style scoped>\n",
       "    .dataframe tbody tr th:only-of-type {\n",
       "        vertical-align: middle;\n",
       "    }\n",
       "\n",
       "    .dataframe tbody tr th {\n",
       "        vertical-align: top;\n",
       "    }\n",
       "\n",
       "    .dataframe thead th {\n",
       "        text-align: right;\n",
       "    }\n",
       "</style>\n",
       "<table border=\"1\" class=\"dataframe\">\n",
       "  <thead>\n",
       "    <tr style=\"text-align: right;\">\n",
       "      <th></th>\n",
       "      <th>Product Name</th>\n",
       "      <th>Product URL</th>\n",
       "      <th>Sale Price</th>\n",
       "      <th>Mrp</th>\n",
       "      <th>Discount Percentage</th>\n",
       "      <th>Number Of Ratings</th>\n",
       "      <th>Number Of Reviews</th>\n",
       "      <th>Upc</th>\n",
       "      <th>Star Rating</th>\n",
       "      <th>Ram</th>\n",
       "    </tr>\n",
       "  </thead>\n",
       "  <tbody>\n",
       "    <tr>\n",
       "      <th>0</th>\n",
       "      <td>APPLE iPhone 8 Plus (Gold, 64 GB)</td>\n",
       "      <td>https://www.flipkart.com/apple-iphone-8-plus-g...</td>\n",
       "      <td>49900</td>\n",
       "      <td>49900</td>\n",
       "      <td>0</td>\n",
       "      <td>3431</td>\n",
       "      <td>356</td>\n",
       "      <td>MOBEXRGV7EHHTGUH</td>\n",
       "      <td>4.6</td>\n",
       "      <td>2 GB</td>\n",
       "    </tr>\n",
       "    <tr>\n",
       "      <th>1</th>\n",
       "      <td>APPLE iPhone 8 Plus (Space Grey, 256 GB)</td>\n",
       "      <td>https://www.flipkart.com/apple-iphone-8-plus-s...</td>\n",
       "      <td>84900</td>\n",
       "      <td>84900</td>\n",
       "      <td>0</td>\n",
       "      <td>3431</td>\n",
       "      <td>356</td>\n",
       "      <td>MOBEXRGVAC6TJT4F</td>\n",
       "      <td>4.6</td>\n",
       "      <td>2 GB</td>\n",
       "    </tr>\n",
       "    <tr>\n",
       "      <th>2</th>\n",
       "      <td>APPLE iPhone 8 Plus (Silver, 256 GB)</td>\n",
       "      <td>https://www.flipkart.com/apple-iphone-8-plus-s...</td>\n",
       "      <td>84900</td>\n",
       "      <td>84900</td>\n",
       "      <td>0</td>\n",
       "      <td>3431</td>\n",
       "      <td>356</td>\n",
       "      <td>MOBEXRGVGETABXWZ</td>\n",
       "      <td>4.6</td>\n",
       "      <td>2 GB</td>\n",
       "    </tr>\n",
       "    <tr>\n",
       "      <th>3</th>\n",
       "      <td>APPLE iPhone 8 (Silver, 256 GB)</td>\n",
       "      <td>https://www.flipkart.com/apple-iphone-8-silver...</td>\n",
       "      <td>77000</td>\n",
       "      <td>77000</td>\n",
       "      <td>0</td>\n",
       "      <td>11202</td>\n",
       "      <td>794</td>\n",
       "      <td>MOBEXRGVMZWUHCBA</td>\n",
       "      <td>4.5</td>\n",
       "      <td>2 GB</td>\n",
       "    </tr>\n",
       "    <tr>\n",
       "      <th>4</th>\n",
       "      <td>APPLE iPhone 8 (Gold, 256 GB)</td>\n",
       "      <td>https://www.flipkart.com/apple-iphone-8-gold-2...</td>\n",
       "      <td>77000</td>\n",
       "      <td>77000</td>\n",
       "      <td>0</td>\n",
       "      <td>11202</td>\n",
       "      <td>794</td>\n",
       "      <td>MOBEXRGVPK7PFEJZ</td>\n",
       "      <td>4.5</td>\n",
       "      <td>2 GB</td>\n",
       "    </tr>\n",
       "    <tr>\n",
       "      <th>...</th>\n",
       "      <td>...</td>\n",
       "      <td>...</td>\n",
       "      <td>...</td>\n",
       "      <td>...</td>\n",
       "      <td>...</td>\n",
       "      <td>...</td>\n",
       "      <td>...</td>\n",
       "      <td>...</td>\n",
       "      <td>...</td>\n",
       "      <td>...</td>\n",
       "    </tr>\n",
       "    <tr>\n",
       "      <th>57</th>\n",
       "      <td>APPLE iPhone SE (Black, 64 GB)</td>\n",
       "      <td>https://www.flipkart.com/apple-iphone-se-black...</td>\n",
       "      <td>29999</td>\n",
       "      <td>39900</td>\n",
       "      <td>24</td>\n",
       "      <td>95909</td>\n",
       "      <td>8161</td>\n",
       "      <td>MOBFWQ6BR3MK7AUG</td>\n",
       "      <td>4.5</td>\n",
       "      <td>4 GB</td>\n",
       "    </tr>\n",
       "    <tr>\n",
       "      <th>58</th>\n",
       "      <td>APPLE iPhone 11 (Purple, 64 GB)</td>\n",
       "      <td>https://www.flipkart.com/apple-iphone-11-purpl...</td>\n",
       "      <td>46999</td>\n",
       "      <td>54900</td>\n",
       "      <td>14</td>\n",
       "      <td>43470</td>\n",
       "      <td>3331</td>\n",
       "      <td>MOBFWQ6BTFFJKGKE</td>\n",
       "      <td>4.6</td>\n",
       "      <td>4 GB</td>\n",
       "    </tr>\n",
       "    <tr>\n",
       "      <th>59</th>\n",
       "      <td>APPLE iPhone 11 (White, 64 GB)</td>\n",
       "      <td>https://www.flipkart.com/apple-iphone-11-white...</td>\n",
       "      <td>46999</td>\n",
       "      <td>54900</td>\n",
       "      <td>14</td>\n",
       "      <td>43470</td>\n",
       "      <td>3331</td>\n",
       "      <td>MOBFWQ6BVWVEH3XE</td>\n",
       "      <td>4.6</td>\n",
       "      <td>4 GB</td>\n",
       "    </tr>\n",
       "    <tr>\n",
       "      <th>60</th>\n",
       "      <td>APPLE iPhone 11 (Black, 64 GB)</td>\n",
       "      <td>https://www.flipkart.com/apple-iphone-11-black...</td>\n",
       "      <td>46999</td>\n",
       "      <td>54900</td>\n",
       "      <td>14</td>\n",
       "      <td>43470</td>\n",
       "      <td>3331</td>\n",
       "      <td>MOBFWQ6BXGJCEYNY</td>\n",
       "      <td>4.6</td>\n",
       "      <td>4 GB</td>\n",
       "    </tr>\n",
       "    <tr>\n",
       "      <th>61</th>\n",
       "      <td>APPLE iPhone 11 (Red, 64 GB)</td>\n",
       "      <td>https://www.flipkart.com/apple-iphone-11-red-6...</td>\n",
       "      <td>46999</td>\n",
       "      <td>54900</td>\n",
       "      <td>14</td>\n",
       "      <td>43470</td>\n",
       "      <td>3331</td>\n",
       "      <td>MOBFWQ6BYYV3FCU7</td>\n",
       "      <td>4.6</td>\n",
       "      <td>4 GB</td>\n",
       "    </tr>\n",
       "  </tbody>\n",
       "</table>\n",
       "<p>62 rows × 10 columns</p>\n",
       "</div>"
      ],
      "text/plain": [
       "                                Product Name  \\\n",
       "0          APPLE iPhone 8 Plus (Gold, 64 GB)   \n",
       "1   APPLE iPhone 8 Plus (Space Grey, 256 GB)   \n",
       "2       APPLE iPhone 8 Plus (Silver, 256 GB)   \n",
       "3            APPLE iPhone 8 (Silver, 256 GB)   \n",
       "4              APPLE iPhone 8 (Gold, 256 GB)   \n",
       "..                                       ...   \n",
       "57            APPLE iPhone SE (Black, 64 GB)   \n",
       "58           APPLE iPhone 11 (Purple, 64 GB)   \n",
       "59            APPLE iPhone 11 (White, 64 GB)   \n",
       "60            APPLE iPhone 11 (Black, 64 GB)   \n",
       "61              APPLE iPhone 11 (Red, 64 GB)   \n",
       "\n",
       "                                          Product URL  Sale Price    Mrp  \\\n",
       "0   https://www.flipkart.com/apple-iphone-8-plus-g...       49900  49900   \n",
       "1   https://www.flipkart.com/apple-iphone-8-plus-s...       84900  84900   \n",
       "2   https://www.flipkart.com/apple-iphone-8-plus-s...       84900  84900   \n",
       "3   https://www.flipkart.com/apple-iphone-8-silver...       77000  77000   \n",
       "4   https://www.flipkart.com/apple-iphone-8-gold-2...       77000  77000   \n",
       "..                                                ...         ...    ...   \n",
       "57  https://www.flipkart.com/apple-iphone-se-black...       29999  39900   \n",
       "58  https://www.flipkart.com/apple-iphone-11-purpl...       46999  54900   \n",
       "59  https://www.flipkart.com/apple-iphone-11-white...       46999  54900   \n",
       "60  https://www.flipkart.com/apple-iphone-11-black...       46999  54900   \n",
       "61  https://www.flipkart.com/apple-iphone-11-red-6...       46999  54900   \n",
       "\n",
       "    Discount Percentage  Number Of Ratings  Number Of Reviews  \\\n",
       "0                     0               3431                356   \n",
       "1                     0               3431                356   \n",
       "2                     0               3431                356   \n",
       "3                     0              11202                794   \n",
       "4                     0              11202                794   \n",
       "..                  ...                ...                ...   \n",
       "57                   24              95909               8161   \n",
       "58                   14              43470               3331   \n",
       "59                   14              43470               3331   \n",
       "60                   14              43470               3331   \n",
       "61                   14              43470               3331   \n",
       "\n",
       "                 Upc  Star Rating   Ram  \n",
       "0   MOBEXRGV7EHHTGUH          4.6  2 GB  \n",
       "1   MOBEXRGVAC6TJT4F          4.6  2 GB  \n",
       "2   MOBEXRGVGETABXWZ          4.6  2 GB  \n",
       "3   MOBEXRGVMZWUHCBA          4.5  2 GB  \n",
       "4   MOBEXRGVPK7PFEJZ          4.5  2 GB  \n",
       "..               ...          ...   ...  \n",
       "57  MOBFWQ6BR3MK7AUG          4.5  4 GB  \n",
       "58  MOBFWQ6BTFFJKGKE          4.6  4 GB  \n",
       "59  MOBFWQ6BVWVEH3XE          4.6  4 GB  \n",
       "60  MOBFWQ6BXGJCEYNY          4.6  4 GB  \n",
       "61  MOBFWQ6BYYV3FCU7          4.6  4 GB  \n",
       "\n",
       "[62 rows x 10 columns]"
      ]
     },
     "execution_count": 3,
     "metadata": {},
     "output_type": "execute_result"
    }
   ],
   "source": [
    "df = pd.read_csv(\"D:/projects/iphone_sales.csv\")\n",
    "df        #download data from kaggle website"
   ]
  },
  {
   "cell_type": "markdown",
   "metadata": {},
   "source": [
    "DATA CLEANING"
   ]
  },
  {
   "cell_type": "code",
   "execution_count": 6,
   "metadata": {},
   "outputs": [
    {
     "data": {
      "text/plain": [
       "Product Name           0\n",
       "Product URL            0\n",
       "Sale Price             0\n",
       "Mrp                    0\n",
       "Discount Percentage    0\n",
       "Number Of Ratings      0\n",
       "Number Of Reviews      0\n",
       "Upc                    0\n",
       "Star Rating            0\n",
       "Ram                    0\n",
       "dtype: int64"
      ]
     },
     "execution_count": 6,
     "metadata": {},
     "output_type": "execute_result"
    }
   ],
   "source": [
    "df.isnull().sum()          #to check whwther there is any missing or null value or not"
   ]
  },
  {
   "cell_type": "code",
   "execution_count": 7,
   "metadata": {},
   "outputs": [
    {
     "data": {
      "text/html": [
       "<div>\n",
       "<style scoped>\n",
       "    .dataframe tbody tr th:only-of-type {\n",
       "        vertical-align: middle;\n",
       "    }\n",
       "\n",
       "    .dataframe tbody tr th {\n",
       "        vertical-align: top;\n",
       "    }\n",
       "\n",
       "    .dataframe thead th {\n",
       "        text-align: right;\n",
       "    }\n",
       "</style>\n",
       "<table border=\"1\" class=\"dataframe\">\n",
       "  <thead>\n",
       "    <tr style=\"text-align: right;\">\n",
       "      <th></th>\n",
       "      <th>Sale Price</th>\n",
       "      <th>Mrp</th>\n",
       "      <th>Discount Percentage</th>\n",
       "      <th>Number Of Ratings</th>\n",
       "      <th>Number Of Reviews</th>\n",
       "      <th>Star Rating</th>\n",
       "    </tr>\n",
       "  </thead>\n",
       "  <tbody>\n",
       "    <tr>\n",
       "      <th>count</th>\n",
       "      <td>62.000000</td>\n",
       "      <td>62.000000</td>\n",
       "      <td>62.000000</td>\n",
       "      <td>62.000000</td>\n",
       "      <td>62.000000</td>\n",
       "      <td>62.000000</td>\n",
       "    </tr>\n",
       "    <tr>\n",
       "      <th>mean</th>\n",
       "      <td>80073.887097</td>\n",
       "      <td>88058.064516</td>\n",
       "      <td>9.951613</td>\n",
       "      <td>22420.403226</td>\n",
       "      <td>1861.677419</td>\n",
       "      <td>4.575806</td>\n",
       "    </tr>\n",
       "    <tr>\n",
       "      <th>std</th>\n",
       "      <td>34310.446132</td>\n",
       "      <td>34728.825597</td>\n",
       "      <td>7.608079</td>\n",
       "      <td>33768.589550</td>\n",
       "      <td>2855.883830</td>\n",
       "      <td>0.059190</td>\n",
       "    </tr>\n",
       "    <tr>\n",
       "      <th>min</th>\n",
       "      <td>29999.000000</td>\n",
       "      <td>39900.000000</td>\n",
       "      <td>0.000000</td>\n",
       "      <td>542.000000</td>\n",
       "      <td>42.000000</td>\n",
       "      <td>4.500000</td>\n",
       "    </tr>\n",
       "    <tr>\n",
       "      <th>25%</th>\n",
       "      <td>49900.000000</td>\n",
       "      <td>54900.000000</td>\n",
       "      <td>6.000000</td>\n",
       "      <td>740.000000</td>\n",
       "      <td>64.000000</td>\n",
       "      <td>4.500000</td>\n",
       "    </tr>\n",
       "    <tr>\n",
       "      <th>50%</th>\n",
       "      <td>75900.000000</td>\n",
       "      <td>79900.000000</td>\n",
       "      <td>10.000000</td>\n",
       "      <td>2101.000000</td>\n",
       "      <td>180.000000</td>\n",
       "      <td>4.600000</td>\n",
       "    </tr>\n",
       "    <tr>\n",
       "      <th>75%</th>\n",
       "      <td>117100.000000</td>\n",
       "      <td>120950.000000</td>\n",
       "      <td>14.000000</td>\n",
       "      <td>43470.000000</td>\n",
       "      <td>3331.000000</td>\n",
       "      <td>4.600000</td>\n",
       "    </tr>\n",
       "    <tr>\n",
       "      <th>max</th>\n",
       "      <td>140900.000000</td>\n",
       "      <td>149900.000000</td>\n",
       "      <td>29.000000</td>\n",
       "      <td>95909.000000</td>\n",
       "      <td>8161.000000</td>\n",
       "      <td>4.700000</td>\n",
       "    </tr>\n",
       "  </tbody>\n",
       "</table>\n",
       "</div>"
      ],
      "text/plain": [
       "          Sale Price            Mrp  Discount Percentage  Number Of Ratings  \\\n",
       "count      62.000000      62.000000            62.000000          62.000000   \n",
       "mean    80073.887097   88058.064516             9.951613       22420.403226   \n",
       "std     34310.446132   34728.825597             7.608079       33768.589550   \n",
       "min     29999.000000   39900.000000             0.000000         542.000000   \n",
       "25%     49900.000000   54900.000000             6.000000         740.000000   \n",
       "50%     75900.000000   79900.000000            10.000000        2101.000000   \n",
       "75%    117100.000000  120950.000000            14.000000       43470.000000   \n",
       "max    140900.000000  149900.000000            29.000000       95909.000000   \n",
       "\n",
       "       Number Of Reviews  Star Rating  \n",
       "count          62.000000    62.000000  \n",
       "mean         1861.677419     4.575806  \n",
       "std          2855.883830     0.059190  \n",
       "min            42.000000     4.500000  \n",
       "25%            64.000000     4.500000  \n",
       "50%           180.000000     4.600000  \n",
       "75%          3331.000000     4.600000  \n",
       "max          8161.000000     4.700000  "
      ]
     },
     "execution_count": 7,
     "metadata": {},
     "output_type": "execute_result"
    }
   ],
   "source": [
    "df.describe()            #statistical analysis"
   ]
  },
  {
   "cell_type": "markdown",
   "metadata": {},
   "source": [
    "TOP 10 iPhone as per star rating. we will sort this col in descending order"
   ]
  },
  {
   "cell_type": "code",
   "execution_count": 4,
   "metadata": {},
   "outputs": [
    {
     "data": {
      "text/plain": [
       "20     APPLE iPhone 11 Pro Max (Midnight Green, 64 GB)\n",
       "17         APPLE iPhone 11 Pro Max (Space Grey, 64 GB)\n",
       "16    APPLE iPhone 11 Pro Max (Midnight Green, 256 GB)\n",
       "15               APPLE iPhone 11 Pro Max (Gold, 64 GB)\n",
       "14              APPLE iPhone 11 Pro Max (Gold, 256 GB)\n",
       "0                    APPLE iPhone 8 Plus (Gold, 64 GB)\n",
       "29                     APPLE iPhone 12 (White, 128 GB)\n",
       "32          APPLE iPhone 12 Pro Max (Graphite, 128 GB)\n",
       "35                     APPLE iPhone 12 (Black, 128 GB)\n",
       "36                      APPLE iPhone 12 (Blue, 128 GB)\n",
       "Name: Product Name, dtype: object"
      ]
     },
     "execution_count": 4,
     "metadata": {},
     "output_type": "execute_result"
    }
   ],
   "source": [
    "a = df.sort_values(by=[\"Star Rating\"], ascending = False)\n",
    "highest_rated=a.head(10)        #will return top 10\n",
    "highest_rated['Product Name']"
   ]
  },
  {
   "cell_type": "code",
   "execution_count": 5,
   "metadata": {},
   "outputs": [
    {
     "data": {
      "text/plain": [
       "20     APPLE iPhone 11 Pro Max (Midnight Green, 64 GB)\n",
       "17         APPLE iPhone 11 Pro Max (Space Grey, 64 GB)\n",
       "16    APPLE iPhone 11 Pro Max (Midnight Green, 256 GB)\n",
       "15               APPLE iPhone 11 Pro Max (Gold, 64 GB)\n",
       "14              APPLE iPhone 11 Pro Max (Gold, 256 GB)\n",
       "0                    APPLE iPhone 8 Plus (Gold, 64 GB)\n",
       "29                     APPLE iPhone 12 (White, 128 GB)\n",
       "32          APPLE iPhone 12 Pro Max (Graphite, 128 GB)\n",
       "35                     APPLE iPhone 12 (Black, 128 GB)\n",
       "36                      APPLE iPhone 12 (Blue, 128 GB)\n",
       "Name: Product Name, dtype: object"
      ]
     },
     "execution_count": 5,
     "metadata": {},
     "output_type": "execute_result"
    }
   ],
   "source": [
    "highest_rated['Product Name']"
   ]
  },
  {
   "cell_type": "code",
   "execution_count": 6,
   "metadata": {},
   "outputs": [
    {
     "data": {
      "text/html": [
       "<div>\n",
       "<style scoped>\n",
       "    .dataframe tbody tr th:only-of-type {\n",
       "        vertical-align: middle;\n",
       "    }\n",
       "\n",
       "    .dataframe tbody tr th {\n",
       "        vertical-align: top;\n",
       "    }\n",
       "\n",
       "    .dataframe thead th {\n",
       "        text-align: right;\n",
       "    }\n",
       "</style>\n",
       "<table border=\"1\" class=\"dataframe\">\n",
       "  <thead>\n",
       "    <tr style=\"text-align: right;\">\n",
       "      <th></th>\n",
       "      <th>Product Name</th>\n",
       "      <th>Product URL</th>\n",
       "      <th>Sale Price</th>\n",
       "      <th>Mrp</th>\n",
       "      <th>Discount Percentage</th>\n",
       "      <th>Number Of Ratings</th>\n",
       "      <th>Number Of Reviews</th>\n",
       "      <th>Upc</th>\n",
       "      <th>Star Rating</th>\n",
       "      <th>Ram</th>\n",
       "    </tr>\n",
       "  </thead>\n",
       "  <tbody>\n",
       "    <tr>\n",
       "      <th>20</th>\n",
       "      <td>APPLE iPhone 11 Pro Max (Midnight Green, 64 GB)</td>\n",
       "      <td>https://www.flipkart.com/apple-iphone-11-pro-m...</td>\n",
       "      <td>117100</td>\n",
       "      <td>117100</td>\n",
       "      <td>0</td>\n",
       "      <td>1078</td>\n",
       "      <td>101</td>\n",
       "      <td>MOBFKCTSRYPAQNYT</td>\n",
       "      <td>4.7</td>\n",
       "      <td>4 GB</td>\n",
       "    </tr>\n",
       "    <tr>\n",
       "      <th>17</th>\n",
       "      <td>APPLE iPhone 11 Pro Max (Space Grey, 64 GB)</td>\n",
       "      <td>https://www.flipkart.com/apple-iphone-11-pro-m...</td>\n",
       "      <td>117100</td>\n",
       "      <td>117100</td>\n",
       "      <td>0</td>\n",
       "      <td>1078</td>\n",
       "      <td>101</td>\n",
       "      <td>MOBFKCTSKDMKCGQS</td>\n",
       "      <td>4.7</td>\n",
       "      <td>4 GB</td>\n",
       "    </tr>\n",
       "    <tr>\n",
       "      <th>16</th>\n",
       "      <td>APPLE iPhone 11 Pro Max (Midnight Green, 256 GB)</td>\n",
       "      <td>https://www.flipkart.com/apple-iphone-11-pro-m...</td>\n",
       "      <td>131900</td>\n",
       "      <td>131900</td>\n",
       "      <td>0</td>\n",
       "      <td>1078</td>\n",
       "      <td>101</td>\n",
       "      <td>MOBFKCTSCAAKGQV7</td>\n",
       "      <td>4.7</td>\n",
       "      <td>4 GB</td>\n",
       "    </tr>\n",
       "    <tr>\n",
       "      <th>15</th>\n",
       "      <td>APPLE iPhone 11 Pro Max (Gold, 64 GB)</td>\n",
       "      <td>https://www.flipkart.com/apple-iphone-11-pro-m...</td>\n",
       "      <td>117100</td>\n",
       "      <td>117100</td>\n",
       "      <td>0</td>\n",
       "      <td>1078</td>\n",
       "      <td>101</td>\n",
       "      <td>MOBFKCTSAPAYNSGG</td>\n",
       "      <td>4.7</td>\n",
       "      <td>4 GB</td>\n",
       "    </tr>\n",
       "    <tr>\n",
       "      <th>14</th>\n",
       "      <td>APPLE iPhone 11 Pro Max (Gold, 256 GB)</td>\n",
       "      <td>https://www.flipkart.com/apple-iphone-11-pro-m...</td>\n",
       "      <td>131900</td>\n",
       "      <td>131900</td>\n",
       "      <td>0</td>\n",
       "      <td>1078</td>\n",
       "      <td>101</td>\n",
       "      <td>MOBFKCTS7HCHSPFH</td>\n",
       "      <td>4.7</td>\n",
       "      <td>4 GB</td>\n",
       "    </tr>\n",
       "    <tr>\n",
       "      <th>0</th>\n",
       "      <td>APPLE iPhone 8 Plus (Gold, 64 GB)</td>\n",
       "      <td>https://www.flipkart.com/apple-iphone-8-plus-g...</td>\n",
       "      <td>49900</td>\n",
       "      <td>49900</td>\n",
       "      <td>0</td>\n",
       "      <td>3431</td>\n",
       "      <td>356</td>\n",
       "      <td>MOBEXRGV7EHHTGUH</td>\n",
       "      <td>4.6</td>\n",
       "      <td>2 GB</td>\n",
       "    </tr>\n",
       "    <tr>\n",
       "      <th>29</th>\n",
       "      <td>APPLE iPhone 12 (White, 128 GB)</td>\n",
       "      <td>https://www.flipkart.com/apple-iphone-12-white...</td>\n",
       "      <td>75900</td>\n",
       "      <td>84900</td>\n",
       "      <td>10</td>\n",
       "      <td>2101</td>\n",
       "      <td>180</td>\n",
       "      <td>MOBFWBYZBTZFGJF9</td>\n",
       "      <td>4.6</td>\n",
       "      <td>6 GB</td>\n",
       "    </tr>\n",
       "    <tr>\n",
       "      <th>32</th>\n",
       "      <td>APPLE iPhone 12 Pro Max (Graphite, 128 GB)</td>\n",
       "      <td>https://www.flipkart.com/apple-iphone-12-pro-m...</td>\n",
       "      <td>120900</td>\n",
       "      <td>129900</td>\n",
       "      <td>6</td>\n",
       "      <td>580</td>\n",
       "      <td>45</td>\n",
       "      <td>MOBFWBYZFDGQSDWS</td>\n",
       "      <td>4.6</td>\n",
       "      <td>6 GB</td>\n",
       "    </tr>\n",
       "    <tr>\n",
       "      <th>35</th>\n",
       "      <td>APPLE iPhone 12 (Black, 128 GB)</td>\n",
       "      <td>https://www.flipkart.com/apple-iphone-12-black...</td>\n",
       "      <td>75900</td>\n",
       "      <td>84900</td>\n",
       "      <td>10</td>\n",
       "      <td>2101</td>\n",
       "      <td>180</td>\n",
       "      <td>MOBFWBYZK3HACR72</td>\n",
       "      <td>4.6</td>\n",
       "      <td>6 GB</td>\n",
       "    </tr>\n",
       "    <tr>\n",
       "      <th>36</th>\n",
       "      <td>APPLE iPhone 12 (Blue, 128 GB)</td>\n",
       "      <td>https://www.flipkart.com/apple-iphone-12-blue-...</td>\n",
       "      <td>75900</td>\n",
       "      <td>84900</td>\n",
       "      <td>10</td>\n",
       "      <td>2101</td>\n",
       "      <td>180</td>\n",
       "      <td>MOBFWBYZKPTZF9VG</td>\n",
       "      <td>4.6</td>\n",
       "      <td>6 GB</td>\n",
       "    </tr>\n",
       "  </tbody>\n",
       "</table>\n",
       "</div>"
      ],
      "text/plain": [
       "                                        Product Name  \\\n",
       "20   APPLE iPhone 11 Pro Max (Midnight Green, 64 GB)   \n",
       "17       APPLE iPhone 11 Pro Max (Space Grey, 64 GB)   \n",
       "16  APPLE iPhone 11 Pro Max (Midnight Green, 256 GB)   \n",
       "15             APPLE iPhone 11 Pro Max (Gold, 64 GB)   \n",
       "14            APPLE iPhone 11 Pro Max (Gold, 256 GB)   \n",
       "0                  APPLE iPhone 8 Plus (Gold, 64 GB)   \n",
       "29                   APPLE iPhone 12 (White, 128 GB)   \n",
       "32        APPLE iPhone 12 Pro Max (Graphite, 128 GB)   \n",
       "35                   APPLE iPhone 12 (Black, 128 GB)   \n",
       "36                    APPLE iPhone 12 (Blue, 128 GB)   \n",
       "\n",
       "                                          Product URL  Sale Price     Mrp  \\\n",
       "20  https://www.flipkart.com/apple-iphone-11-pro-m...      117100  117100   \n",
       "17  https://www.flipkart.com/apple-iphone-11-pro-m...      117100  117100   \n",
       "16  https://www.flipkart.com/apple-iphone-11-pro-m...      131900  131900   \n",
       "15  https://www.flipkart.com/apple-iphone-11-pro-m...      117100  117100   \n",
       "14  https://www.flipkart.com/apple-iphone-11-pro-m...      131900  131900   \n",
       "0   https://www.flipkart.com/apple-iphone-8-plus-g...       49900   49900   \n",
       "29  https://www.flipkart.com/apple-iphone-12-white...       75900   84900   \n",
       "32  https://www.flipkart.com/apple-iphone-12-pro-m...      120900  129900   \n",
       "35  https://www.flipkart.com/apple-iphone-12-black...       75900   84900   \n",
       "36  https://www.flipkart.com/apple-iphone-12-blue-...       75900   84900   \n",
       "\n",
       "    Discount Percentage  Number Of Ratings  Number Of Reviews  \\\n",
       "20                    0               1078                101   \n",
       "17                    0               1078                101   \n",
       "16                    0               1078                101   \n",
       "15                    0               1078                101   \n",
       "14                    0               1078                101   \n",
       "0                     0               3431                356   \n",
       "29                   10               2101                180   \n",
       "32                    6                580                 45   \n",
       "35                   10               2101                180   \n",
       "36                   10               2101                180   \n",
       "\n",
       "                 Upc  Star Rating   Ram  \n",
       "20  MOBFKCTSRYPAQNYT          4.7  4 GB  \n",
       "17  MOBFKCTSKDMKCGQS          4.7  4 GB  \n",
       "16  MOBFKCTSCAAKGQV7          4.7  4 GB  \n",
       "15  MOBFKCTSAPAYNSGG          4.7  4 GB  \n",
       "14  MOBFKCTS7HCHSPFH          4.7  4 GB  \n",
       "0   MOBEXRGV7EHHTGUH          4.6  2 GB  \n",
       "29  MOBFWBYZBTZFGJF9          4.6  6 GB  \n",
       "32  MOBFWBYZFDGQSDWS          4.6  6 GB  \n",
       "35  MOBFWBYZK3HACR72          4.6  6 GB  \n",
       "36  MOBFWBYZKPTZF9VG          4.6  6 GB  "
      ]
     },
     "execution_count": 6,
     "metadata": {},
     "output_type": "execute_result"
    }
   ],
   "source": [
    "a = df.sort_values(by=\"Star Rating\",ascending=False)\n",
    "toptenrated=a.head(10)\n",
    "toptenrated"
   ]
  },
  {
   "cell_type": "code",
   "execution_count": 36,
   "metadata": {},
   "outputs": [
    {
     "data": {
      "text/plain": [
       "20     APPLE iPhone 11 Pro Max (Midnight Green, 64 GB)\n",
       "17         APPLE iPhone 11 Pro Max (Space Grey, 64 GB)\n",
       "16    APPLE iPhone 11 Pro Max (Midnight Green, 256 GB)\n",
       "15               APPLE iPhone 11 Pro Max (Gold, 64 GB)\n",
       "14              APPLE iPhone 11 Pro Max (Gold, 256 GB)\n",
       "0                    APPLE iPhone 8 Plus (Gold, 64 GB)\n",
       "29                     APPLE iPhone 12 (White, 128 GB)\n",
       "32          APPLE iPhone 12 Pro Max (Graphite, 128 GB)\n",
       "35                     APPLE iPhone 12 (Black, 128 GB)\n",
       "36                      APPLE iPhone 12 (Blue, 128 GB)\n",
       "Name: Product Name, dtype: object"
      ]
     },
     "execution_count": 36,
     "metadata": {},
     "output_type": "execute_result"
    }
   ],
   "source": [
    "x = toptenrated[('Product Name')]\n",
    "x"
   ]
  },
  {
   "cell_type": "code",
   "execution_count": 28,
   "metadata": {},
   "outputs": [],
   "source": [
    "y = toptenrated['Number Of Ratings'].values"
   ]
  },
  {
   "cell_type": "code",
   "execution_count": 40,
   "metadata": {},
   "outputs": [
    {
     "data": {
      "image/png": "[encoded data removed]",
      "text/plain": [
       "<Figure size 640x480 with 1 Axes>"
      ]
     },
     "metadata": {},
     "output_type": "display_data"
    }
   ],
   "source": [
    "plt.barh(x,y,edgecolor='k',label=\"y\")\n",
    "plt.show()"
   ]
  },
  {
   "cell_type": "code",
   "execution_count": null,
   "metadata": {},
   "outputs": [],
   "source": [
    "#now we will show these iphones on Bar Graph in respect of Number Of Ratings given to them "
   ]
  },
  {
   "cell_type": "code",
   "execution_count": null,
   "metadata": {},
   "outputs": [],
   "source": [
    "pip install --upgrade nbformat      #without this we will get error"
   ]
  },
  {
   "cell_type": "code",
   "execution_count": 10,
   "metadata": {},
   "outputs": [
    {
     "data": {
      "application/vnd.plotly.v1+json": {
       "config": {
        "plotlyServerURL": "https://plot.ly"
       },
       "data": [
        {
         "alignmentgroup": "True",
         "hovertemplate": "Product Name=APPLE iPhone 11 Pro Max (Midnight Green, 64 GB)<br>x=%{x}<br>Number Of Ratings=%{y}<extra></extra>",
         "legendgroup": "APPLE iPhone 11 Pro Max (Midnight Green, 64 GB)",
         "marker": {
          "color": "#636efa",
          "pattern": {
           "shape": ""
          }
         },
         "name": "APPLE iPhone 11 Pro Max (Midnight Green, 64 GB)",
         "offsetgroup": "APPLE iPhone 11 Pro Max (Midnight Green, 64 GB)",
         "orientation": "v",
         "showlegend": true,
         "textposition": "auto",
         "type": "bar",
         "x": [
          "APPLE iPhone 11 Pro Max (Midnight Green, 64 GB)"
         ],
         "xaxis": "x",
         "y": [
          1078
         ],
         "yaxis": "y"
        },
        {
         "alignmentgroup": "True",
         "hovertemplate": "Product Name=APPLE iPhone 11 Pro Max (Space Grey, 64 GB)<br>x=%{x}<br>Number Of Ratings=%{y}<extra></extra>",
         "legendgroup": "APPLE iPhone 11 Pro Max (Space Grey, 64 GB)",
         "marker": {
          "color": "#EF553B",
          "pattern": {
           "shape": ""
          }
         },
         "name": "APPLE iPhone 11 Pro Max (Space Grey, 64 GB)",
         "offsetgroup": "APPLE iPhone 11 Pro Max (Space Grey, 64 GB)",
         "orientation": "v",
         "showlegend": true,
         "textposition": "auto",
         "type": "bar",
         "x": [
          "APPLE iPhone 11 Pro Max (Space Grey, 64 GB)"
         ],
         "xaxis": "x",
         "y": [
          1078
         ],
         "yaxis": "y"
        },
        {
         "alignmentgroup": "True",
         "hovertemplate": "Product Name=APPLE iPhone 11 Pro Max (Midnight Green, 256 GB)<br>x=%{x}<br>Number Of Ratings=%{y}<extra></extra>",
         "legendgroup": "APPLE iPhone 11 Pro Max (Midnight Green, 256 GB)",
         "marker": {
          "color": "#00cc96",
          "pattern": {
           "shape": ""
          }
         },
         "name": "APPLE iPhone 11 Pro Max (Midnight Green, 256 GB)",
         "offsetgroup": "APPLE iPhone 11 Pro Max (Midnight Green, 256 GB)",
         "orientation": "v",
         "showlegend": true,
         "textposition": "auto",
         "type": "bar",
         "x": [
          "APPLE iPhone 11 Pro Max (Midnight Green, 256 GB)"
         ],
         "xaxis": "x",
         "y": [
          1078
         ],
         "yaxis": "y"
        },
        {
         "alignmentgroup": "True",
         "hovertemplate": "Product Name=APPLE iPhone 11 Pro Max (Gold, 64 GB)<br>x=%{x}<br>Number Of Ratings=%{y}<extra></extra>",
         "legendgroup": "APPLE iPhone 11 Pro Max (Gold, 64 GB)",
         "marker": {
          "color": "#ab63fa",
          "pattern": {
           "shape": ""
          }
         },
         "name": "APPLE iPhone 11 Pro Max (Gold, 64 GB)",
         "offsetgroup": "APPLE iPhone 11 Pro Max (Gold, 64 GB)",
         "orientation": "v",
         "showlegend": true,
         "textposition": "auto",
         "type": "bar",
         "x": [
          "APPLE iPhone 11 Pro Max (Gold, 64 GB)"
         ],
         "xaxis": "x",
         "y": [
          1078
         ],
         "yaxis": "y"
        },
        {
         "alignmentgroup": "True",
         "hovertemplate": "Product Name=APPLE iPhone 11 Pro Max (Gold, 256 GB)<br>x=%{x}<br>Number Of Ratings=%{y}<extra></extra>",
         "legendgroup": "APPLE iPhone 11 Pro Max (Gold, 256 GB)",
         "marker": {
          "color": "#FFA15A",
          "pattern": {
           "shape": ""
          }
         },
         "name": "APPLE iPhone 11 Pro Max (Gold, 256 GB)",
         "offsetgroup": "APPLE iPhone 11 Pro Max (Gold, 256 GB)",
         "orientation": "v",
         "showlegend": true,
         "textposition": "auto",
         "type": "bar",
         "x": [
          "APPLE iPhone 11 Pro Max (Gold, 256 GB)"
         ],
         "xaxis": "x",
         "y": [
          1078
         ],
         "yaxis": "y"
        },
        {
         "alignmentgroup": "True",
         "hovertemplate": "Product Name=APPLE iPhone 8 Plus (Gold, 64 GB)<br>x=%{x}<br>Number Of Ratings=%{y}<extra></extra>",
         "legendgroup": "APPLE iPhone 8 Plus (Gold, 64 GB)",
         "marker": {
          "color": "#19d3f3",
          "pattern": {
           "shape": ""
          }
         },
         "name": "APPLE iPhone 8 Plus (Gold, 64 GB)",
         "offsetgroup": "APPLE iPhone 8 Plus (Gold, 64 GB)",
         "orientation": "v",
         "showlegend": true,
         "textposition": "auto",
         "type": "bar",
         "x": [
          "APPLE iPhone 8 Plus (Gold, 64 GB)"
         ],
         "xaxis": "x",
         "y": [
          3431
         ],
         "yaxis": "y"
        },
        {
         "alignmentgroup": "True",
         "hovertemplate": "Product Name=APPLE iPhone 12 (White, 128 GB)<br>x=%{x}<br>Number Of Ratings=%{y}<extra></extra>",
         "legendgroup": "APPLE iPhone 12 (White, 128 GB)",
         "marker": {
          "color": "#FF6692",
          "pattern": {
           "shape": ""
          }
         },
         "name": "APPLE iPhone 12 (White, 128 GB)",
         "offsetgroup": "APPLE iPhone 12 (White, 128 GB)",
         "orientation": "v",
         "showlegend": true,
         "textposition": "auto",
         "type": "bar",
         "x": [
          "APPLE iPhone 12 (White, 128 GB)"
         ],
         "xaxis": "x",
         "y": [
          2101
         ],
         "yaxis": "y"
        },
        {
         "alignmentgroup": "True",
         "hovertemplate": "Product Name=APPLE iPhone 12 Pro Max (Graphite, 128 GB)<br>x=%{x}<br>Number Of Ratings=%{y}<extra></extra>",
         "legendgroup": "APPLE iPhone 12 Pro Max (Graphite, 128 GB)",
         "marker": {
          "color": "#B6E880",
          "pattern": {
           "shape": ""
          }
         },
         "name": "APPLE iPhone 12 Pro Max (Graphite, 128 GB)",
         "offsetgroup": "APPLE iPhone 12 Pro Max (Graphite, 128 GB)",
         "orientation": "v",
         "showlegend": true,
         "textposition": "auto",
         "type": "bar",
         "x": [
          "APPLE iPhone 12 Pro Max (Graphite, 128 GB)"
         ],
         "xaxis": "x",
         "y": [
          580
         ],
         "yaxis": "y"
        },
        {
         "alignmentgroup": "True",
         "hovertemplate": "Product Name=APPLE iPhone 12 (Black, 128 GB)<br>x=%{x}<br>Number Of Ratings=%{y}<extra></extra>",
         "legendgroup": "APPLE iPhone 12 (Black, 128 GB)",
         "marker": {
          "color": "#FF97FF",
          "pattern": {
           "shape": ""
          }
         },
         "name": "APPLE iPhone 12 (Black, 128 GB)",
         "offsetgroup": "APPLE iPhone 12 (Black, 128 GB)",
         "orientation": "v",
         "showlegend": true,
         "textposition": "auto",
         "type": "bar",
         "x": [
          "APPLE iPhone 12 (Black, 128 GB)"
         ],
         "xaxis": "x",
         "y": [
          2101
         ],
         "yaxis": "y"
        },
        {
         "alignmentgroup": "True",
         "hovertemplate": "Product Name=APPLE iPhone 12 (Blue, 128 GB)<br>x=%{x}<br>Number Of Ratings=%{y}<extra></extra>",
         "legendgroup": "APPLE iPhone 12 (Blue, 128 GB)",
         "marker": {
          "color": "#FECB52",
          "pattern": {
           "shape": ""
          }
         },
         "name": "APPLE iPhone 12 (Blue, 128 GB)",
         "offsetgroup": "APPLE iPhone 12 (Blue, 128 GB)",
         "orientation": "v",
         "showlegend": true,
         "textposition": "auto",
         "type": "bar",
         "x": [
          "APPLE iPhone 12 (Blue, 128 GB)"
         ],
         "xaxis": "x",
         "y": [
          2101
         ],
         "yaxis": "y"
        }
       ],
       "layout": {
        "barmode": "relative",
        "legend": {
         "title": {
          "text": "Product Name"
         },
         "tracegroupgap": 0
        },
        "template": {
         "data": {
          "bar": [
           {
            "error_x": {
             "color": "#2a3f5f"
            },
            "error_y": {
             "color": "#2a3f5f"
            },
            "marker": {
             "line": {
              "color": "#E5ECF6",
              "width": 0.5
             },
             "pattern": {
              "fillmode": "overlay",
              "size": 10,
              "solidity": 0.2
             }
            },
            "type": "bar"
           }
          ],
          "barpolar": [
           {
            "marker": {
             "line": {
              "color": "#E5ECF6",
              "width": 0.5
             },
             "pattern": {
              "fillmode": "overlay",
              "size": 10,
              "solidity": 0.2
             }
            },
            "type": "barpolar"
           }
          ],
          "carpet": [
           {
            "aaxis": {
             "endlinecolor": "#2a3f5f",
             "gridcolor": "white",
             "linecolor": "white",
             "minorgridcolor": "white",
             "startlinecolor": "#2a3f5f"
            },
            "baxis": {
             "endlinecolor": "#2a3f5f",
             "gridcolor": "white",
             "linecolor": "white",
             "minorgridcolor": "white",
             "startlinecolor": "#2a3f5f"
            },
            "type": "carpet"
           }
          ],
          "choropleth": [
           {
            "colorbar": {
             "outlinewidth": 0,
             "ticks": ""
            },
            "type": "choropleth"
           }
          ],
          "contour": [
           {
            "colorbar": {
             "outlinewidth": 0,
             "ticks": ""
            },
            "colorscale": [
             [
              0,
              "#0d0887"
             ],
             [
              0.1111111111111111,
              "#46039f"
             ],
             [
              0.2222222222222222,
              "#7201a8"
             ],
             [
              0.3333333333333333,
              "#9c179e"
             ],
             [
              0.4444444444444444,
              "#bd3786"
             ],
             [
              0.5555555555555556,
              "#d8576b"
             ],
             [
              0.6666666666666666,
              "#ed7953"
             ],
             [
              0.7777777777777778,
              "#fb9f3a"
             ],
             [
              0.8888888888888888,
              "#fdca26"
             ],
             [
              1,
              "#f0f921"
             ]
            ],
            "type": "contour"
           }
          ],
          "contourcarpet": [
           {
            "colorbar": {
             "outlinewidth": 0,
             "ticks": ""
            },
            "type": "contourcarpet"
           }
          ],
          "heatmap": [
           {
            "colorbar": {
             "outlinewidth": 0,
             "ticks": ""
            },
            "colorscale": [
             [
              0,
              "#0d0887"
             ],
             [
              0.1111111111111111,
              "#46039f"
             ],
             [
              0.2222222222222222,
              "#7201a8"
             ],
             [
              0.3333333333333333,
              "#9c179e"
             ],
             [
              0.4444444444444444,
              "#bd3786"
             ],
             [
              0.5555555555555556,
              "#d8576b"
             ],
             [
              0.6666666666666666,
              "#ed7953"
             ],
             [
              0.7777777777777778,
              "#fb9f3a"
             ],
             [
              0.8888888888888888,
              "#fdca26"
             ],
             [
              1,
              "#f0f921"
             ]
            ],
            "type": "heatmap"
           }
          ],
          "heatmapgl": [
           {
            "colorbar": {
             "outlinewidth": 0,
             "ticks": ""
            },
            "colorscale": [
             [
              0,
              "#0d0887"
             ],
             [
              0.1111111111111111,
              "#46039f"
             ],
             [
              0.2222222222222222,
              "#7201a8"
             ],
             [
              0.3333333333333333,
              "#9c179e"
             ],
             [
              0.4444444444444444,
              "#bd3786"
             ],
             [
              0.5555555555555556,
              "#d8576b"
             ],
             [
              0.6666666666666666,
              "#ed7953"
             ],
             [
              0.7777777777777778,
              "#fb9f3a"
             ],
             [
              0.8888888888888888,
              "#fdca26"
             ],
             [
              1,
              "#f0f921"
             ]
            ],
            "type": "heatmapgl"
           }
          ],
          "histogram": [
           {
            "marker": {
             "pattern": {
              "fillmode": "overlay",
              "size": 10,
              "solidity": 0.2
             }
            },
            "type": "histogram"
           }
          ],
          "histogram2d": [
           {
            "colorbar": {
             "outlinewidth": 0,
             "ticks": ""
            },
            "colorscale": [
             [
              0,
              "#0d0887"
             ],
             [
              0.1111111111111111,
              "#46039f"
             ],
             [
              0.2222222222222222,
              "#7201a8"
             ],
             [
              0.3333333333333333,
              "#9c179e"
             ],
             [
              0.4444444444444444,
              "#bd3786"
             ],
             [
              0.5555555555555556,
              "#d8576b"
             ],
             [
              0.6666666666666666,
              "#ed7953"
             ],
             [
              0.7777777777777778,
              "#fb9f3a"
             ],
             [
              0.8888888888888888,
              "#fdca26"
             ],
             [
              1,
              "#f0f921"
             ]
            ],
            "type": "histogram2d"
           }
          ],
          "histogram2dcontour": [
           {
            "colorbar": {
             "outlinewidth": 0,
             "ticks": ""
            },
            "colorscale": [
             [
              0,
              "#0d0887"
             ],
             [
              0.1111111111111111,
              "#46039f"
             ],
             [
              0.2222222222222222,
              "#7201a8"
             ],
             [
              0.3333333333333333,
              "#9c179e"
             ],
             [
              0.4444444444444444,
              "#bd3786"
             ],
             [
              0.5555555555555556,
              "#d8576b"
             ],
             [
              0.6666666666666666,
              "#ed7953"
             ],
             [
              0.7777777777777778,
              "#fb9f3a"
             ],
             [
              0.8888888888888888,
              "#fdca26"
             ],
             [
              1,
              "#f0f921"
             ]
            ],
            "type": "histogram2dcontour"
           }
          ],
          "mesh3d": [
           {
            "colorbar": {
             "outlinewidth": 0,
             "ticks": ""
            },
            "type": "mesh3d"
           }
          ],
          "parcoords": [
           {
            "line": {
             "colorbar": {
              "outlinewidth": 0,
              "ticks": ""
             }
            },
            "type": "parcoords"
           }
          ],
          "pie": [
           {
            "automargin": true,
            "type": "pie"
           }
          ],
          "scatter": [
           {
            "fillpattern": {
             "fillmode": "overlay",
             "size": 10,
             "solidity": 0.2
            },
            "type": "scatter"
           }
          ],
          "scatter3d": [
           {
            "line": {
             "colorbar": {
              "outlinewidth": 0,
              "ticks": ""
             }
            },
            "marker": {
             "colorbar": {
              "outlinewidth": 0,
              "ticks": ""
             }
            },
            "type": "scatter3d"
           }
          ],
          "scattercarpet": [
           {
            "marker": {
             "colorbar": {
              "outlinewidth": 0,
              "ticks": ""
             }
            },
            "type": "scattercarpet"
           }
          ],
          "scattergeo": [
           {
            "marker": {
             "colorbar": {
              "outlinewidth": 0,
              "ticks": ""
             }
            },
            "type": "scattergeo"
           }
          ],
          "scattergl": [
           {
            "marker": {
             "colorbar": {
              "outlinewidth": 0,
              "ticks": ""
             }
            },
            "type": "scattergl"
           }
          ],
          "scattermapbox": [
           {
            "marker": {
             "colorbar": {
              "outlinewidth": 0,
              "ticks": ""
             }
            },
            "type": "scattermapbox"
           }
          ],
          "scatterpolar": [
           {
            "marker": {
             "colorbar": {
              "outlinewidth": 0,
              "ticks": ""
             }
            },
            "type": "scatterpolar"
           }
          ],
          "scatterpolargl": [
           {
            "marker": {
             "colorbar": {
              "outlinewidth": 0,
              "ticks": ""
             }
            },
            "type": "scatterpolargl"
           }
          ],
          "scatterternary": [
           {
            "marker": {
             "colorbar": {
              "outlinewidth": 0,
              "ticks": ""
             }
            },
            "type": "scatterternary"
           }
          ],
          "surface": [
           {
            "colorbar": {
             "outlinewidth": 0,
             "ticks": ""
            },
            "colorscale": [
             [
              0,
              "#0d0887"
             ],
             [
              0.1111111111111111,
              "#46039f"
             ],
             [
              0.2222222222222222,
              "#7201a8"
             ],
             [
              0.3333333333333333,
              "#9c179e"
             ],
             [
              0.4444444444444444,
              "#bd3786"
             ],
             [
              0.5555555555555556,
              "#d8576b"
             ],
             [
              0.6666666666666666,
              "#ed7953"
             ],
             [
              0.7777777777777778,
              "#fb9f3a"
             ],
             [
              0.8888888888888888,
              "#fdca26"
             ],
             [
              1,
              "#f0f921"
             ]
            ],
            "type": "surface"
           }
          ],
          "table": [
           {
            "cells": {
             "fill": {
              "color": "#EBF0F8"
             },
             "line": {
              "color": "white"
             }
            },
            "header": {
             "fill": {
              "color": "#C8D4E3"
             },
             "line": {
              "color": "white"
             }
            },
            "type": "table"
           }
          ]
         },
         "layout": {
          "annotationdefaults": {
           "arrowcolor": "#2a3f5f",
           "arrowhead": 0,
           "arrowwidth": 1
          },
          "autotypenumbers": "strict",
          "coloraxis": {
           "colorbar": {
            "outlinewidth": 0,
            "ticks": ""
           }
          },
          "colorscale": {
           "diverging": [
            [
             0,
             "#8e0152"
            ],
            [
             0.1,
             "#c51b7d"
            ],
            [
             0.2,
             "#de77ae"
            ],
            [
             0.3,
             "#f1b6da"
            ],
            [
             0.4,
             "#fde0ef"
            ],
            [
             0.5,
             "#f7f7f7"
            ],
            [
             0.6,
             "#e6f5d0"
            ],
            [
             0.7,
             "#b8e186"
            ],
            [
             0.8,
             "#7fbc41"
            ],
            [
             0.9,
             "#4d9221"
            ],
            [
             1,
             "#276419"
            ]
           ],
           "sequential": [
            [
             0,
             "#0d0887"
            ],
            [
             0.1111111111111111,
             "#46039f"
            ],
            [
             0.2222222222222222,
             "#7201a8"
            ],
            [
             0.3333333333333333,
             "#9c179e"
            ],
            [
             0.4444444444444444,
             "#bd3786"
            ],
            [
             0.5555555555555556,
             "#d8576b"
            ],
            [
             0.6666666666666666,
             "#ed7953"
            ],
            [
             0.7777777777777778,
             "#fb9f3a"
            ],
            [
             0.8888888888888888,
             "#fdca26"
            ],
            [
             1,
             "#f0f921"
            ]
           ],
           "sequentialminus": [
            [
             0,
             "#0d0887"
            ],
            [
             0.1111111111111111,
             "#46039f"
            ],
            [
             0.2222222222222222,
             "#7201a8"
            ],
            [
             0.3333333333333333,
             "#9c179e"
            ],
            [
             0.4444444444444444,
             "#bd3786"
            ],
            [
             0.5555555555555556,
             "#d8576b"
            ],
            [
             0.6666666666666666,
             "#ed7953"
            ],
            [
             0.7777777777777778,
             "#fb9f3a"
            ],
            [
             0.8888888888888888,
             "#fdca26"
            ],
            [
             1,
             "#f0f921"
            ]
           ]
          },
          "colorway": [
           "#636efa",
           "#EF553B",
           "#00cc96",
           "#ab63fa",
           "#FFA15A",
           "#19d3f3",
           "#FF6692",
           "#B6E880",
           "#FF97FF",
           "#FECB52"
          ],
          "font": {
           "color": "#2a3f5f"
          },
          "geo": {
           "bgcolor": "white",
           "lakecolor": "white",
           "landcolor": "#E5ECF6",
           "showlakes": true,
           "showland": true,
           "subunitcolor": "white"
          },
          "hoverlabel": {
           "align": "left"
          },
          "hovermode": "closest",
          "mapbox": {
           "style": "light"
          },
          "paper_bgcolor": "white",
          "plot_bgcolor": "#E5ECF6",
          "polar": {
           "angularaxis": {
            "gridcolor": "white",
            "linecolor": "white",
            "ticks": ""
           },
           "bgcolor": "#E5ECF6",
           "radialaxis": {
            "gridcolor": "white",
            "linecolor": "white",
            "ticks": ""
           }
          },
          "scene": {
           "xaxis": {
            "backgroundcolor": "#E5ECF6",
            "gridcolor": "white",
            "gridwidth": 2,
            "linecolor": "white",
            "showbackground": true,
            "ticks": "",
            "zerolinecolor": "white"
           },
           "yaxis": {
            "backgroundcolor": "#E5ECF6",
            "gridcolor": "white",
            "gridwidth": 2,
            "linecolor": "white",
            "showbackground": true,
            "ticks": "",
            "zerolinecolor": "white"
           },
           "zaxis": {
            "backgroundcolor": "#E5ECF6",
            "gridcolor": "white",
            "gridwidth": 2,
            "linecolor": "white",
            "showbackground": true,
            "ticks": "",
            "zerolinecolor": "white"
           }
          },
          "shapedefaults": {
           "line": {
            "color": "#2a3f5f"
           }
          },
          "ternary": {
           "aaxis": {
            "gridcolor": "white",
            "linecolor": "white",
            "ticks": ""
           },
           "baxis": {
            "gridcolor": "white",
            "linecolor": "white",
            "ticks": ""
           },
           "bgcolor": "#E5ECF6",
           "caxis": {
            "gridcolor": "white",
            "linecolor": "white",
            "ticks": ""
           }
          },
          "title": {
           "x": 0.05
          },
          "xaxis": {
           "automargin": true,
           "gridcolor": "white",
           "linecolor": "white",
           "ticks": "",
           "title": {
            "standoff": 15
           },
           "zerolinecolor": "white",
           "zerolinewidth": 2
          },
          "yaxis": {
           "automargin": true,
           "gridcolor": "white",
           "linecolor": "white",
           "ticks": "",
           "title": {
            "standoff": 15
           },
           "zerolinecolor": "white",
           "zerolinewidth": 2
          }
         }
        },
        "title": {
         "text": "Number of highest rated iphones"
        },
        "xaxis": {
         "anchor": "y",
         "domain": [
          0,
          1
         ],
         "title": {
          "text": "x"
         }
        },
        "yaxis": {
         "anchor": "x",
         "domain": [
          0,
          1
         ],
         "title": {
          "text": "Number Of Ratings"
         }
        }
       }
      }
     },
     "metadata": {},
     "output_type": "display_data"
    }
   ],
   "source": [
    "iphones = highest_rated[\"Product Name\"].value_counts()\n",
    "labels = iphones.index\n",
    "counts = highest_rated[\"Number Of Ratings\"]\n",
    "bar_graph = px.bar(highest_rated, x=labels, y=counts,\n",
    "                   color=\"Product Name\",title = \"Number of highest rated iphones\")\n",
    "bar_graph.show()"
   ]
  },
  {
   "cell_type": "code",
   "execution_count": 11,
   "metadata": {},
   "outputs": [
    {
     "data": {
      "application/vnd.plotly.v1+json": {
       "config": {
        "plotlyServerURL": "https://plot.ly"
       },
       "data": [
        {
         "alignmentgroup": "True",
         "hovertemplate": "Product Name=APPLE iPhone 11 Pro Max (Midnight Green, 64 GB)<br>x=%{x}<br>Number Of Reviews=%{y}<extra></extra>",
         "legendgroup": "APPLE iPhone 11 Pro Max (Midnight Green, 64 GB)",
         "marker": {
          "color": "#636efa",
          "pattern": {
           "shape": ""
          }
         },
         "name": "APPLE iPhone 11 Pro Max (Midnight Green, 64 GB)",
         "offsetgroup": "APPLE iPhone 11 Pro Max (Midnight Green, 64 GB)",
         "orientation": "v",
         "showlegend": true,
         "textposition": "auto",
         "type": "bar",
         "x": [
          "APPLE iPhone 11 Pro Max (Midnight Green, 64 GB)"
         ],
         "xaxis": "x",
         "y": [
          101
         ],
         "yaxis": "y"
        },
        {
         "alignmentgroup": "True",
         "hovertemplate": "Product Name=APPLE iPhone 11 Pro Max (Space Grey, 64 GB)<br>x=%{x}<br>Number Of Reviews=%{y}<extra></extra>",
         "legendgroup": "APPLE iPhone 11 Pro Max (Space Grey, 64 GB)",
         "marker": {
          "color": "#EF553B",
          "pattern": {
           "shape": ""
          }
         },
         "name": "APPLE iPhone 11 Pro Max (Space Grey, 64 GB)",
         "offsetgroup": "APPLE iPhone 11 Pro Max (Space Grey, 64 GB)",
         "orientation": "v",
         "showlegend": true,
         "textposition": "auto",
         "type": "bar",
         "x": [
          "APPLE iPhone 11 Pro Max (Space Grey, 64 GB)"
         ],
         "xaxis": "x",
         "y": [
          101
         ],
         "yaxis": "y"
        },
        {
         "alignmentgroup": "True",
         "hovertemplate": "Product Name=APPLE iPhone 11 Pro Max (Midnight Green, 256 GB)<br>x=%{x}<br>Number Of Reviews=%{y}<extra></extra>",
         "legendgroup": "APPLE iPhone 11 Pro Max (Midnight Green, 256 GB)",
         "marker": {
          "color": "#00cc96",
          "pattern": {
           "shape": ""
          }
         },
         "name": "APPLE iPhone 11 Pro Max (Midnight Green, 256 GB)",
         "offsetgroup": "APPLE iPhone 11 Pro Max (Midnight Green, 256 GB)",
         "orientation": "v",
         "showlegend": true,
         "textposition": "auto",
         "type": "bar",
         "x": [
          "APPLE iPhone 11 Pro Max (Midnight Green, 256 GB)"
         ],
         "xaxis": "x",
         "y": [
          101
         ],
         "yaxis": "y"
        },
        {
         "alignmentgroup": "True",
         "hovertemplate": "Product Name=APPLE iPhone 11 Pro Max (Gold, 64 GB)<br>x=%{x}<br>Number Of Reviews=%{y}<extra></extra>",
         "legendgroup": "APPLE iPhone 11 Pro Max (Gold, 64 GB)",
         "marker": {
          "color": "#ab63fa",
          "pattern": {
           "shape": ""
          }
         },
         "name": "APPLE iPhone 11 Pro Max (Gold, 64 GB)",
         "offsetgroup": "APPLE iPhone 11 Pro Max (Gold, 64 GB)",
         "orientation": "v",
         "showlegend": true,
         "textposition": "auto",
         "type": "bar",
         "x": [
          "APPLE iPhone 11 Pro Max (Gold, 64 GB)"
         ],
         "xaxis": "x",
         "y": [
          101
         ],
         "yaxis": "y"
        },
        {
         "alignmentgroup": "True",
         "hovertemplate": "Product Name=APPLE iPhone 11 Pro Max (Gold, 256 GB)<br>x=%{x}<br>Number Of Reviews=%{y}<extra></extra>",
         "legendgroup": "APPLE iPhone 11 Pro Max (Gold, 256 GB)",
         "marker": {
          "color": "#FFA15A",
          "pattern": {
           "shape": ""
          }
         },
         "name": "APPLE iPhone 11 Pro Max (Gold, 256 GB)",
         "offsetgroup": "APPLE iPhone 11 Pro Max (Gold, 256 GB)",
         "orientation": "v",
         "showlegend": true,
         "textposition": "auto",
         "type": "bar",
         "x": [
          "APPLE iPhone 11 Pro Max (Gold, 256 GB)"
         ],
         "xaxis": "x",
         "y": [
          101
         ],
         "yaxis": "y"
        },
        {
         "alignmentgroup": "True",
         "hovertemplate": "Product Name=APPLE iPhone 8 Plus (Gold, 64 GB)<br>x=%{x}<br>Number Of Reviews=%{y}<extra></extra>",
         "legendgroup": "APPLE iPhone 8 Plus (Gold, 64 GB)",
         "marker": {
          "color": "#19d3f3",
          "pattern": {
           "shape": ""
          }
         },
         "name": "APPLE iPhone 8 Plus (Gold, 64 GB)",
         "offsetgroup": "APPLE iPhone 8 Plus (Gold, 64 GB)",
         "orientation": "v",
         "showlegend": true,
         "textposition": "auto",
         "type": "bar",
         "x": [
          "APPLE iPhone 8 Plus (Gold, 64 GB)"
         ],
         "xaxis": "x",
         "y": [
          356
         ],
         "yaxis": "y"
        },
        {
         "alignmentgroup": "True",
         "hovertemplate": "Product Name=APPLE iPhone 12 (White, 128 GB)<br>x=%{x}<br>Number Of Reviews=%{y}<extra></extra>",
         "legendgroup": "APPLE iPhone 12 (White, 128 GB)",
         "marker": {
          "color": "#FF6692",
          "pattern": {
           "shape": ""
          }
         },
         "name": "APPLE iPhone 12 (White, 128 GB)",
         "offsetgroup": "APPLE iPhone 12 (White, 128 GB)",
         "orientation": "v",
         "showlegend": true,
         "textposition": "auto",
         "type": "bar",
         "x": [
          "APPLE iPhone 12 (White, 128 GB)"
         ],
         "xaxis": "x",
         "y": [
          180
         ],
         "yaxis": "y"
        },
        {
         "alignmentgroup": "True",
         "hovertemplate": "Product Name=APPLE iPhone 12 Pro Max (Graphite, 128 GB)<br>x=%{x}<br>Number Of Reviews=%{y}<extra></extra>",
         "legendgroup": "APPLE iPhone 12 Pro Max (Graphite, 128 GB)",
         "marker": {
          "color": "#B6E880",
          "pattern": {
           "shape": ""
          }
         },
         "name": "APPLE iPhone 12 Pro Max (Graphite, 128 GB)",
         "offsetgroup": "APPLE iPhone 12 Pro Max (Graphite, 128 GB)",
         "orientation": "v",
         "showlegend": true,
         "textposition": "auto",
         "type": "bar",
         "x": [
          "APPLE iPhone 12 Pro Max (Graphite, 128 GB)"
         ],
         "xaxis": "x",
         "y": [
          45
         ],
         "yaxis": "y"
        },
        {
         "alignmentgroup": "True",
         "hovertemplate": "Product Name=APPLE iPhone 12 (Black, 128 GB)<br>x=%{x}<br>Number Of Reviews=%{y}<extra></extra>",
         "legendgroup": "APPLE iPhone 12 (Black, 128 GB)",
         "marker": {
          "color": "#FF97FF",
          "pattern": {
           "shape": ""
          }
         },
         "name": "APPLE iPhone 12 (Black, 128 GB)",
         "offsetgroup": "APPLE iPhone 12 (Black, 128 GB)",
         "orientation": "v",
         "showlegend": true,
         "textposition": "auto",
         "type": "bar",
         "x": [
          "APPLE iPhone 12 (Black, 128 GB)"
         ],
         "xaxis": "x",
         "y": [
          180
         ],
         "yaxis": "y"
        },
        {
         "alignmentgroup": "True",
         "hovertemplate": "Product Name=APPLE iPhone 12 (Blue, 128 GB)<br>x=%{x}<br>Number Of Reviews=%{y}<extra></extra>",
         "legendgroup": "APPLE iPhone 12 (Blue, 128 GB)",
         "marker": {
          "color": "#FECB52",
          "pattern": {
           "shape": ""
          }
         },
         "name": "APPLE iPhone 12 (Blue, 128 GB)",
         "offsetgroup": "APPLE iPhone 12 (Blue, 128 GB)",
         "orientation": "v",
         "showlegend": true,
         "textposition": "auto",
         "type": "bar",
         "x": [
          "APPLE iPhone 12 (Blue, 128 GB)"
         ],
         "xaxis": "x",
         "y": [
          180
         ],
         "yaxis": "y"
        }
       ],
       "layout": {
        "barmode": "relative",
        "legend": {
         "title": {
          "text": "Product Name"
         },
         "tracegroupgap": 0
        },
        "template": {
         "data": {
          "bar": [
           {
            "error_x": {
             "color": "#2a3f5f"
            },
            "error_y": {
             "color": "#2a3f5f"
            },
            "marker": {
             "line": {
              "color": "#E5ECF6",
              "width": 0.5
             },
             "pattern": {
              "fillmode": "overlay",
              "size": 10,
              "solidity": 0.2
             }
            },
            "type": "bar"
           }
          ],
          "barpolar": [
           {
            "marker": {
             "line": {
              "color": "#E5ECF6",
              "width": 0.5
             },
             "pattern": {
              "fillmode": "overlay",
              "size": 10,
              "solidity": 0.2
             }
            },
            "type": "barpolar"
           }
          ],
          "carpet": [
           {
            "aaxis": {
             "endlinecolor": "#2a3f5f",
             "gridcolor": "white",
             "linecolor": "white",
             "minorgridcolor": "white",
             "startlinecolor": "#2a3f5f"
            },
            "baxis": {
             "endlinecolor": "#2a3f5f",
             "gridcolor": "white",
             "linecolor": "white",
             "minorgridcolor": "white",
             "startlinecolor": "#2a3f5f"
            },
            "type": "carpet"
           }
          ],
          "choropleth": [
           {
            "colorbar": {
             "outlinewidth": 0,
             "ticks": ""
            },
            "type": "choropleth"
           }
          ],
          "contour": [
           {
            "colorbar": {
             "outlinewidth": 0,
             "ticks": ""
            },
            "colorscale": [
             [
              0,
              "#0d0887"
             ],
             [
              0.1111111111111111,
              "#46039f"
             ],
             [
              0.2222222222222222,
              "#7201a8"
             ],
             [
              0.3333333333333333,
              "#9c179e"
             ],
             [
              0.4444444444444444,
              "#bd3786"
             ],
             [
              0.5555555555555556,
              "#d8576b"
             ],
             [
              0.6666666666666666,
              "#ed7953"
             ],
             [
              0.7777777777777778,
              "#fb9f3a"
             ],
             [
              0.8888888888888888,
              "#fdca26"
             ],
             [
              1,
              "#f0f921"
             ]
            ],
            "type": "contour"
           }
          ],
          "contourcarpet": [
           {
            "colorbar": {
             "outlinewidth": 0,
             "ticks": ""
            },
            "type": "contourcarpet"
           }
          ],
          "heatmap": [
           {
            "colorbar": {
             "outlinewidth": 0,
             "ticks": ""
            },
            "colorscale": [
             [
              0,
              "#0d0887"
             ],
             [
              0.1111111111111111,
              "#46039f"
             ],
             [
              0.2222222222222222,
              "#7201a8"
             ],
             [
              0.3333333333333333,
              "#9c179e"
             ],
             [
              0.4444444444444444,
              "#bd3786"
             ],
             [
              0.5555555555555556,
              "#d8576b"
             ],
             [
              0.6666666666666666,
              "#ed7953"
             ],
             [
              0.7777777777777778,
              "#fb9f3a"
             ],
             [
              0.8888888888888888,
              "#fdca26"
             ],
             [
              1,
              "#f0f921"
             ]
            ],
            "type": "heatmap"
           }
          ],
          "heatmapgl": [
           {
            "colorbar": {
             "outlinewidth": 0,
             "ticks": ""
            },
            "colorscale": [
             [
              0,
              "#0d0887"
             ],
             [
              0.1111111111111111,
              "#46039f"
             ],
             [
              0.2222222222222222,
              "#7201a8"
             ],
             [
              0.3333333333333333,
              "#9c179e"
             ],
             [
              0.4444444444444444,
              "#bd3786"
             ],
             [
              0.5555555555555556,
              "#d8576b"
             ],
             [
              0.6666666666666666,
              "#ed7953"
             ],
             [
              0.7777777777777778,
              "#fb9f3a"
             ],
             [
              0.8888888888888888,
              "#fdca26"
             ],
             [
              1,
              "#f0f921"
             ]
            ],
            "type": "heatmapgl"
           }
          ],
          "histogram": [
           {
            "marker": {
             "pattern": {
              "fillmode": "overlay",
              "size": 10,
              "solidity": 0.2
             }
            },
            "type": "histogram"
           }
          ],
          "histogram2d": [
           {
            "colorbar": {
             "outlinewidth": 0,
             "ticks": ""
            },
            "colorscale": [
             [
              0,
              "#0d0887"
             ],
             [
              0.1111111111111111,
              "#46039f"
             ],
             [
              0.2222222222222222,
              "#7201a8"
             ],
             [
              0.3333333333333333,
              "#9c179e"
             ],
             [
              0.4444444444444444,
              "#bd3786"
             ],
             [
              0.5555555555555556,
              "#d8576b"
             ],
             [
              0.6666666666666666,
              "#ed7953"
             ],
             [
              0.7777777777777778,
              "#fb9f3a"
             ],
             [
              0.8888888888888888,
              "#fdca26"
             ],
             [
              1,
              "#f0f921"
             ]
            ],
            "type": "histogram2d"
           }
          ],
          "histogram2dcontour": [
           {
            "colorbar": {
             "outlinewidth": 0,
             "ticks": ""
            },
            "colorscale": [
             [
              0,
              "#0d0887"
             ],
             [
              0.1111111111111111,
              "#46039f"
             ],
             [
              0.2222222222222222,
              "#7201a8"
             ],
             [
              0.3333333333333333,
              "#9c179e"
             ],
             [
              0.4444444444444444,
              "#bd3786"
             ],
             [
              0.5555555555555556,
              "#d8576b"
             ],
             [
              0.6666666666666666,
              "#ed7953"
             ],
             [
              0.7777777777777778,
              "#fb9f3a"
             ],
             [
              0.8888888888888888,
              "#fdca26"
             ],
             [
              1,
              "#f0f921"
             ]
            ],
            "type": "histogram2dcontour"
           }
          ],
          "mesh3d": [
           {
            "colorbar": {
             "outlinewidth": 0,
             "ticks": ""
            },
            "type": "mesh3d"
           }
          ],
          "parcoords": [
           {
            "line": {
             "colorbar": {
              "outlinewidth": 0,
              "ticks": ""
             }
            },
            "type": "parcoords"
           }
          ],
          "pie": [
           {
            "automargin": true,
            "type": "pie"
           }
          ],
          "scatter": [
           {
            "fillpattern": {
             "fillmode": "overlay",
             "size": 10,
             "solidity": 0.2
            },
            "type": "scatter"
           }
          ],
          "scatter3d": [
           {
            "line": {
             "colorbar": {
              "outlinewidth": 0,
              "ticks": ""
             }
            },
            "marker": {
             "colorbar": {
              "outlinewidth": 0,
              "ticks": ""
             }
            },
            "type": "scatter3d"
           }
          ],
          "scattercarpet": [
           {
            "marker": {
             "colorbar": {
              "outlinewidth": 0,
              "ticks": ""
             }
            },
            "type": "scattercarpet"
           }
          ],
          "scattergeo": [
           {
            "marker": {
             "colorbar": {
              "outlinewidth": 0,
              "ticks": ""
             }
            },
            "type": "scattergeo"
           }
          ],
          "scattergl": [
           {
            "marker": {
             "colorbar": {
              "outlinewidth": 0,
              "ticks": ""
             }
            },
            "type": "scattergl"
           }
          ],
          "scattermapbox": [
           {
            "marker": {
             "colorbar": {
              "outlinewidth": 0,
              "ticks": ""
             }
            },
            "type": "scattermapbox"
           }
          ],
          "scatterpolar": [
           {
            "marker": {
             "colorbar": {
              "outlinewidth": 0,
              "ticks": ""
             }
            },
            "type": "scatterpolar"
           }
          ],
          "scatterpolargl": [
           {
            "marker": {
             "colorbar": {
              "outlinewidth": 0,
              "ticks": ""
             }
            },
            "type": "scatterpolargl"
           }
          ],
          "scatterternary": [
           {
            "marker": {
             "colorbar": {
              "outlinewidth": 0,
              "ticks": ""
             }
            },
            "type": "scatterternary"
           }
          ],
          "surface": [
           {
            "colorbar": {
             "outlinewidth": 0,
             "ticks": ""
            },
            "colorscale": [
             [
              0,
              "#0d0887"
             ],
             [
              0.1111111111111111,
              "#46039f"
             ],
             [
              0.2222222222222222,
              "#7201a8"
             ],
             [
              0.3333333333333333,
              "#9c179e"
             ],
             [
              0.4444444444444444,
              "#bd3786"
             ],
             [
              0.5555555555555556,
              "#d8576b"
             ],
             [
              0.6666666666666666,
              "#ed7953"
             ],
             [
              0.7777777777777778,
              "#fb9f3a"
             ],
             [
              0.8888888888888888,
              "#fdca26"
             ],
             [
              1,
              "#f0f921"
             ]
            ],
            "type": "surface"
           }
          ],
          "table": [
           {
            "cells": {
             "fill": {
              "color": "#EBF0F8"
             },
             "line": {
              "color": "white"
             }
            },
            "header": {
             "fill": {
              "color": "#C8D4E3"
             },
             "line": {
              "color": "white"
             }
            },
            "type": "table"
           }
          ]
         },
         "layout": {
          "annotationdefaults": {
           "arrowcolor": "#2a3f5f",
           "arrowhead": 0,
           "arrowwidth": 1
          },
          "autotypenumbers": "strict",
          "coloraxis": {
           "colorbar": {
            "outlinewidth": 0,
            "ticks": ""
           }
          },
          "colorscale": {
           "diverging": [
            [
             0,
             "#8e0152"
            ],
            [
             0.1,
             "#c51b7d"
            ],
            [
             0.2,
             "#de77ae"
            ],
            [
             0.3,
             "#f1b6da"
            ],
            [
             0.4,
             "#fde0ef"
            ],
            [
             0.5,
             "#f7f7f7"
            ],
            [
             0.6,
             "#e6f5d0"
            ],
            [
             0.7,
             "#b8e186"
            ],
            [
             0.8,
             "#7fbc41"
            ],
            [
             0.9,
             "#4d9221"
            ],
            [
             1,
             "#276419"
            ]
           ],
           "sequential": [
            [
             0,
             "#0d0887"
            ],
            [
             0.1111111111111111,
             "#46039f"
            ],
            [
             0.2222222222222222,
             "#7201a8"
            ],
            [
             0.3333333333333333,
             "#9c179e"
            ],
            [
             0.4444444444444444,
             "#bd3786"
            ],
            [
             0.5555555555555556,
             "#d8576b"
            ],
            [
             0.6666666666666666,
             "#ed7953"
            ],
            [
             0.7777777777777778,
             "#fb9f3a"
            ],
            [
             0.8888888888888888,
             "#fdca26"
            ],
            [
             1,
             "#f0f921"
            ]
           ],
           "sequentialminus": [
            [
             0,
             "#0d0887"
            ],
            [
             0.1111111111111111,
             "#46039f"
            ],
            [
             0.2222222222222222,
             "#7201a8"
            ],
            [
             0.3333333333333333,
             "#9c179e"
            ],
            [
             0.4444444444444444,
             "#bd3786"
            ],
            [
             0.5555555555555556,
             "#d8576b"
            ],
            [
             0.6666666666666666,
             "#ed7953"
            ],
            [
             0.7777777777777778,
             "#fb9f3a"
            ],
            [
             0.8888888888888888,
             "#fdca26"
            ],
            [
             1,
             "#f0f921"
            ]
           ]
          },
          "colorway": [
           "#636efa",
           "#EF553B",
           "#00cc96",
           "#ab63fa",
           "#FFA15A",
           "#19d3f3",
           "#FF6692",
           "#B6E880",
           "#FF97FF",
           "#FECB52"
          ],
          "font": {
           "color": "#2a3f5f"
          },
          "geo": {
           "bgcolor": "white",
           "lakecolor": "white",
           "landcolor": "#E5ECF6",
           "showlakes": true,
           "showland": true,
           "subunitcolor": "white"
          },
          "hoverlabel": {
           "align": "left"
          },
          "hovermode": "closest",
          "mapbox": {
           "style": "light"
          },
          "paper_bgcolor": "white",
          "plot_bgcolor": "#E5ECF6",
          "polar": {
           "angularaxis": {
            "gridcolor": "white",
            "linecolor": "white",
            "ticks": ""
           },
           "bgcolor": "#E5ECF6",
           "radialaxis": {
            "gridcolor": "white",
            "linecolor": "white",
            "ticks": ""
           }
          },
          "scene": {
           "xaxis": {
            "backgroundcolor": "#E5ECF6",
            "gridcolor": "white",
            "gridwidth": 2,
            "linecolor": "white",
            "showbackground": true,
            "ticks": "",
            "zerolinecolor": "white"
           },
           "yaxis": {
            "backgroundcolor": "#E5ECF6",
            "gridcolor": "white",
            "gridwidth": 2,
            "linecolor": "white",
            "showbackground": true,
            "ticks": "",
            "zerolinecolor": "white"
           },
           "zaxis": {
            "backgroundcolor": "#E5ECF6",
            "gridcolor": "white",
            "gridwidth": 2,
            "linecolor": "white",
            "showbackground": true,
            "ticks": "",
            "zerolinecolor": "white"
           }
          },
          "shapedefaults": {
           "line": {
            "color": "#2a3f5f"
           }
          },
          "ternary": {
           "aaxis": {
            "gridcolor": "white",
            "linecolor": "white",
            "ticks": ""
           },
           "baxis": {
            "gridcolor": "white",
            "linecolor": "white",
            "ticks": ""
           },
           "bgcolor": "#E5ECF6",
           "caxis": {
            "gridcolor": "white",
            "linecolor": "white",
            "ticks": ""
           }
          },
          "title": {
           "x": 0.05
          },
          "xaxis": {
           "automargin": true,
           "gridcolor": "white",
           "linecolor": "white",
           "ticks": "",
           "title": {
            "standoff": 15
           },
           "zerolinecolor": "white",
           "zerolinewidth": 2
          },
          "yaxis": {
           "automargin": true,
           "gridcolor": "white",
           "linecolor": "white",
           "ticks": "",
           "title": {
            "standoff": 15
           },
           "zerolinecolor": "white",
           "zerolinewidth": 2
          }
         }
        },
        "title": {
         "text": "Number of highest reviewed iphones"
        },
        "xaxis": {
         "anchor": "y",
         "domain": [
          0,
          1
         ],
         "title": {
          "text": "x"
         }
        },
        "yaxis": {
         "anchor": "x",
         "domain": [
          0,
          1
         ],
         "title": {
          "text": "Number Of Reviews"
         }
        }
       }
      }
     },
     "metadata": {},
     "output_type": "display_data"
    }
   ],
   "source": [
    "iphones = highest_rated[\"Product Name\"].value_counts()\n",
    "labels = iphones.index\n",
    "counts = highest_rated[\"Number Of Reviews\"]\n",
    "bar_graph = px.bar(highest_rated, x=labels, y=counts,color=\"Product Name\",title = \"Number of highest reviewed iphones\")\n",
    "bar_graph.show()"
   ]
  },
  {
   "cell_type": "code",
   "execution_count": 21,
   "metadata": {},
   "outputs": [
    {
     "data": {
      "application/vnd.plotly.v1+json": {
       "config": {
        "plotlyServerURL": "https://plot.ly"
       },
       "data": [
        {
         "hovertemplate": "Product Name=APPLE iPhone 8 Plus (Gold, 64 GB)<br>Sale Price=%{x}<br>Number Of Ratings=%{y}<br>Discount Percentage=%{marker.size}<extra></extra>",
         "legendgroup": "APPLE iPhone 8 Plus (Gold, 64 GB)",
         "marker": {
          "color": "#636efa",
          "size": [
           0
          ],
          "sizemode": "area",
          "sizeref": 0.0725,
          "symbol": "circle"
         },
         "mode": "markers",
         "name": "APPLE iPhone 8 Plus (Gold, 64 GB)",
         "orientation": "v",
         "showlegend": true,
         "type": "scatter",
         "x": [
          49900
         ],
         "xaxis": "x",
         "y": [
          3431
         ],
         "yaxis": "y"
        },
        {
         "hovertemplate": "Product Name=APPLE iPhone 8 Plus (Gold, 64 GB)<extra></extra>",
         "legendgroup": "APPLE iPhone 8 Plus (Gold, 64 GB)",
         "marker": {
          "color": "#636efa",
          "symbol": "circle"
         },
         "mode": "lines",
         "name": "APPLE iPhone 8 Plus (Gold, 64 GB)",
         "showlegend": false,
         "type": "scatter",
         "xaxis": "x",
         "yaxis": "y"
        },
        {
         "hovertemplate": "Product Name=APPLE iPhone 8 Plus (Space Grey, 256 GB)<br>Sale Price=%{x}<br>Number Of Ratings=%{y}<br>Discount Percentage=%{marker.size}<extra></extra>",
         "legendgroup": "APPLE iPhone 8 Plus (Space Grey, 256 GB)",
         "marker": {
          "color": "#EF553B",
          "size": [
           0
          ],
          "sizemode": "area",
          "sizeref": 0.0725,
          "symbol": "circle"
         },
         "mode": "markers",
         "name": "APPLE iPhone 8 Plus (Space Grey, 256 GB)",
         "orientation": "v",
         "showlegend": true,
         "type": "scatter",
         "x": [
          84900
         ],
         "xaxis": "x",
         "y": [
          3431
         ],
         "yaxis": "y"
        },
        {
         "hovertemplate": "Product Name=APPLE iPhone 8 Plus (Space Grey, 256 GB)<extra></extra>",
         "legendgroup": "APPLE iPhone 8 Plus (Space Grey, 256 GB)",
         "marker": {
          "color": "#EF553B",
          "symbol": "circle"
         },
         "mode": "lines",
         "name": "APPLE iPhone 8 Plus (Space Grey, 256 GB)",
         "showlegend": false,
         "type": "scatter",
         "xaxis": "x",
         "yaxis": "y"
        },
        {
         "hovertemplate": "Product Name=APPLE iPhone 8 Plus (Silver, 256 GB)<br>Sale Price=%{x}<br>Number Of Ratings=%{y}<br>Discount Percentage=%{marker.size}<extra></extra>",
         "legendgroup": "APPLE iPhone 8 Plus (Silver, 256 GB)",
         "marker": {
          "color": "#00cc96",
          "size": [
           0
          ],
          "sizemode": "area",
          "sizeref": 0.0725,
          "symbol": "circle"
         },
         "mode": "markers",
         "name": "APPLE iPhone 8 Plus (Silver, 256 GB)",
         "orientation": "v",
         "showlegend": true,
         "type": "scatter",
         "x": [
          84900
         ],
         "xaxis": "x",
         "y": [
          3431
         ],
         "yaxis": "y"
        },
        {
         "hovertemplate": "Product Name=APPLE iPhone 8 Plus (Silver, 256 GB)<extra></extra>",
         "legendgroup": "APPLE iPhone 8 Plus (Silver, 256 GB)",
         "marker": {
          "color": "#00cc96",
          "symbol": "circle"
         },
         "mode": "lines",
         "name": "APPLE iPhone 8 Plus (Silver, 256 GB)",
         "showlegend": false,
         "type": "scatter",
         "xaxis": "x",
         "yaxis": "y"
        },
        {
         "hovertemplate": "Product Name=APPLE iPhone 8 (Silver, 256 GB)<br>Sale Price=%{x}<br>Number Of Ratings=%{y}<br>Discount Percentage=%{marker.size}<extra></extra>",
         "legendgroup": "APPLE iPhone 8 (Silver, 256 GB)",
         "marker": {
          "color": "#ab63fa",
          "size": [
           0
          ],
          "sizemode": "area",
          "sizeref": 0.0725,
          "symbol": "circle"
         },
         "mode": "markers",
         "name": "APPLE iPhone 8 (Silver, 256 GB)",
         "orientation": "v",
         "showlegend": true,
         "type": "scatter",
         "x": [
          77000
         ],
         "xaxis": "x",
         "y": [
          11202
         ],
         "yaxis": "y"
        },
        {
         "hovertemplate": "Product Name=APPLE iPhone 8 (Silver, 256 GB)<extra></extra>",
         "legendgroup": "APPLE iPhone 8 (Silver, 256 GB)",
         "marker": {
          "color": "#ab63fa",
          "symbol": "circle"
         },
         "mode": "lines",
         "name": "APPLE iPhone 8 (Silver, 256 GB)",
         "showlegend": false,
         "type": "scatter",
         "xaxis": "x",
         "yaxis": "y"
        },
        {
         "hovertemplate": "Product Name=APPLE iPhone 8 (Gold, 256 GB)<br>Sale Price=%{x}<br>Number Of Ratings=%{y}<br>Discount Percentage=%{marker.size}<extra></extra>",
         "legendgroup": "APPLE iPhone 8 (Gold, 256 GB)",
         "marker": {
          "color": "#FFA15A",
          "size": [
           0
          ],
          "sizemode": "area",
          "sizeref": 0.0725,
          "symbol": "circle"
         },
         "mode": "markers",
         "name": "APPLE iPhone 8 (Gold, 256 GB)",
         "orientation": "v",
         "showlegend": true,
         "type": "scatter",
         "x": [
          77000
         ],
         "xaxis": "x",
         "y": [
          11202
         ],
         "yaxis": "y"
        },
        {
         "hovertemplate": "Product Name=APPLE iPhone 8 (Gold, 256 GB)<extra></extra>",
         "legendgroup": "APPLE iPhone 8 (Gold, 256 GB)",
         "marker": {
          "color": "#FFA15A",
          "symbol": "circle"
         },
         "mode": "lines",
         "name": "APPLE iPhone 8 (Gold, 256 GB)",
         "showlegend": false,
         "type": "scatter",
         "xaxis": "x",
         "yaxis": "y"
        },
        {
         "hovertemplate": "Product Name=APPLE iPhone 8 Plus (Silver, 64 GB)<br>Sale Price=%{x}<br>Number Of Ratings=%{y}<br>Discount Percentage=%{marker.size}<extra></extra>",
         "legendgroup": "APPLE iPhone 8 Plus (Silver, 64 GB)",
         "marker": {
          "color": "#19d3f3",
          "size": [
           0
          ],
          "sizemode": "area",
          "sizeref": 0.0725,
          "symbol": "circle"
         },
         "mode": "markers",
         "name": "APPLE iPhone 8 Plus (Silver, 64 GB)",
         "orientation": "v",
         "showlegend": true,
         "type": "scatter",
         "x": [
          49900
         ],
         "xaxis": "x",
         "y": [
          3431
         ],
         "yaxis": "y"
        },
        {
         "hovertemplate": "Product Name=APPLE iPhone 8 Plus (Silver, 64 GB)<extra></extra>",
         "legendgroup": "APPLE iPhone 8 Plus (Silver, 64 GB)",
         "marker": {
          "color": "#19d3f3",
          "symbol": "circle"
         },
         "mode": "lines",
         "name": "APPLE iPhone 8 Plus (Silver, 64 GB)",
         "showlegend": false,
         "type": "scatter",
         "xaxis": "x",
         "yaxis": "y"
        },
        {
         "hovertemplate": "Product Name=APPLE iPhone 8 Plus (Space Grey, 64 GB)<br>Sale Price=%{x}<br>Number Of Ratings=%{y}<br>Discount Percentage=%{marker.size}<extra></extra>",
         "legendgroup": "APPLE iPhone 8 Plus (Space Grey, 64 GB)",
         "marker": {
          "color": "#FF6692",
          "size": [
           0
          ],
          "sizemode": "area",
          "sizeref": 0.0725,
          "symbol": "circle"
         },
         "mode": "markers",
         "name": "APPLE iPhone 8 Plus (Space Grey, 64 GB)",
         "orientation": "v",
         "showlegend": true,
         "type": "scatter",
         "x": [
          49900
         ],
         "xaxis": "x",
         "y": [
          3431
         ],
         "yaxis": "y"
        },
        {
         "hovertemplate": "Product Name=APPLE iPhone 8 Plus (Space Grey, 64 GB)<extra></extra>",
         "legendgroup": "APPLE iPhone 8 Plus (Space Grey, 64 GB)",
         "marker": {
          "color": "#FF6692",
          "symbol": "circle"
         },
         "mode": "lines",
         "name": "APPLE iPhone 8 Plus (Space Grey, 64 GB)",
         "showlegend": false,
         "type": "scatter",
         "xaxis": "x",
         "yaxis": "y"
        },
        {
         "hovertemplate": "Product Name=APPLE iPhone 8 (Space Grey, 256 GB)<br>Sale Price=%{x}<br>Number Of Ratings=%{y}<br>Discount Percentage=%{marker.size}<extra></extra>",
         "legendgroup": "APPLE iPhone 8 (Space Grey, 256 GB)",
         "marker": {
          "color": "#B6E880",
          "size": [
           0
          ],
          "sizemode": "area",
          "sizeref": 0.0725,
          "symbol": "circle"
         },
         "mode": "markers",
         "name": "APPLE iPhone 8 (Space Grey, 256 GB)",
         "orientation": "v",
         "showlegend": true,
         "type": "scatter",
         "x": [
          77000
         ],
         "xaxis": "x",
         "y": [
          11202
         ],
         "yaxis": "y"
        },
        {
         "hovertemplate": "Product Name=APPLE iPhone 8 (Space Grey, 256 GB)<extra></extra>",
         "legendgroup": "APPLE iPhone 8 (Space Grey, 256 GB)",
         "marker": {
          "color": "#B6E880",
          "symbol": "circle"
         },
         "mode": "lines",
         "name": "APPLE iPhone 8 (Space Grey, 256 GB)",
         "showlegend": false,
         "type": "scatter",
         "xaxis": "x",
         "yaxis": "y"
        },
        {
         "hovertemplate": "Product Name=APPLE iPhone XS Max (Silver, 64 GB)<br>Sale Price=%{x}<br>Number Of Ratings=%{y}<br>Discount Percentage=%{marker.size}<extra></extra>",
         "legendgroup": "APPLE iPhone XS Max (Silver, 64 GB)",
         "marker": {
          "color": "#FF97FF",
          "size": [
           0
          ],
          "sizemode": "area",
          "sizeref": 0.0725,
          "symbol": "circle"
         },
         "mode": "markers",
         "name": "APPLE iPhone XS Max (Silver, 64 GB)",
         "orientation": "v",
         "showlegend": true,
         "type": "scatter",
         "x": [
          89900
         ],
         "xaxis": "x",
         "y": [
          1454
         ],
         "yaxis": "y"
        },
        {
         "hovertemplate": "Product Name=APPLE iPhone XS Max (Silver, 64 GB)<extra></extra>",
         "legendgroup": "APPLE iPhone XS Max (Silver, 64 GB)",
         "marker": {
          "color": "#FF97FF",
          "symbol": "circle"
         },
         "mode": "lines",
         "name": "APPLE iPhone XS Max (Silver, 64 GB)",
         "showlegend": false,
         "type": "scatter",
         "xaxis": "x",
         "yaxis": "y"
        },
        {
         "hovertemplate": "Product Name=Apple iPhone XR ((PRODUCT)RED, 128 GB) (Includes EarPods, Power Adapter)<br>Sale Price=%{x}<br>Number Of Ratings=%{y}<br>Discount Percentage=%{marker.size}<extra></extra>",
         "legendgroup": "Apple iPhone XR ((PRODUCT)RED, 128 GB) (Includes EarPods, Power Adapter)",
         "marker": {
          "color": "#FECB52",
          "size": [
           20
          ],
          "sizemode": "area",
          "sizeref": 0.0725,
          "symbol": "circle"
         },
         "mode": "markers",
         "name": "Apple iPhone XR ((PRODUCT)RED, 128 GB) (Includes EarPods, Power Adapter)",
         "orientation": "v",
         "showlegend": true,
         "type": "scatter",
         "x": [
          41999
         ],
         "xaxis": "x",
         "y": [
          79512
         ],
         "yaxis": "y"
        },
        {
         "hovertemplate": "Product Name=Apple iPhone XR ((PRODUCT)RED, 128 GB) (Includes EarPods, Power Adapter)<extra></extra>",
         "legendgroup": "Apple iPhone XR ((PRODUCT)RED, 128 GB) (Includes EarPods, Power Adapter)",
         "marker": {
          "color": "#FECB52",
          "symbol": "circle"
         },
         "mode": "lines",
         "name": "Apple iPhone XR ((PRODUCT)RED, 128 GB) (Includes EarPods, Power Adapter)",
         "showlegend": false,
         "type": "scatter",
         "xaxis": "x",
         "yaxis": "y"
        },
        {
         "hovertemplate": "Product Name=Apple iPhone XR (Black, 64 GB) (Includes EarPods, Power Adapter)<br>Sale Price=%{x}<br>Number Of Ratings=%{y}<br>Discount Percentage=%{marker.size}<extra></extra>",
         "legendgroup": "Apple iPhone XR (Black, 64 GB) (Includes EarPods, Power Adapter)",
         "marker": {
          "color": "#636efa",
          "size": [
           16
          ],
          "sizemode": "area",
          "sizeref": 0.0725,
          "symbol": "circle"
         },
         "mode": "markers",
         "name": "Apple iPhone XR (Black, 64 GB) (Includes EarPods, Power Adapter)",
         "orientation": "v",
         "showlegend": true,
         "type": "scatter",
         "x": [
          39999
         ],
         "xaxis": "x",
         "y": [
          79512
         ],
         "yaxis": "y"
        },
        {
         "hovertemplate": "Product Name=Apple iPhone XR (Black, 64 GB) (Includes EarPods, Power Adapter)<extra></extra>",
         "legendgroup": "Apple iPhone XR (Black, 64 GB) (Includes EarPods, Power Adapter)",
         "marker": {
          "color": "#636efa",
          "symbol": "circle"
         },
         "mode": "lines",
         "name": "Apple iPhone XR (Black, 64 GB) (Includes EarPods, Power Adapter)",
         "showlegend": false,
         "type": "scatter",
         "xaxis": "x",
         "yaxis": "y"
        },
        {
         "hovertemplate": "Product Name=Apple iPhone XR (Coral, 128 GB) (Includes EarPods, Power Adapter)<br>Sale Price=%{x}<br>Number Of Ratings=%{y}<br>Discount Percentage=%{marker.size}<extra></extra>",
         "legendgroup": "Apple iPhone XR (Coral, 128 GB) (Includes EarPods, Power Adapter)",
         "marker": {
          "color": "#EF553B",
          "size": [
           20
          ],
          "sizemode": "area",
          "sizeref": 0.0725,
          "symbol": "circle"
         },
         "mode": "markers",
         "name": "Apple iPhone XR (Coral, 128 GB) (Includes EarPods, Power Adapter)",
         "orientation": "v",
         "showlegend": true,
         "type": "scatter",
         "x": [
          41999
         ],
         "xaxis": "x",
         "y": [
          79582
         ],
         "yaxis": "y"
        },
        {
         "hovertemplate": "Product Name=Apple iPhone XR (Coral, 128 GB) (Includes EarPods, Power Adapter)<extra></extra>",
         "legendgroup": "Apple iPhone XR (Coral, 128 GB) (Includes EarPods, Power Adapter)",
         "marker": {
          "color": "#EF553B",
          "symbol": "circle"
         },
         "mode": "lines",
         "name": "Apple iPhone XR (Coral, 128 GB) (Includes EarPods, Power Adapter)",
         "showlegend": false,
         "type": "scatter",
         "xaxis": "x",
         "yaxis": "y"
        },
        {
         "hovertemplate": "Product Name=Apple iPhone XR (Black, 128 GB) (Includes EarPods, Power Adapter)<br>Sale Price=%{x}<br>Number Of Ratings=%{y}<br>Discount Percentage=%{marker.size}<extra></extra>",
         "legendgroup": "Apple iPhone XR (Black, 128 GB) (Includes EarPods, Power Adapter)",
         "marker": {
          "color": "#00cc96",
          "size": [
           20
          ],
          "sizemode": "area",
          "sizeref": 0.0725,
          "symbol": "circle"
         },
         "mode": "markers",
         "name": "Apple iPhone XR (Black, 128 GB) (Includes EarPods, Power Adapter)",
         "orientation": "v",
         "showlegend": true,
         "type": "scatter",
         "x": [
          41999
         ],
         "xaxis": "x",
         "y": [
          79512
         ],
         "yaxis": "y"
        },
        {
         "hovertemplate": "Product Name=Apple iPhone XR (Black, 128 GB) (Includes EarPods, Power Adapter)<extra></extra>",
         "legendgroup": "Apple iPhone XR (Black, 128 GB) (Includes EarPods, Power Adapter)",
         "marker": {
          "color": "#00cc96",
          "symbol": "circle"
         },
         "mode": "lines",
         "name": "Apple iPhone XR (Black, 128 GB) (Includes EarPods, Power Adapter)",
         "showlegend": false,
         "type": "scatter",
         "xaxis": "x",
         "yaxis": "y"
        },
        {
         "hovertemplate": "Product Name=Apple iPhone XR (White, 128 GB) (Includes EarPods, Power Adapter)<br>Sale Price=%{x}<br>Number Of Ratings=%{y}<br>Discount Percentage=%{marker.size}<extra></extra>",
         "legendgroup": "Apple iPhone XR (White, 128 GB) (Includes EarPods, Power Adapter)",
         "marker": {
          "color": "#ab63fa",
          "size": [
           20
          ],
          "sizemode": "area",
          "sizeref": 0.0725,
          "symbol": "circle"
         },
         "mode": "markers",
         "name": "Apple iPhone XR (White, 128 GB) (Includes EarPods, Power Adapter)",
         "orientation": "v",
         "showlegend": true,
         "type": "scatter",
         "x": [
          41999
         ],
         "xaxis": "x",
         "y": [
          79512
         ],
         "yaxis": "y"
        },
        {
         "hovertemplate": "Product Name=Apple iPhone XR (White, 128 GB) (Includes EarPods, Power Adapter)<extra></extra>",
         "legendgroup": "Apple iPhone XR (White, 128 GB) (Includes EarPods, Power Adapter)",
         "marker": {
          "color": "#ab63fa",
          "symbol": "circle"
         },
         "mode": "lines",
         "name": "Apple iPhone XR (White, 128 GB) (Includes EarPods, Power Adapter)",
         "showlegend": false,
         "type": "scatter",
         "xaxis": "x",
         "yaxis": "y"
        },
        {
         "hovertemplate": "Product Name=APPLE iPhone 11 Pro Max (Gold, 256 GB)<br>Sale Price=%{x}<br>Number Of Ratings=%{y}<br>Discount Percentage=%{marker.size}<extra></extra>",
         "legendgroup": "APPLE iPhone 11 Pro Max (Gold, 256 GB)",
         "marker": {
          "color": "#FFA15A",
          "size": [
           0
          ],
          "sizemode": "area",
          "sizeref": 0.0725,
          "symbol": "circle"
         },
         "mode": "markers",
         "name": "APPLE iPhone 11 Pro Max (Gold, 256 GB)",
         "orientation": "v",
         "showlegend": true,
         "type": "scatter",
         "x": [
          131900
         ],
         "xaxis": "x",
         "y": [
          1078
         ],
         "yaxis": "y"
        },
        {
         "hovertemplate": "Product Name=APPLE iPhone 11 Pro Max (Gold, 256 GB)<extra></extra>",
         "legendgroup": "APPLE iPhone 11 Pro Max (Gold, 256 GB)",
         "marker": {
          "color": "#FFA15A",
          "symbol": "circle"
         },
         "mode": "lines",
         "name": "APPLE iPhone 11 Pro Max (Gold, 256 GB)",
         "showlegend": false,
         "type": "scatter",
         "xaxis": "x",
         "yaxis": "y"
        },
        {
         "hovertemplate": "Product Name=APPLE iPhone 11 Pro Max (Gold, 64 GB)<br>Sale Price=%{x}<br>Number Of Ratings=%{y}<br>Discount Percentage=%{marker.size}<extra></extra>",
         "legendgroup": "APPLE iPhone 11 Pro Max (Gold, 64 GB)",
         "marker": {
          "color": "#19d3f3",
          "size": [
           0
          ],
          "sizemode": "area",
          "sizeref": 0.0725,
          "symbol": "circle"
         },
         "mode": "markers",
         "name": "APPLE iPhone 11 Pro Max (Gold, 64 GB)",
         "orientation": "v",
         "showlegend": true,
         "type": "scatter",
         "x": [
          117100
         ],
         "xaxis": "x",
         "y": [
          1078
         ],
         "yaxis": "y"
        },
        {
         "hovertemplate": "Product Name=APPLE iPhone 11 Pro Max (Gold, 64 GB)<extra></extra>",
         "legendgroup": "APPLE iPhone 11 Pro Max (Gold, 64 GB)",
         "marker": {
          "color": "#19d3f3",
          "symbol": "circle"
         },
         "mode": "lines",
         "name": "APPLE iPhone 11 Pro Max (Gold, 64 GB)",
         "showlegend": false,
         "type": "scatter",
         "xaxis": "x",
         "yaxis": "y"
        },
        {
         "hovertemplate": "Product Name=APPLE iPhone 11 Pro Max (Midnight Green, 256 GB)<br>Sale Price=%{x}<br>Number Of Ratings=%{y}<br>Discount Percentage=%{marker.size}<extra></extra>",
         "legendgroup": "APPLE iPhone 11 Pro Max (Midnight Green, 256 GB)",
         "marker": {
          "color": "#FF6692",
          "size": [
           0
          ],
          "sizemode": "area",
          "sizeref": 0.0725,
          "symbol": "circle"
         },
         "mode": "markers",
         "name": "APPLE iPhone 11 Pro Max (Midnight Green, 256 GB)",
         "orientation": "v",
         "showlegend": true,
         "type": "scatter",
         "x": [
          131900
         ],
         "xaxis": "x",
         "y": [
          1078
         ],
         "yaxis": "y"
        },
        {
         "hovertemplate": "Product Name=APPLE iPhone 11 Pro Max (Midnight Green, 256 GB)<extra></extra>",
         "legendgroup": "APPLE iPhone 11 Pro Max (Midnight Green, 256 GB)",
         "marker": {
          "color": "#FF6692",
          "symbol": "circle"
         },
         "mode": "lines",
         "name": "APPLE iPhone 11 Pro Max (Midnight Green, 256 GB)",
         "showlegend": false,
         "type": "scatter",
         "xaxis": "x",
         "yaxis": "y"
        },
        {
         "hovertemplate": "Product Name=APPLE iPhone 11 Pro Max (Space Grey, 64 GB)<br>Sale Price=%{x}<br>Number Of Ratings=%{y}<br>Discount Percentage=%{marker.size}<extra></extra>",
         "legendgroup": "APPLE iPhone 11 Pro Max (Space Grey, 64 GB)",
         "marker": {
          "color": "#B6E880",
          "size": [
           0
          ],
          "sizemode": "area",
          "sizeref": 0.0725,
          "symbol": "circle"
         },
         "mode": "markers",
         "name": "APPLE iPhone 11 Pro Max (Space Grey, 64 GB)",
         "orientation": "v",
         "showlegend": true,
         "type": "scatter",
         "x": [
          117100
         ],
         "xaxis": "x",
         "y": [
          1078
         ],
         "yaxis": "y"
        },
        {
         "hovertemplate": "Product Name=APPLE iPhone 11 Pro Max (Space Grey, 64 GB)<extra></extra>",
         "legendgroup": "APPLE iPhone 11 Pro Max (Space Grey, 64 GB)",
         "marker": {
          "color": "#B6E880",
          "symbol": "circle"
         },
         "mode": "lines",
         "name": "APPLE iPhone 11 Pro Max (Space Grey, 64 GB)",
         "showlegend": false,
         "type": "scatter",
         "xaxis": "x",
         "yaxis": "y"
        },
        {
         "hovertemplate": "Product Name=APPLE iPhone 11 Pro (Midnight Green, 64 GB)<br>Sale Price=%{x}<br>Number Of Ratings=%{y}<br>Discount Percentage=%{marker.size}<extra></extra>",
         "legendgroup": "APPLE iPhone 11 Pro (Midnight Green, 64 GB)",
         "marker": {
          "color": "#FF97FF",
          "size": [
           29
          ],
          "sizemode": "area",
          "sizeref": 0.0725,
          "symbol": "circle"
         },
         "mode": "markers",
         "name": "APPLE iPhone 11 Pro (Midnight Green, 64 GB)",
         "orientation": "v",
         "showlegend": true,
         "type": "scatter",
         "x": [
          74999
         ],
         "xaxis": "x",
         "y": [
          7088
         ],
         "yaxis": "y"
        },
        {
         "hovertemplate": "Product Name=APPLE iPhone 11 Pro (Midnight Green, 64 GB)<extra></extra>",
         "legendgroup": "APPLE iPhone 11 Pro (Midnight Green, 64 GB)",
         "marker": {
          "color": "#FF97FF",
          "symbol": "circle"
         },
         "mode": "lines",
         "name": "APPLE iPhone 11 Pro (Midnight Green, 64 GB)",
         "showlegend": false,
         "type": "scatter",
         "xaxis": "x",
         "yaxis": "y"
        },
        {
         "hovertemplate": "Product Name=APPLE iPhone 11 Pro (Space Grey, 512 GB)<br>Sale Price=%{x}<br>Number Of Ratings=%{y}<br>Discount Percentage=%{marker.size}<extra></extra>",
         "legendgroup": "APPLE iPhone 11 Pro (Space Grey, 512 GB)",
         "marker": {
          "color": "#FECB52",
          "size": [
           15
          ],
          "sizemode": "area",
          "sizeref": 0.0725,
          "symbol": "circle"
         },
         "mode": "markers",
         "name": "APPLE iPhone 11 Pro (Space Grey, 512 GB)",
         "orientation": "v",
         "showlegend": true,
         "type": "scatter",
         "x": [
          117900
         ],
         "xaxis": "x",
         "y": [
          7088
         ],
         "yaxis": "y"
        },
        {
         "hovertemplate": "Product Name=APPLE iPhone 11 Pro (Space Grey, 512 GB)<extra></extra>",
         "legendgroup": "APPLE iPhone 11 Pro (Space Grey, 512 GB)",
         "marker": {
          "color": "#FECB52",
          "symbol": "circle"
         },
         "mode": "lines",
         "name": "APPLE iPhone 11 Pro (Space Grey, 512 GB)",
         "showlegend": false,
         "type": "scatter",
         "xaxis": "x",
         "yaxis": "y"
        },
        {
         "hovertemplate": "Product Name=APPLE iPhone 11 Pro Max (Midnight Green, 64 GB)<br>Sale Price=%{x}<br>Number Of Ratings=%{y}<br>Discount Percentage=%{marker.size}<extra></extra>",
         "legendgroup": "APPLE iPhone 11 Pro Max (Midnight Green, 64 GB)",
         "marker": {
          "color": "#636efa",
          "size": [
           0
          ],
          "sizemode": "area",
          "sizeref": 0.0725,
          "symbol": "circle"
         },
         "mode": "markers",
         "name": "APPLE iPhone 11 Pro Max (Midnight Green, 64 GB)",
         "orientation": "v",
         "showlegend": true,
         "type": "scatter",
         "x": [
          117100
         ],
         "xaxis": "x",
         "y": [
          1078
         ],
         "yaxis": "y"
        },
        {
         "hovertemplate": "Product Name=APPLE iPhone 11 Pro Max (Midnight Green, 64 GB)<extra></extra>",
         "legendgroup": "APPLE iPhone 11 Pro Max (Midnight Green, 64 GB)",
         "marker": {
          "color": "#636efa",
          "symbol": "circle"
         },
         "mode": "lines",
         "name": "APPLE iPhone 11 Pro Max (Midnight Green, 64 GB)",
         "showlegend": false,
         "type": "scatter",
         "xaxis": "x",
         "yaxis": "y"
        },
        {
         "hovertemplate": "Product Name=APPLE iPhone 11 Pro (Midnight Green, 512 GB)<br>Sale Price=%{x}<br>Number Of Ratings=%{y}<br>Discount Percentage=%{marker.size}<extra></extra>",
         "legendgroup": "APPLE iPhone 11 Pro (Midnight Green, 512 GB)",
         "marker": {
          "color": "#EF553B",
          "size": [
           15
          ],
          "sizemode": "area",
          "sizeref": 0.0725,
          "symbol": "circle"
         },
         "mode": "markers",
         "name": "APPLE iPhone 11 Pro (Midnight Green, 512 GB)",
         "orientation": "v",
         "showlegend": true,
         "type": "scatter",
         "x": [
          117900
         ],
         "xaxis": "x",
         "y": [
          7088
         ],
         "yaxis": "y"
        },
        {
         "hovertemplate": "Product Name=APPLE iPhone 11 Pro (Midnight Green, 512 GB)<extra></extra>",
         "legendgroup": "APPLE iPhone 11 Pro (Midnight Green, 512 GB)",
         "marker": {
          "color": "#EF553B",
          "symbol": "circle"
         },
         "mode": "lines",
         "name": "APPLE iPhone 11 Pro (Midnight Green, 512 GB)",
         "showlegend": false,
         "type": "scatter",
         "xaxis": "x",
         "yaxis": "y"
        },
        {
         "hovertemplate": "Product Name=APPLE iPhone 11 Pro (Space Grey, 256 GB)<br>Sale Price=%{x}<br>Number Of Ratings=%{y}<br>Discount Percentage=%{marker.size}<extra></extra>",
         "legendgroup": "APPLE iPhone 11 Pro (Space Grey, 256 GB)",
         "marker": {
          "color": "#00cc96",
          "size": [
           17
          ],
          "sizemode": "area",
          "sizeref": 0.0725,
          "symbol": "circle"
         },
         "mode": "markers",
         "name": "APPLE iPhone 11 Pro (Space Grey, 256 GB)",
         "orientation": "v",
         "showlegend": true,
         "type": "scatter",
         "x": [
          99900
         ],
         "xaxis": "x",
         "y": [
          7081
         ],
         "yaxis": "y"
        },
        {
         "hovertemplate": "Product Name=APPLE iPhone 11 Pro (Space Grey, 256 GB)<extra></extra>",
         "legendgroup": "APPLE iPhone 11 Pro (Space Grey, 256 GB)",
         "marker": {
          "color": "#00cc96",
          "symbol": "circle"
         },
         "mode": "lines",
         "name": "APPLE iPhone 11 Pro (Space Grey, 256 GB)",
         "showlegend": false,
         "type": "scatter",
         "xaxis": "x",
         "yaxis": "y"
        },
        {
         "hovertemplate": "Product Name=Apple iPhone SE (White, 256 GB) (Includes EarPods, Power Adapter)<br>Sale Price=%{x}<br>Number Of Ratings=%{y}<br>Discount Percentage=%{marker.size}<extra></extra>",
         "legendgroup": "Apple iPhone SE (White, 256 GB) (Includes EarPods, Power Adapter)",
         "marker": {
          "color": "#ab63fa",
          "size": [
           18
          ],
          "sizemode": "area",
          "sizeref": 0.0725,
          "symbol": "circle"
         },
         "mode": "markers",
         "name": "Apple iPhone SE (White, 256 GB) (Includes EarPods, Power Adapter)",
         "orientation": "v",
         "showlegend": true,
         "type": "scatter",
         "x": [
          44999
         ],
         "xaxis": "x",
         "y": [
          95909
         ],
         "yaxis": "y"
        },
        {
         "hovertemplate": "Product Name=Apple iPhone SE (White, 256 GB) (Includes EarPods, Power Adapter)<extra></extra>",
         "legendgroup": "Apple iPhone SE (White, 256 GB) (Includes EarPods, Power Adapter)",
         "marker": {
          "color": "#ab63fa",
          "symbol": "circle"
         },
         "mode": "lines",
         "name": "Apple iPhone SE (White, 256 GB) (Includes EarPods, Power Adapter)",
         "showlegend": false,
         "type": "scatter",
         "xaxis": "x",
         "yaxis": "y"
        },
        {
         "hovertemplate": "Product Name=APPLE iPhone 12 Pro (Silver, 512 GB)<br>Sale Price=%{x}<br>Number Of Ratings=%{y}<br>Discount Percentage=%{marker.size}<extra></extra>",
         "legendgroup": "APPLE iPhone 12 Pro (Silver, 512 GB)",
         "marker": {
          "color": "#FFA15A",
          "size": [
           6
          ],
          "sizemode": "area",
          "sizeref": 0.0725,
          "symbol": "circle"
         },
         "mode": "markers",
         "name": "APPLE iPhone 12 Pro (Silver, 512 GB)",
         "orientation": "v",
         "showlegend": true,
         "type": "scatter",
         "x": [
          140900
         ],
         "xaxis": "x",
         "y": [
          542
         ],
         "yaxis": "y"
        },
        {
         "hovertemplate": "Product Name=APPLE iPhone 12 Pro (Silver, 512 GB)<extra></extra>",
         "legendgroup": "APPLE iPhone 12 Pro (Silver, 512 GB)",
         "marker": {
          "color": "#FFA15A",
          "symbol": "circle"
         },
         "mode": "lines",
         "name": "APPLE iPhone 12 Pro (Silver, 512 GB)",
         "showlegend": false,
         "type": "scatter",
         "xaxis": "x",
         "yaxis": "y"
        },
        {
         "hovertemplate": "Product Name=APPLE iPhone 12 Pro Max (Pacific Blue, 256 GB)<br>Sale Price=%{x}<br>Number Of Ratings=%{y}<br>Discount Percentage=%{marker.size}<extra></extra>",
         "legendgroup": "APPLE iPhone 12 Pro Max (Pacific Blue, 256 GB)",
         "marker": {
          "color": "#19d3f3",
          "size": [
           6
          ],
          "sizemode": "area",
          "sizeref": 0.0725,
          "symbol": "circle"
         },
         "mode": "markers",
         "name": "APPLE iPhone 12 Pro Max (Pacific Blue, 256 GB)",
         "orientation": "v",
         "showlegend": true,
         "type": "scatter",
         "x": [
          130900
         ],
         "xaxis": "x",
         "y": [
          580
         ],
         "yaxis": "y"
        },
        {
         "hovertemplate": "Product Name=APPLE iPhone 12 Pro Max (Pacific Blue, 256 GB)<extra></extra>",
         "legendgroup": "APPLE iPhone 12 Pro Max (Pacific Blue, 256 GB)",
         "marker": {
          "color": "#19d3f3",
          "symbol": "circle"
         },
         "mode": "lines",
         "name": "APPLE iPhone 12 Pro Max (Pacific Blue, 256 GB)",
         "showlegend": false,
         "type": "scatter",
         "xaxis": "x",
         "yaxis": "y"
        },
        {
         "hovertemplate": "Product Name=APPLE iPhone 12 Mini (White, 128 GB)<br>Sale Price=%{x}<br>Number Of Ratings=%{y}<br>Discount Percentage=%{marker.size}<extra></extra>",
         "legendgroup": "APPLE iPhone 12 Mini (White, 128 GB)",
         "marker": {
          "color": "#FF6692",
          "size": [
           13
          ],
          "sizemode": "area",
          "sizeref": 0.0725,
          "symbol": "circle"
         },
         "mode": "markers",
         "name": "APPLE iPhone 12 Mini (White, 128 GB)",
         "orientation": "v",
         "showlegend": true,
         "type": "scatter",
         "x": [
          64900
         ],
         "xaxis": "x",
         "y": [
          740
         ],
         "yaxis": "y"
        },
        {
         "hovertemplate": "Product Name=APPLE iPhone 12 Mini (White, 128 GB)<extra></extra>",
         "legendgroup": "APPLE iPhone 12 Mini (White, 128 GB)",
         "marker": {
          "color": "#FF6692",
          "symbol": "circle"
         },
         "mode": "lines",
         "name": "APPLE iPhone 12 Mini (White, 128 GB)",
         "showlegend": false,
         "type": "scatter",
         "xaxis": "x",
         "yaxis": "y"
        },
        {
         "hovertemplate": "Product Name=APPLE iPhone 12 Pro (Graphite, 256 GB)<br>Sale Price=%{x}<br>Number Of Ratings=%{y}<br>Discount Percentage=%{marker.size}<extra></extra>",
         "legendgroup": "APPLE iPhone 12 Pro (Graphite, 256 GB)",
         "marker": {
          "color": "#B6E880",
          "size": [
           6
          ],
          "sizemode": "area",
          "sizeref": 0.0725,
          "symbol": "circle"
         },
         "mode": "markers",
         "name": "APPLE iPhone 12 Pro (Graphite, 256 GB)",
         "orientation": "v",
         "showlegend": true,
         "type": "scatter",
         "x": [
          120900
         ],
         "xaxis": "x",
         "y": [
          545
         ],
         "yaxis": "y"
        },
        {
         "hovertemplate": "Product Name=APPLE iPhone 12 Pro (Graphite, 256 GB)<extra></extra>",
         "legendgroup": "APPLE iPhone 12 Pro (Graphite, 256 GB)",
         "marker": {
          "color": "#B6E880",
          "symbol": "circle"
         },
         "mode": "lines",
         "name": "APPLE iPhone 12 Pro (Graphite, 256 GB)",
         "showlegend": false,
         "type": "scatter",
         "xaxis": "x",
         "yaxis": "y"
        },
        {
         "hovertemplate": "Product Name=APPLE iPhone 12 Mini (White, 64 GB)<br>Sale Price=%{x}<br>Number Of Ratings=%{y}<br>Discount Percentage=%{marker.size}<extra></extra>",
         "legendgroup": "APPLE iPhone 12 Mini (White, 64 GB)",
         "marker": {
          "color": "#FF97FF",
          "size": [
           14
          ],
          "sizemode": "area",
          "sizeref": 0.0725,
          "symbol": "circle"
         },
         "mode": "markers",
         "name": "APPLE iPhone 12 Mini (White, 64 GB)",
         "orientation": "v",
         "showlegend": true,
         "type": "scatter",
         "x": [
          59900
         ],
         "xaxis": "x",
         "y": [
          740
         ],
         "yaxis": "y"
        },
        {
         "hovertemplate": "Product Name=APPLE iPhone 12 Mini (White, 64 GB)<extra></extra>",
         "legendgroup": "APPLE iPhone 12 Mini (White, 64 GB)",
         "marker": {
          "color": "#FF97FF",
          "symbol": "circle"
         },
         "mode": "lines",
         "name": "APPLE iPhone 12 Mini (White, 64 GB)",
         "showlegend": false,
         "type": "scatter",
         "xaxis": "x",
         "yaxis": "y"
        },
        {
         "hovertemplate": "Product Name=APPLE iPhone 12 (White, 128 GB)<br>Sale Price=%{x}<br>Number Of Ratings=%{y}<br>Discount Percentage=%{marker.size}<extra></extra>",
         "legendgroup": "APPLE iPhone 12 (White, 128 GB)",
         "marker": {
          "color": "#FECB52",
          "size": [
           10
          ],
          "sizemode": "area",
          "sizeref": 0.0725,
          "symbol": "circle"
         },
         "mode": "markers",
         "name": "APPLE iPhone 12 (White, 128 GB)",
         "orientation": "v",
         "showlegend": true,
         "type": "scatter",
         "x": [
          75900
         ],
         "xaxis": "x",
         "y": [
          2101
         ],
         "yaxis": "y"
        },
        {
         "hovertemplate": "Product Name=APPLE iPhone 12 (White, 128 GB)<extra></extra>",
         "legendgroup": "APPLE iPhone 12 (White, 128 GB)",
         "marker": {
          "color": "#FECB52",
          "symbol": "circle"
         },
         "mode": "lines",
         "name": "APPLE iPhone 12 (White, 128 GB)",
         "showlegend": false,
         "type": "scatter",
         "xaxis": "x",
         "yaxis": "y"
        },
        {
         "hovertemplate": "Product Name=APPLE iPhone 12 Pro (Graphite, 128 GB)<br>Sale Price=%{x}<br>Number Of Ratings=%{y}<br>Discount Percentage=%{marker.size}<extra></extra>",
         "legendgroup": "APPLE iPhone 12 Pro (Graphite, 128 GB)",
         "marker": {
          "color": "#636efa",
          "size": [
           7
          ],
          "sizemode": "area",
          "sizeref": 0.0725,
          "symbol": "circle"
         },
         "mode": "markers",
         "name": "APPLE iPhone 12 Pro (Graphite, 128 GB)",
         "orientation": "v",
         "showlegend": true,
         "type": "scatter",
         "x": [
          110900
         ],
         "xaxis": "x",
         "y": [
          545
         ],
         "yaxis": "y"
        },
        {
         "hovertemplate": "Product Name=APPLE iPhone 12 Pro (Graphite, 128 GB)<extra></extra>",
         "legendgroup": "APPLE iPhone 12 Pro (Graphite, 128 GB)",
         "marker": {
          "color": "#636efa",
          "symbol": "circle"
         },
         "mode": "lines",
         "name": "APPLE iPhone 12 Pro (Graphite, 128 GB)",
         "showlegend": false,
         "type": "scatter",
         "xaxis": "x",
         "yaxis": "y"
        },
        {
         "hovertemplate": "Product Name=APPLE iPhone 12 Pro Max (Graphite, 256 GB)<br>Sale Price=%{x}<br>Number Of Ratings=%{y}<br>Discount Percentage=%{marker.size}<extra></extra>",
         "legendgroup": "APPLE iPhone 12 Pro Max (Graphite, 256 GB)",
         "marker": {
          "color": "#EF553B",
          "size": [
           6
          ],
          "sizemode": "area",
          "sizeref": 0.0725,
          "symbol": "circle"
         },
         "mode": "markers",
         "name": "APPLE iPhone 12 Pro Max (Graphite, 256 GB)",
         "orientation": "v",
         "showlegend": true,
         "type": "scatter",
         "x": [
          130900
         ],
         "xaxis": "x",
         "y": [
          580
         ],
         "yaxis": "y"
        },
        {
         "hovertemplate": "Product Name=APPLE iPhone 12 Pro Max (Graphite, 256 GB)<extra></extra>",
         "legendgroup": "APPLE iPhone 12 Pro Max (Graphite, 256 GB)",
         "marker": {
          "color": "#EF553B",
          "symbol": "circle"
         },
         "mode": "lines",
         "name": "APPLE iPhone 12 Pro Max (Graphite, 256 GB)",
         "showlegend": false,
         "type": "scatter",
         "xaxis": "x",
         "yaxis": "y"
        },
        {
         "hovertemplate": "Product Name=APPLE iPhone 12 Pro Max (Graphite, 128 GB)<br>Sale Price=%{x}<br>Number Of Ratings=%{y}<br>Discount Percentage=%{marker.size}<extra></extra>",
         "legendgroup": "APPLE iPhone 12 Pro Max (Graphite, 128 GB)",
         "marker": {
          "color": "#00cc96",
          "size": [
           6
          ],
          "sizemode": "area",
          "sizeref": 0.0725,
          "symbol": "circle"
         },
         "mode": "markers",
         "name": "APPLE iPhone 12 Pro Max (Graphite, 128 GB)",
         "orientation": "v",
         "showlegend": true,
         "type": "scatter",
         "x": [
          120900
         ],
         "xaxis": "x",
         "y": [
          580
         ],
         "yaxis": "y"
        },
        {
         "hovertemplate": "Product Name=APPLE iPhone 12 Pro Max (Graphite, 128 GB)<extra></extra>",
         "legendgroup": "APPLE iPhone 12 Pro Max (Graphite, 128 GB)",
         "marker": {
          "color": "#00cc96",
          "symbol": "circle"
         },
         "mode": "lines",
         "name": "APPLE iPhone 12 Pro Max (Graphite, 128 GB)",
         "showlegend": false,
         "type": "scatter",
         "xaxis": "x",
         "yaxis": "y"
        },
        {
         "hovertemplate": "Product Name=APPLE iPhone 12 Mini (Black, 128 GB)<br>Sale Price=%{x}<br>Number Of Ratings=%{y}<br>Discount Percentage=%{marker.size}<extra></extra>",
         "legendgroup": "APPLE iPhone 12 Mini (Black, 128 GB)",
         "marker": {
          "color": "#ab63fa",
          "size": [
           13
          ],
          "sizemode": "area",
          "sizeref": 0.0725,
          "symbol": "circle"
         },
         "mode": "markers",
         "name": "APPLE iPhone 12 Mini (Black, 128 GB)",
         "orientation": "v",
         "showlegend": true,
         "type": "scatter",
         "x": [
          64900
         ],
         "xaxis": "x",
         "y": [
          730
         ],
         "yaxis": "y"
        },
        {
         "hovertemplate": "Product Name=APPLE iPhone 12 Mini (Black, 128 GB)<extra></extra>",
         "legendgroup": "APPLE iPhone 12 Mini (Black, 128 GB)",
         "marker": {
          "color": "#ab63fa",
          "symbol": "circle"
         },
         "mode": "lines",
         "name": "APPLE iPhone 12 Mini (Black, 128 GB)",
         "showlegend": false,
         "type": "scatter",
         "xaxis": "x",
         "yaxis": "y"
        },
        {
         "hovertemplate": "Product Name=APPLE iPhone 12 Mini (Blue, 128 GB)<br>Sale Price=%{x}<br>Number Of Ratings=%{y}<br>Discount Percentage=%{marker.size}<extra></extra>",
         "legendgroup": "APPLE iPhone 12 Mini (Blue, 128 GB)",
         "marker": {
          "color": "#FFA15A",
          "size": [
           13
          ],
          "sizemode": "area",
          "sizeref": 0.0725,
          "symbol": "circle"
         },
         "mode": "markers",
         "name": "APPLE iPhone 12 Mini (Blue, 128 GB)",
         "orientation": "v",
         "showlegend": true,
         "type": "scatter",
         "x": [
          64900
         ],
         "xaxis": "x",
         "y": [
          730
         ],
         "yaxis": "y"
        },
        {
         "hovertemplate": "Product Name=APPLE iPhone 12 Mini (Blue, 128 GB)<extra></extra>",
         "legendgroup": "APPLE iPhone 12 Mini (Blue, 128 GB)",
         "marker": {
          "color": "#FFA15A",
          "symbol": "circle"
         },
         "mode": "lines",
         "name": "APPLE iPhone 12 Mini (Blue, 128 GB)",
         "showlegend": false,
         "type": "scatter",
         "xaxis": "x",
         "yaxis": "y"
        },
        {
         "hovertemplate": "Product Name=APPLE iPhone 12 (Black, 128 GB)<br>Sale Price=%{x}<br>Number Of Ratings=%{y}<br>Discount Percentage=%{marker.size}<extra></extra>",
         "legendgroup": "APPLE iPhone 12 (Black, 128 GB)",
         "marker": {
          "color": "#19d3f3",
          "size": [
           10
          ],
          "sizemode": "area",
          "sizeref": 0.0725,
          "symbol": "circle"
         },
         "mode": "markers",
         "name": "APPLE iPhone 12 (Black, 128 GB)",
         "orientation": "v",
         "showlegend": true,
         "type": "scatter",
         "x": [
          75900
         ],
         "xaxis": "x",
         "y": [
          2101
         ],
         "yaxis": "y"
        },
        {
         "hovertemplate": "Product Name=APPLE iPhone 12 (Black, 128 GB)<extra></extra>",
         "legendgroup": "APPLE iPhone 12 (Black, 128 GB)",
         "marker": {
          "color": "#19d3f3",
          "symbol": "circle"
         },
         "mode": "lines",
         "name": "APPLE iPhone 12 (Black, 128 GB)",
         "showlegend": false,
         "type": "scatter",
         "xaxis": "x",
         "yaxis": "y"
        },
        {
         "hovertemplate": "Product Name=APPLE iPhone 12 (Blue, 128 GB)<br>Sale Price=%{x}<br>Number Of Ratings=%{y}<br>Discount Percentage=%{marker.size}<extra></extra>",
         "legendgroup": "APPLE iPhone 12 (Blue, 128 GB)",
         "marker": {
          "color": "#FF6692",
          "size": [
           10
          ],
          "sizemode": "area",
          "sizeref": 0.0725,
          "symbol": "circle"
         },
         "mode": "markers",
         "name": "APPLE iPhone 12 (Blue, 128 GB)",
         "orientation": "v",
         "showlegend": true,
         "type": "scatter",
         "x": [
          75900
         ],
         "xaxis": "x",
         "y": [
          2101
         ],
         "yaxis": "y"
        },
        {
         "hovertemplate": "Product Name=APPLE iPhone 12 (Blue, 128 GB)<extra></extra>",
         "legendgroup": "APPLE iPhone 12 (Blue, 128 GB)",
         "marker": {
          "color": "#FF6692",
          "symbol": "circle"
         },
         "mode": "lines",
         "name": "APPLE iPhone 12 (Blue, 128 GB)",
         "showlegend": false,
         "type": "scatter",
         "xaxis": "x",
         "yaxis": "y"
        },
        {
         "hovertemplate": "Product Name=APPLE iPhone 12 Pro Max (Silver, 128 GB)<br>Sale Price=%{x}<br>Number Of Ratings=%{y}<br>Discount Percentage=%{marker.size}<extra></extra>",
         "legendgroup": "APPLE iPhone 12 Pro Max (Silver, 128 GB)",
         "marker": {
          "color": "#B6E880",
          "size": [
           6
          ],
          "sizemode": "area",
          "sizeref": 0.0725,
          "symbol": "circle"
         },
         "mode": "markers",
         "name": "APPLE iPhone 12 Pro Max (Silver, 128 GB)",
         "orientation": "v",
         "showlegend": true,
         "type": "scatter",
         "x": [
          120900
         ],
         "xaxis": "x",
         "y": [
          580
         ],
         "yaxis": "y"
        },
        {
         "hovertemplate": "Product Name=APPLE iPhone 12 Pro Max (Silver, 128 GB)<extra></extra>",
         "legendgroup": "APPLE iPhone 12 Pro Max (Silver, 128 GB)",
         "marker": {
          "color": "#B6E880",
          "symbol": "circle"
         },
         "mode": "lines",
         "name": "APPLE iPhone 12 Pro Max (Silver, 128 GB)",
         "showlegend": false,
         "type": "scatter",
         "xaxis": "x",
         "yaxis": "y"
        },
        {
         "hovertemplate": "Product Name=APPLE iPhone 12 Mini (Red, 64 GB)<br>Sale Price=%{x}<br>Number Of Ratings=%{y}<br>Discount Percentage=%{marker.size}<extra></extra>",
         "legendgroup": "APPLE iPhone 12 Mini (Red, 64 GB)",
         "marker": {
          "color": "#FF97FF",
          "size": [
           14
          ],
          "sizemode": "area",
          "sizeref": 0.0725,
          "symbol": "circle"
         },
         "mode": "markers",
         "name": "APPLE iPhone 12 Mini (Red, 64 GB)",
         "orientation": "v",
         "showlegend": true,
         "type": "scatter",
         "x": [
          59900
         ],
         "xaxis": "x",
         "y": [
          740
         ],
         "yaxis": "y"
        },
        {
         "hovertemplate": "Product Name=APPLE iPhone 12 Mini (Red, 64 GB)<extra></extra>",
         "legendgroup": "APPLE iPhone 12 Mini (Red, 64 GB)",
         "marker": {
          "color": "#FF97FF",
          "symbol": "circle"
         },
         "mode": "lines",
         "name": "APPLE iPhone 12 Mini (Red, 64 GB)",
         "showlegend": false,
         "type": "scatter",
         "xaxis": "x",
         "yaxis": "y"
        },
        {
         "hovertemplate": "Product Name=APPLE iPhone 12 Pro Max (Gold, 128 GB)<br>Sale Price=%{x}<br>Number Of Ratings=%{y}<br>Discount Percentage=%{marker.size}<extra></extra>",
         "legendgroup": "APPLE iPhone 12 Pro Max (Gold, 128 GB)",
         "marker": {
          "color": "#FECB52",
          "size": [
           6
          ],
          "sizemode": "area",
          "sizeref": 0.0725,
          "symbol": "circle"
         },
         "mode": "markers",
         "name": "APPLE iPhone 12 Pro Max (Gold, 128 GB)",
         "orientation": "v",
         "showlegend": true,
         "type": "scatter",
         "x": [
          120900
         ],
         "xaxis": "x",
         "y": [
          580
         ],
         "yaxis": "y"
        },
        {
         "hovertemplate": "Product Name=APPLE iPhone 12 Pro Max (Gold, 128 GB)<extra></extra>",
         "legendgroup": "APPLE iPhone 12 Pro Max (Gold, 128 GB)",
         "marker": {
          "color": "#FECB52",
          "symbol": "circle"
         },
         "mode": "lines",
         "name": "APPLE iPhone 12 Pro Max (Gold, 128 GB)",
         "showlegend": false,
         "type": "scatter",
         "xaxis": "x",
         "yaxis": "y"
        },
        {
         "hovertemplate": "Product Name=APPLE iPhone 12 (Green, 128 GB)<br>Sale Price=%{x}<br>Number Of Ratings=%{y}<br>Discount Percentage=%{marker.size}<extra></extra>",
         "legendgroup": "APPLE iPhone 12 (Green, 128 GB)",
         "marker": {
          "color": "#636efa",
          "size": [
           10
          ],
          "sizemode": "area",
          "sizeref": 0.0725,
          "symbol": "circle"
         },
         "mode": "markers",
         "name": "APPLE iPhone 12 (Green, 128 GB)",
         "orientation": "v",
         "showlegend": true,
         "type": "scatter",
         "x": [
          75900
         ],
         "xaxis": "x",
         "y": [
          2092
         ],
         "yaxis": "y"
        },
        {
         "hovertemplate": "Product Name=APPLE iPhone 12 (Green, 128 GB)<extra></extra>",
         "legendgroup": "APPLE iPhone 12 (Green, 128 GB)",
         "marker": {
          "color": "#636efa",
          "symbol": "circle"
         },
         "mode": "lines",
         "name": "APPLE iPhone 12 (Green, 128 GB)",
         "showlegend": false,
         "type": "scatter",
         "xaxis": "x",
         "yaxis": "y"
        },
        {
         "hovertemplate": "Product Name=APPLE iPhone 12 Pro (Pacific Blue, 512 GB)<br>Sale Price=%{x}<br>Number Of Ratings=%{y}<br>Discount Percentage=%{marker.size}<extra></extra>",
         "legendgroup": "APPLE iPhone 12 Pro (Pacific Blue, 512 GB)",
         "marker": {
          "color": "#EF553B",
          "size": [
           6
          ],
          "sizemode": "area",
          "sizeref": 0.0725,
          "symbol": "circle"
         },
         "mode": "markers",
         "name": "APPLE iPhone 12 Pro (Pacific Blue, 512 GB)",
         "orientation": "v",
         "showlegend": true,
         "type": "scatter",
         "x": [
          140900
         ],
         "xaxis": "x",
         "y": [
          545
         ],
         "yaxis": "y"
        },
        {
         "hovertemplate": "Product Name=APPLE iPhone 12 Pro (Pacific Blue, 512 GB)<extra></extra>",
         "legendgroup": "APPLE iPhone 12 Pro (Pacific Blue, 512 GB)",
         "marker": {
          "color": "#EF553B",
          "symbol": "circle"
         },
         "mode": "lines",
         "name": "APPLE iPhone 12 Pro (Pacific Blue, 512 GB)",
         "showlegend": false,
         "type": "scatter",
         "xaxis": "x",
         "yaxis": "y"
        },
        {
         "hovertemplate": "Product Name=APPLE iPhone 12 (White, 64 GB)<br>Sale Price=%{x}<br>Number Of Ratings=%{y}<br>Discount Percentage=%{marker.size}<extra></extra>",
         "legendgroup": "APPLE iPhone 12 (White, 64 GB)",
         "marker": {
          "color": "#00cc96",
          "size": [
           11
          ],
          "sizemode": "area",
          "sizeref": 0.0725,
          "symbol": "circle"
         },
         "mode": "markers",
         "name": "APPLE iPhone 12 (White, 64 GB)",
         "orientation": "v",
         "showlegend": true,
         "type": "scatter",
         "x": [
          70900
         ],
         "xaxis": "x",
         "y": [
          2101
         ],
         "yaxis": "y"
        },
        {
         "hovertemplate": "Product Name=APPLE iPhone 12 (White, 64 GB)<extra></extra>",
         "legendgroup": "APPLE iPhone 12 (White, 64 GB)",
         "marker": {
          "color": "#00cc96",
          "symbol": "circle"
         },
         "mode": "lines",
         "name": "APPLE iPhone 12 (White, 64 GB)",
         "showlegend": false,
         "type": "scatter",
         "xaxis": "x",
         "yaxis": "y"
        },
        {
         "hovertemplate": "Product Name=APPLE iPhone 12 (Black, 64 GB)<br>Sale Price=%{x}<br>Number Of Ratings=%{y}<br>Discount Percentage=%{marker.size}<extra></extra>",
         "legendgroup": "APPLE iPhone 12 (Black, 64 GB)",
         "marker": {
          "color": "#ab63fa",
          "size": [
           11
          ],
          "sizemode": "area",
          "sizeref": 0.0725,
          "symbol": "circle"
         },
         "mode": "markers",
         "name": "APPLE iPhone 12 (Black, 64 GB)",
         "orientation": "v",
         "showlegend": true,
         "type": "scatter",
         "x": [
          70900
         ],
         "xaxis": "x",
         "y": [
          2092
         ],
         "yaxis": "y"
        },
        {
         "hovertemplate": "Product Name=APPLE iPhone 12 (Black, 64 GB)<extra></extra>",
         "legendgroup": "APPLE iPhone 12 (Black, 64 GB)",
         "marker": {
          "color": "#ab63fa",
          "symbol": "circle"
         },
         "mode": "lines",
         "name": "APPLE iPhone 12 (Black, 64 GB)",
         "showlegend": false,
         "type": "scatter",
         "xaxis": "x",
         "yaxis": "y"
        },
        {
         "hovertemplate": "Product Name=APPLE iPhone 12 (Red, 128 GB)<br>Sale Price=%{x}<br>Number Of Ratings=%{y}<br>Discount Percentage=%{marker.size}<extra></extra>",
         "legendgroup": "APPLE iPhone 12 (Red, 128 GB)",
         "marker": {
          "color": "#FFA15A",
          "size": [
           10
          ],
          "sizemode": "area",
          "sizeref": 0.0725,
          "symbol": "circle"
         },
         "mode": "markers",
         "name": "APPLE iPhone 12 (Red, 128 GB)",
         "orientation": "v",
         "showlegend": true,
         "type": "scatter",
         "x": [
          75900
         ],
         "xaxis": "x",
         "y": [
          2101
         ],
         "yaxis": "y"
        },
        {
         "hovertemplate": "Product Name=APPLE iPhone 12 (Red, 128 GB)<extra></extra>",
         "legendgroup": "APPLE iPhone 12 (Red, 128 GB)",
         "marker": {
          "color": "#FFA15A",
          "symbol": "circle"
         },
         "mode": "lines",
         "name": "APPLE iPhone 12 (Red, 128 GB)",
         "showlegend": false,
         "type": "scatter",
         "xaxis": "x",
         "yaxis": "y"
        },
        {
         "hovertemplate": "Product Name=APPLE iPhone 12 Mini (Black, 64 GB)<br>Sale Price=%{x}<br>Number Of Ratings=%{y}<br>Discount Percentage=%{marker.size}<extra></extra>",
         "legendgroup": "APPLE iPhone 12 Mini (Black, 64 GB)",
         "marker": {
          "color": "#19d3f3",
          "size": [
           14
          ],
          "sizemode": "area",
          "sizeref": 0.0725,
          "symbol": "circle"
         },
         "mode": "markers",
         "name": "APPLE iPhone 12 Mini (Black, 64 GB)",
         "orientation": "v",
         "showlegend": true,
         "type": "scatter",
         "x": [
          59900
         ],
         "xaxis": "x",
         "y": [
          740
         ],
         "yaxis": "y"
        },
        {
         "hovertemplate": "Product Name=APPLE iPhone 12 Mini (Black, 64 GB)<extra></extra>",
         "legendgroup": "APPLE iPhone 12 Mini (Black, 64 GB)",
         "marker": {
          "color": "#19d3f3",
          "symbol": "circle"
         },
         "mode": "lines",
         "name": "APPLE iPhone 12 Mini (Black, 64 GB)",
         "showlegend": false,
         "type": "scatter",
         "xaxis": "x",
         "yaxis": "y"
        },
        {
         "hovertemplate": "Product Name=APPLE iPhone 12 Pro (Pacific Blue, 128 GB)<br>Sale Price=%{x}<br>Number Of Ratings=%{y}<br>Discount Percentage=%{marker.size}<extra></extra>",
         "legendgroup": "APPLE iPhone 12 Pro (Pacific Blue, 128 GB)",
         "marker": {
          "color": "#FF6692",
          "size": [
           7
          ],
          "sizemode": "area",
          "sizeref": 0.0725,
          "symbol": "circle"
         },
         "mode": "markers",
         "name": "APPLE iPhone 12 Pro (Pacific Blue, 128 GB)",
         "orientation": "v",
         "showlegend": true,
         "type": "scatter",
         "x": [
          110900
         ],
         "xaxis": "x",
         "y": [
          545
         ],
         "yaxis": "y"
        },
        {
         "hovertemplate": "Product Name=APPLE iPhone 12 Pro (Pacific Blue, 128 GB)<extra></extra>",
         "legendgroup": "APPLE iPhone 12 Pro (Pacific Blue, 128 GB)",
         "marker": {
          "color": "#FF6692",
          "symbol": "circle"
         },
         "mode": "lines",
         "name": "APPLE iPhone 12 Pro (Pacific Blue, 128 GB)",
         "showlegend": false,
         "type": "scatter",
         "xaxis": "x",
         "yaxis": "y"
        },
        {
         "hovertemplate": "Product Name=APPLE iPhone 12 Pro Max (Pacific Blue, 128 GB)<br>Sale Price=%{x}<br>Number Of Ratings=%{y}<br>Discount Percentage=%{marker.size}<extra></extra>",
         "legendgroup": "APPLE iPhone 12 Pro Max (Pacific Blue, 128 GB)",
         "marker": {
          "color": "#B6E880",
          "size": [
           6
          ],
          "sizemode": "area",
          "sizeref": 0.0725,
          "symbol": "circle"
         },
         "mode": "markers",
         "name": "APPLE iPhone 12 Pro Max (Pacific Blue, 128 GB)",
         "orientation": "v",
         "showlegend": true,
         "type": "scatter",
         "x": [
          120900
         ],
         "xaxis": "x",
         "y": [
          580
         ],
         "yaxis": "y"
        },
        {
         "hovertemplate": "Product Name=APPLE iPhone 12 Pro Max (Pacific Blue, 128 GB)<extra></extra>",
         "legendgroup": "APPLE iPhone 12 Pro Max (Pacific Blue, 128 GB)",
         "marker": {
          "color": "#B6E880",
          "symbol": "circle"
         },
         "mode": "lines",
         "name": "APPLE iPhone 12 Pro Max (Pacific Blue, 128 GB)",
         "showlegend": false,
         "type": "scatter",
         "xaxis": "x",
         "yaxis": "y"
        },
        {
         "hovertemplate": "Product Name=APPLE iPhone 12 Pro Max (Silver, 256 GB)<br>Sale Price=%{x}<br>Number Of Ratings=%{y}<br>Discount Percentage=%{marker.size}<extra></extra>",
         "legendgroup": "APPLE iPhone 12 Pro Max (Silver, 256 GB)",
         "marker": {
          "color": "#FF97FF",
          "size": [
           6
          ],
          "sizemode": "area",
          "sizeref": 0.0725,
          "symbol": "circle"
         },
         "mode": "markers",
         "name": "APPLE iPhone 12 Pro Max (Silver, 256 GB)",
         "orientation": "v",
         "showlegend": true,
         "type": "scatter",
         "x": [
          130900
         ],
         "xaxis": "x",
         "y": [
          580
         ],
         "yaxis": "y"
        },
        {
         "hovertemplate": "Product Name=APPLE iPhone 12 Pro Max (Silver, 256 GB)<extra></extra>",
         "legendgroup": "APPLE iPhone 12 Pro Max (Silver, 256 GB)",
         "marker": {
          "color": "#FF97FF",
          "symbol": "circle"
         },
         "mode": "lines",
         "name": "APPLE iPhone 12 Pro Max (Silver, 256 GB)",
         "showlegend": false,
         "type": "scatter",
         "xaxis": "x",
         "yaxis": "y"
        },
        {
         "hovertemplate": "Product Name=APPLE iPhone 12 Pro Max (Gold, 256 GB)<br>Sale Price=%{x}<br>Number Of Ratings=%{y}<br>Discount Percentage=%{marker.size}<extra></extra>",
         "legendgroup": "APPLE iPhone 12 Pro Max (Gold, 256 GB)",
         "marker": {
          "color": "#FECB52",
          "size": [
           6
          ],
          "sizemode": "area",
          "sizeref": 0.0725,
          "symbol": "circle"
         },
         "mode": "markers",
         "name": "APPLE iPhone 12 Pro Max (Gold, 256 GB)",
         "orientation": "v",
         "showlegend": true,
         "type": "scatter",
         "x": [
          130900
         ],
         "xaxis": "x",
         "y": [
          580
         ],
         "yaxis": "y"
        },
        {
         "hovertemplate": "Product Name=APPLE iPhone 12 Pro Max (Gold, 256 GB)<extra></extra>",
         "legendgroup": "APPLE iPhone 12 Pro Max (Gold, 256 GB)",
         "marker": {
          "color": "#FECB52",
          "symbol": "circle"
         },
         "mode": "lines",
         "name": "APPLE iPhone 12 Pro Max (Gold, 256 GB)",
         "showlegend": false,
         "type": "scatter",
         "xaxis": "x",
         "yaxis": "y"
        },
        {
         "hovertemplate": "Product Name=APPLE iPhone 11 (White, 128 GB)<br>Sale Price=%{x}<br>Number Of Ratings=%{y}<br>Discount Percentage=%{marker.size}<extra></extra>",
         "legendgroup": "APPLE iPhone 11 (White, 128 GB)",
         "marker": {
          "color": "#636efa",
          "size": [
           8
          ],
          "sizemode": "area",
          "sizeref": 0.0725,
          "symbol": "circle"
         },
         "mode": "markers",
         "name": "APPLE iPhone 11 (White, 128 GB)",
         "orientation": "v",
         "showlegend": true,
         "type": "scatter",
         "x": [
          54999
         ],
         "xaxis": "x",
         "y": [
          43707
         ],
         "yaxis": "y"
        },
        {
         "hovertemplate": "Product Name=APPLE iPhone 11 (White, 128 GB)<extra></extra>",
         "legendgroup": "APPLE iPhone 11 (White, 128 GB)",
         "marker": {
          "color": "#636efa",
          "symbol": "circle"
         },
         "mode": "lines",
         "name": "APPLE iPhone 11 (White, 128 GB)",
         "showlegend": false,
         "type": "scatter",
         "xaxis": "x",
         "yaxis": "y"
        },
        {
         "hovertemplate": "Product Name=APPLE iPhone 11 (Red, 128 GB)<br>Sale Price=%{x}<br>Number Of Ratings=%{y}<br>Discount Percentage=%{marker.size}<extra></extra>",
         "legendgroup": "APPLE iPhone 11 (Red, 128 GB)",
         "marker": {
          "color": "#EF553B",
          "size": [
           8
          ],
          "sizemode": "area",
          "sizeref": 0.0725,
          "symbol": "circle"
         },
         "mode": "markers",
         "name": "APPLE iPhone 11 (Red, 128 GB)",
         "orientation": "v",
         "showlegend": true,
         "type": "scatter",
         "x": [
          54999
         ],
         "xaxis": "x",
         "y": [
          43707
         ],
         "yaxis": "y"
        },
        {
         "hovertemplate": "Product Name=APPLE iPhone 11 (Red, 128 GB)<extra></extra>",
         "legendgroup": "APPLE iPhone 11 (Red, 128 GB)",
         "marker": {
          "color": "#EF553B",
          "symbol": "circle"
         },
         "mode": "lines",
         "name": "APPLE iPhone 11 (Red, 128 GB)",
         "showlegend": false,
         "type": "scatter",
         "xaxis": "x",
         "yaxis": "y"
        },
        {
         "hovertemplate": "Product Name=APPLE iPhone SE (White, 64 GB)<br>Sale Price=%{x}<br>Number Of Ratings=%{y}<br>Discount Percentage=%{marker.size}<extra></extra>",
         "legendgroup": "APPLE iPhone SE (White, 64 GB)",
         "marker": {
          "color": "#00cc96",
          "size": [
           24
          ],
          "sizemode": "area",
          "sizeref": 0.0725,
          "symbol": "circle"
         },
         "mode": "markers",
         "name": "APPLE iPhone SE (White, 64 GB)",
         "orientation": "v",
         "showlegend": true,
         "type": "scatter",
         "x": [
          29999
         ],
         "xaxis": "x",
         "y": [
          95807
         ],
         "yaxis": "y"
        },
        {
         "hovertemplate": "Product Name=APPLE iPhone SE (White, 64 GB)<extra></extra>",
         "legendgroup": "APPLE iPhone SE (White, 64 GB)",
         "marker": {
          "color": "#00cc96",
          "symbol": "circle"
         },
         "mode": "lines",
         "name": "APPLE iPhone SE (White, 64 GB)",
         "showlegend": false,
         "type": "scatter",
         "xaxis": "x",
         "yaxis": "y"
        },
        {
         "hovertemplate": "Product Name=APPLE iPhone SE (Black, 128 GB)<br>Sale Price=%{x}<br>Number Of Ratings=%{y}<br>Discount Percentage=%{marker.size}<extra></extra>",
         "legendgroup": "APPLE iPhone SE (Black, 128 GB)",
         "marker": {
          "color": "#ab63fa",
          "size": [
           22
          ],
          "sizemode": "area",
          "sizeref": 0.0725,
          "symbol": "circle"
         },
         "mode": "markers",
         "name": "APPLE iPhone SE (Black, 128 GB)",
         "orientation": "v",
         "showlegend": true,
         "type": "scatter",
         "x": [
          34999
         ],
         "xaxis": "x",
         "y": [
          95909
         ],
         "yaxis": "y"
        },
        {
         "hovertemplate": "Product Name=APPLE iPhone SE (Black, 128 GB)<extra></extra>",
         "legendgroup": "APPLE iPhone SE (Black, 128 GB)",
         "marker": {
          "color": "#ab63fa",
          "symbol": "circle"
         },
         "mode": "lines",
         "name": "APPLE iPhone SE (Black, 128 GB)",
         "showlegend": false,
         "type": "scatter",
         "xaxis": "x",
         "yaxis": "y"
        },
        {
         "hovertemplate": "Product Name=APPLE iPhone SE (White, 128 GB)<br>Sale Price=%{x}<br>Number Of Ratings=%{y}<br>Discount Percentage=%{marker.size}<extra></extra>",
         "legendgroup": "APPLE iPhone SE (White, 128 GB)",
         "marker": {
          "color": "#FFA15A",
          "size": [
           22
          ],
          "sizemode": "area",
          "sizeref": 0.0725,
          "symbol": "circle"
         },
         "mode": "markers",
         "name": "APPLE iPhone SE (White, 128 GB)",
         "orientation": "v",
         "showlegend": true,
         "type": "scatter",
         "x": [
          34999
         ],
         "xaxis": "x",
         "y": [
          95807
         ],
         "yaxis": "y"
        },
        {
         "hovertemplate": "Product Name=APPLE iPhone SE (White, 128 GB)<extra></extra>",
         "legendgroup": "APPLE iPhone SE (White, 128 GB)",
         "marker": {
          "color": "#FFA15A",
          "symbol": "circle"
         },
         "mode": "lines",
         "name": "APPLE iPhone SE (White, 128 GB)",
         "showlegend": false,
         "type": "scatter",
         "xaxis": "x",
         "yaxis": "y"
        },
        {
         "hovertemplate": "Product Name=APPLE iPhone SE (Red, 128 GB)<br>Sale Price=%{x}<br>Number Of Ratings=%{y}<br>Discount Percentage=%{marker.size}<extra></extra>",
         "legendgroup": "APPLE iPhone SE (Red, 128 GB)",
         "marker": {
          "color": "#19d3f3",
          "size": [
           22
          ],
          "sizemode": "area",
          "sizeref": 0.0725,
          "symbol": "circle"
         },
         "mode": "markers",
         "name": "APPLE iPhone SE (Red, 128 GB)",
         "orientation": "v",
         "showlegend": true,
         "type": "scatter",
         "x": [
          34999
         ],
         "xaxis": "x",
         "y": [
          95909
         ],
         "yaxis": "y"
        },
        {
         "hovertemplate": "Product Name=APPLE iPhone SE (Red, 128 GB)<extra></extra>",
         "legendgroup": "APPLE iPhone SE (Red, 128 GB)",
         "marker": {
          "color": "#19d3f3",
          "symbol": "circle"
         },
         "mode": "lines",
         "name": "APPLE iPhone SE (Red, 128 GB)",
         "showlegend": false,
         "type": "scatter",
         "xaxis": "x",
         "yaxis": "y"
        },
        {
         "hovertemplate": "Product Name=APPLE iPhone 11 (Black, 128 GB)<br>Sale Price=%{x}<br>Number Of Ratings=%{y}<br>Discount Percentage=%{marker.size}<extra></extra>",
         "legendgroup": "APPLE iPhone 11 (Black, 128 GB)",
         "marker": {
          "color": "#FF6692",
          "size": [
           8
          ],
          "sizemode": "area",
          "sizeref": 0.0725,
          "symbol": "circle"
         },
         "mode": "markers",
         "name": "APPLE iPhone 11 (Black, 128 GB)",
         "orientation": "v",
         "showlegend": true,
         "type": "scatter",
         "x": [
          54999
         ],
         "xaxis": "x",
         "y": [
          43470
         ],
         "yaxis": "y"
        },
        {
         "hovertemplate": "Product Name=APPLE iPhone 11 (Black, 128 GB)<extra></extra>",
         "legendgroup": "APPLE iPhone 11 (Black, 128 GB)",
         "marker": {
          "color": "#FF6692",
          "symbol": "circle"
         },
         "mode": "lines",
         "name": "APPLE iPhone 11 (Black, 128 GB)",
         "showlegend": false,
         "type": "scatter",
         "xaxis": "x",
         "yaxis": "y"
        },
        {
         "hovertemplate": "Product Name=APPLE iPhone SE (Black, 64 GB)<br>Sale Price=%{x}<br>Number Of Ratings=%{y}<br>Discount Percentage=%{marker.size}<extra></extra>",
         "legendgroup": "APPLE iPhone SE (Black, 64 GB)",
         "marker": {
          "color": "#B6E880",
          "size": [
           24
          ],
          "sizemode": "area",
          "sizeref": 0.0725,
          "symbol": "circle"
         },
         "mode": "markers",
         "name": "APPLE iPhone SE (Black, 64 GB)",
         "orientation": "v",
         "showlegend": true,
         "type": "scatter",
         "x": [
          29999
         ],
         "xaxis": "x",
         "y": [
          95909
         ],
         "yaxis": "y"
        },
        {
         "hovertemplate": "Product Name=APPLE iPhone SE (Black, 64 GB)<extra></extra>",
         "legendgroup": "APPLE iPhone SE (Black, 64 GB)",
         "marker": {
          "color": "#B6E880",
          "symbol": "circle"
         },
         "mode": "lines",
         "name": "APPLE iPhone SE (Black, 64 GB)",
         "showlegend": false,
         "type": "scatter",
         "xaxis": "x",
         "yaxis": "y"
        },
        {
         "hovertemplate": "Product Name=APPLE iPhone 11 (Purple, 64 GB)<br>Sale Price=%{x}<br>Number Of Ratings=%{y}<br>Discount Percentage=%{marker.size}<extra></extra>",
         "legendgroup": "APPLE iPhone 11 (Purple, 64 GB)",
         "marker": {
          "color": "#FF97FF",
          "size": [
           14
          ],
          "sizemode": "area",
          "sizeref": 0.0725,
          "symbol": "circle"
         },
         "mode": "markers",
         "name": "APPLE iPhone 11 (Purple, 64 GB)",
         "orientation": "v",
         "showlegend": true,
         "type": "scatter",
         "x": [
          46999
         ],
         "xaxis": "x",
         "y": [
          43470
         ],
         "yaxis": "y"
        },
        {
         "hovertemplate": "Product Name=APPLE iPhone 11 (Purple, 64 GB)<extra></extra>",
         "legendgroup": "APPLE iPhone 11 (Purple, 64 GB)",
         "marker": {
          "color": "#FF97FF",
          "symbol": "circle"
         },
         "mode": "lines",
         "name": "APPLE iPhone 11 (Purple, 64 GB)",
         "showlegend": false,
         "type": "scatter",
         "xaxis": "x",
         "yaxis": "y"
        },
        {
         "hovertemplate": "Product Name=APPLE iPhone 11 (White, 64 GB)<br>Sale Price=%{x}<br>Number Of Ratings=%{y}<br>Discount Percentage=%{marker.size}<extra></extra>",
         "legendgroup": "APPLE iPhone 11 (White, 64 GB)",
         "marker": {
          "color": "#FECB52",
          "size": [
           14
          ],
          "sizemode": "area",
          "sizeref": 0.0725,
          "symbol": "circle"
         },
         "mode": "markers",
         "name": "APPLE iPhone 11 (White, 64 GB)",
         "orientation": "v",
         "showlegend": true,
         "type": "scatter",
         "x": [
          46999
         ],
         "xaxis": "x",
         "y": [
          43470
         ],
         "yaxis": "y"
        },
        {
         "hovertemplate": "Product Name=APPLE iPhone 11 (White, 64 GB)<extra></extra>",
         "legendgroup": "APPLE iPhone 11 (White, 64 GB)",
         "marker": {
          "color": "#FECB52",
          "symbol": "circle"
         },
         "mode": "lines",
         "name": "APPLE iPhone 11 (White, 64 GB)",
         "showlegend": false,
         "type": "scatter",
         "xaxis": "x",
         "yaxis": "y"
        },
        {
         "hovertemplate": "Product Name=APPLE iPhone 11 (Black, 64 GB)<br>Sale Price=%{x}<br>Number Of Ratings=%{y}<br>Discount Percentage=%{marker.size}<extra></extra>",
         "legendgroup": "APPLE iPhone 11 (Black, 64 GB)",
         "marker": {
          "color": "#636efa",
          "size": [
           14
          ],
          "sizemode": "area",
          "sizeref": 0.0725,
          "symbol": "circle"
         },
         "mode": "markers",
         "name": "APPLE iPhone 11 (Black, 64 GB)",
         "orientation": "v",
         "showlegend": true,
         "type": "scatter",
         "x": [
          46999
         ],
         "xaxis": "x",
         "y": [
          43470
         ],
         "yaxis": "y"
        },
        {
         "hovertemplate": "Product Name=APPLE iPhone 11 (Black, 64 GB)<extra></extra>",
         "legendgroup": "APPLE iPhone 11 (Black, 64 GB)",
         "marker": {
          "color": "#636efa",
          "symbol": "circle"
         },
         "mode": "lines",
         "name": "APPLE iPhone 11 (Black, 64 GB)",
         "showlegend": false,
         "type": "scatter",
         "xaxis": "x",
         "yaxis": "y"
        },
        {
         "hovertemplate": "Product Name=APPLE iPhone 11 (Red, 64 GB)<br>Sale Price=%{x}<br>Number Of Ratings=%{y}<br>Discount Percentage=%{marker.size}<extra></extra>",
         "legendgroup": "APPLE iPhone 11 (Red, 64 GB)",
         "marker": {
          "color": "#EF553B",
          "size": [
           14
          ],
          "sizemode": "area",
          "sizeref": 0.0725,
          "symbol": "circle"
         },
         "mode": "markers",
         "name": "APPLE iPhone 11 (Red, 64 GB)",
         "orientation": "v",
         "showlegend": true,
         "type": "scatter",
         "x": [
          46999
         ],
         "xaxis": "x",
         "y": [
          43470
         ],
         "yaxis": "y"
        },
        {
         "hovertemplate": "Product Name=APPLE iPhone 11 (Red, 64 GB)<extra></extra>",
         "legendgroup": "APPLE iPhone 11 (Red, 64 GB)",
         "marker": {
          "color": "#EF553B",
          "symbol": "circle"
         },
         "mode": "lines",
         "name": "APPLE iPhone 11 (Red, 64 GB)",
         "showlegend": false,
         "type": "scatter",
         "xaxis": "x",
         "yaxis": "y"
        }
       ],
       "layout": {
        "legend": {
         "itemsizing": "constant",
         "title": {
          "text": "Product Name"
         },
         "tracegroupgap": 0
        },
        "template": {
         "data": {
          "bar": [
           {
            "error_x": {
             "color": "#2a3f5f"
            },
            "error_y": {
             "color": "#2a3f5f"
            },
            "marker": {
             "line": {
              "color": "#E5ECF6",
              "width": 0.5
             },
             "pattern": {
              "fillmode": "overlay",
              "size": 10,
              "solidity": 0.2
             }
            },
            "type": "bar"
           }
          ],
          "barpolar": [
           {
            "marker": {
             "line": {
              "color": "#E5ECF6",
              "width": 0.5
             },
             "pattern": {
              "fillmode": "overlay",
              "size": 10,
              "solidity": 0.2
             }
            },
            "type": "barpolar"
           }
          ],
          "carpet": [
           {
            "aaxis": {
             "endlinecolor": "#2a3f5f",
             "gridcolor": "white",
             "linecolor": "white",
             "minorgridcolor": "white",
             "startlinecolor": "#2a3f5f"
            },
            "baxis": {
             "endlinecolor": "#2a3f5f",
             "gridcolor": "white",
             "linecolor": "white",
             "minorgridcolor": "white",
             "startlinecolor": "#2a3f5f"
            },
            "type": "carpet"
           }
          ],
          "choropleth": [
           {
            "colorbar": {
             "outlinewidth": 0,
             "ticks": ""
            },
            "type": "choropleth"
           }
          ],
          "contour": [
           {
            "colorbar": {
             "outlinewidth": 0,
             "ticks": ""
            },
            "colorscale": [
             [
              0,
              "#0d0887"
             ],
             [
              0.1111111111111111,
              "#46039f"
             ],
             [
              0.2222222222222222,
              "#7201a8"
             ],
             [
              0.3333333333333333,
              "#9c179e"
             ],
             [
              0.4444444444444444,
              "#bd3786"
             ],
             [
              0.5555555555555556,
              "#d8576b"
             ],
             [
              0.6666666666666666,
              "#ed7953"
             ],
             [
              0.7777777777777778,
              "#fb9f3a"
             ],
             [
              0.8888888888888888,
              "#fdca26"
             ],
             [
              1,
              "#f0f921"
             ]
            ],
            "type": "contour"
           }
          ],
          "contourcarpet": [
           {
            "colorbar": {
             "outlinewidth": 0,
             "ticks": ""
            },
            "type": "contourcarpet"
           }
          ],
          "heatmap": [
           {
            "colorbar": {
             "outlinewidth": 0,
             "ticks": ""
            },
            "colorscale": [
             [
              0,
              "#0d0887"
             ],
             [
              0.1111111111111111,
              "#46039f"
             ],
             [
              0.2222222222222222,
              "#7201a8"
             ],
             [
              0.3333333333333333,
              "#9c179e"
             ],
             [
              0.4444444444444444,
              "#bd3786"
             ],
             [
              0.5555555555555556,
              "#d8576b"
             ],
             [
              0.6666666666666666,
              "#ed7953"
             ],
             [
              0.7777777777777778,
              "#fb9f3a"
             ],
             [
              0.8888888888888888,
              "#fdca26"
             ],
             [
              1,
              "#f0f921"
             ]
            ],
            "type": "heatmap"
           }
          ],
          "heatmapgl": [
           {
            "colorbar": {
             "outlinewidth": 0,
             "ticks": ""
            },
            "colorscale": [
             [
              0,
              "#0d0887"
             ],
             [
              0.1111111111111111,
              "#46039f"
             ],
             [
              0.2222222222222222,
              "#7201a8"
             ],
             [
              0.3333333333333333,
              "#9c179e"
             ],
             [
              0.4444444444444444,
              "#bd3786"
             ],
             [
              0.5555555555555556,
              "#d8576b"
             ],
             [
              0.6666666666666666,
              "#ed7953"
             ],
             [
              0.7777777777777778,
              "#fb9f3a"
             ],
             [
              0.8888888888888888,
              "#fdca26"
             ],
             [
              1,
              "#f0f921"
             ]
            ],
            "type": "heatmapgl"
           }
          ],
          "histogram": [
           {
            "marker": {
             "pattern": {
              "fillmode": "overlay",
              "size": 10,
              "solidity": 0.2
             }
            },
            "type": "histogram"
           }
          ],
          "histogram2d": [
           {
            "colorbar": {
             "outlinewidth": 0,
             "ticks": ""
            },
            "colorscale": [
             [
              0,
              "#0d0887"
             ],
             [
              0.1111111111111111,
              "#46039f"
             ],
             [
              0.2222222222222222,
              "#7201a8"
             ],
             [
              0.3333333333333333,
              "#9c179e"
             ],
             [
              0.4444444444444444,
              "#bd3786"
             ],
             [
              0.5555555555555556,
              "#d8576b"
             ],
             [
              0.6666666666666666,
              "#ed7953"
             ],
             [
              0.7777777777777778,
              "#fb9f3a"
             ],
             [
              0.8888888888888888,
              "#fdca26"
             ],
             [
              1,
              "#f0f921"
             ]
            ],
            "type": "histogram2d"
           }
          ],
          "histogram2dcontour": [
           {
            "colorbar": {
             "outlinewidth": 0,
             "ticks": ""
            },
            "colorscale": [
             [
              0,
              "#0d0887"
             ],
             [
              0.1111111111111111,
              "#46039f"
             ],
             [
              0.2222222222222222,
              "#7201a8"
             ],
             [
              0.3333333333333333,
              "#9c179e"
             ],
             [
              0.4444444444444444,
              "#bd3786"
             ],
             [
              0.5555555555555556,
              "#d8576b"
             ],
             [
              0.6666666666666666,
              "#ed7953"
             ],
             [
              0.7777777777777778,
              "#fb9f3a"
             ],
             [
              0.8888888888888888,
              "#fdca26"
             ],
             [
              1,
              "#f0f921"
             ]
            ],
            "type": "histogram2dcontour"
           }
          ],
          "mesh3d": [
           {
            "colorbar": {
             "outlinewidth": 0,
             "ticks": ""
            },
            "type": "mesh3d"
           }
          ],
          "parcoords": [
           {
            "line": {
             "colorbar": {
              "outlinewidth": 0,
              "ticks": ""
             }
            },
            "type": "parcoords"
           }
          ],
          "pie": [
           {
            "automargin": true,
            "type": "pie"
           }
          ],
          "scatter": [
           {
            "fillpattern": {
             "fillmode": "overlay",
             "size": 10,
             "solidity": 0.2
            },
            "type": "scatter"
           }
          ],
          "scatter3d": [
           {
            "line": {
             "colorbar": {
              "outlinewidth": 0,
              "ticks": ""
             }
            },
            "marker": {
             "colorbar": {
              "outlinewidth": 0,
              "ticks": ""
             }
            },
            "type": "scatter3d"
           }
          ],
          "scattercarpet": [
           {
            "marker": {
             "colorbar": {
              "outlinewidth": 0,
              "ticks": ""
             }
            },
            "type": "scattercarpet"
           }
          ],
          "scattergeo": [
           {
            "marker": {
             "colorbar": {
              "outlinewidth": 0,
              "ticks": ""
             }
            },
            "type": "scattergeo"
           }
          ],
          "scattergl": [
           {
            "marker": {
             "colorbar": {
              "outlinewidth": 0,
              "ticks": ""
             }
            },
            "type": "scattergl"
           }
          ],
          "scattermapbox": [
           {
            "marker": {
             "colorbar": {
              "outlinewidth": 0,
              "ticks": ""
             }
            },
            "type": "scattermapbox"
           }
          ],
          "scatterpolar": [
           {
            "marker": {
             "colorbar": {
              "outlinewidth": 0,
              "ticks": ""
             }
            },
            "type": "scatterpolar"
           }
          ],
          "scatterpolargl": [
           {
            "marker": {
             "colorbar": {
              "outlinewidth": 0,
              "ticks": ""
             }
            },
            "type": "scatterpolargl"
           }
          ],
          "scatterternary": [
           {
            "marker": {
             "colorbar": {
              "outlinewidth": 0,
              "ticks": ""
             }
            },
            "type": "scatterternary"
           }
          ],
          "surface": [
           {
            "colorbar": {
             "outlinewidth": 0,
             "ticks": ""
            },
            "colorscale": [
             [
              0,
              "#0d0887"
             ],
             [
              0.1111111111111111,
              "#46039f"
             ],
             [
              0.2222222222222222,
              "#7201a8"
             ],
             [
              0.3333333333333333,
              "#9c179e"
             ],
             [
              0.4444444444444444,
              "#bd3786"
             ],
             [
              0.5555555555555556,
              "#d8576b"
             ],
             [
              0.6666666666666666,
              "#ed7953"
             ],
             [
              0.7777777777777778,
              "#fb9f3a"
             ],
             [
              0.8888888888888888,
              "#fdca26"
             ],
             [
              1,
              "#f0f921"
             ]
            ],
            "type": "surface"
           }
          ],
          "table": [
           {
            "cells": {
             "fill": {
              "color": "#EBF0F8"
             },
             "line": {
              "color": "white"
             }
            },
            "header": {
             "fill": {
              "color": "#C8D4E3"
             },
             "line": {
              "color": "white"
             }
            },
            "type": "table"
           }
          ]
         },
         "layout": {
          "annotationdefaults": {
           "arrowcolor": "#2a3f5f",
           "arrowhead": 0,
           "arrowwidth": 1
          },
          "autotypenumbers": "strict",
          "coloraxis": {
           "colorbar": {
            "outlinewidth": 0,
            "ticks": ""
           }
          },
          "colorscale": {
           "diverging": [
            [
             0,
             "#8e0152"
            ],
            [
             0.1,
             "#c51b7d"
            ],
            [
             0.2,
             "#de77ae"
            ],
            [
             0.3,
             "#f1b6da"
            ],
            [
             0.4,
             "#fde0ef"
            ],
            [
             0.5,
             "#f7f7f7"
            ],
            [
             0.6,
             "#e6f5d0"
            ],
            [
             0.7,
             "#b8e186"
            ],
            [
             0.8,
             "#7fbc41"
            ],
            [
             0.9,
             "#4d9221"
            ],
            [
             1,
             "#276419"
            ]
           ],
           "sequential": [
            [
             0,
             "#0d0887"
            ],
            [
             0.1111111111111111,
             "#46039f"
            ],
            [
             0.2222222222222222,
             "#7201a8"
            ],
            [
             0.3333333333333333,
             "#9c179e"
            ],
            [
             0.4444444444444444,
             "#bd3786"
            ],
            [
             0.5555555555555556,
             "#d8576b"
            ],
            [
             0.6666666666666666,
             "#ed7953"
            ],
            [
             0.7777777777777778,
             "#fb9f3a"
            ],
            [
             0.8888888888888888,
             "#fdca26"
            ],
            [
             1,
             "#f0f921"
            ]
           ],
           "sequentialminus": [
            [
             0,
             "#0d0887"
            ],
            [
             0.1111111111111111,
             "#46039f"
            ],
            [
             0.2222222222222222,
             "#7201a8"
            ],
            [
             0.3333333333333333,
             "#9c179e"
            ],
            [
             0.4444444444444444,
             "#bd3786"
            ],
            [
             0.5555555555555556,
             "#d8576b"
            ],
            [
             0.6666666666666666,
             "#ed7953"
            ],
            [
             0.7777777777777778,
             "#fb9f3a"
            ],
            [
             0.8888888888888888,
             "#fdca26"
            ],
            [
             1,
             "#f0f921"
            ]
           ]
          },
          "colorway": [
           "#636efa",
           "#EF553B",
           "#00cc96",
           "#ab63fa",
           "#FFA15A",
           "#19d3f3",
           "#FF6692",
           "#B6E880",
           "#FF97FF",
           "#FECB52"
          ],
          "font": {
           "color": "#2a3f5f"
          },
          "geo": {
           "bgcolor": "white",
           "lakecolor": "white",
           "landcolor": "#E5ECF6",
           "showlakes": true,
           "showland": true,
           "subunitcolor": "white"
          },
          "hoverlabel": {
           "align": "left"
          },
          "hovermode": "closest",
          "mapbox": {
           "style": "light"
          },
          "paper_bgcolor": "white",
          "plot_bgcolor": "#E5ECF6",
          "polar": {
           "angularaxis": {
            "gridcolor": "white",
            "linecolor": "white",
            "ticks": ""
           },
           "bgcolor": "#E5ECF6",
           "radialaxis": {
            "gridcolor": "white",
            "linecolor": "white",
            "ticks": ""
           }
          },
          "scene": {
           "xaxis": {
            "backgroundcolor": "#E5ECF6",
            "gridcolor": "white",
            "gridwidth": 2,
            "linecolor": "white",
            "showbackground": true,
            "ticks": "",
            "zerolinecolor": "white"
           },
           "yaxis": {
            "backgroundcolor": "#E5ECF6",
            "gridcolor": "white",
            "gridwidth": 2,
            "linecolor": "white",
            "showbackground": true,
            "ticks": "",
            "zerolinecolor": "white"
           },
           "zaxis": {
            "backgroundcolor": "#E5ECF6",
            "gridcolor": "white",
            "gridwidth": 2,
            "linecolor": "white",
            "showbackground": true,
            "ticks": "",
            "zerolinecolor": "white"
           }
          },
          "shapedefaults": {
           "line": {
            "color": "#2a3f5f"
           }
          },
          "ternary": {
           "aaxis": {
            "gridcolor": "white",
            "linecolor": "white",
            "ticks": ""
           },
           "baxis": {
            "gridcolor": "white",
            "linecolor": "white",
            "ticks": ""
           },
           "bgcolor": "#E5ECF6",
           "caxis": {
            "gridcolor": "white",
            "linecolor": "white",
            "ticks": ""
           }
          },
          "title": {
           "x": 0.05
          },
          "xaxis": {
           "automargin": true,
           "gridcolor": "white",
           "linecolor": "white",
           "ticks": "",
           "title": {
            "standoff": 15
           },
           "zerolinecolor": "white",
           "zerolinewidth": 2
          },
          "yaxis": {
           "automargin": true,
           "gridcolor": "white",
           "linecolor": "white",
           "ticks": "",
           "title": {
            "standoff": 15
           },
           "zerolinecolor": "white",
           "zerolinewidth": 2
          }
         }
        },
        "title": {
         "text": "Relationship between sale price and number of ratings"
        },
        "xaxis": {
         "anchor": "y",
         "domain": [
          0,
          1
         ],
         "title": {
          "text": "Sale Price"
         }
        },
        "yaxis": {
         "anchor": "x",
         "domain": [
          0,
          1
         ],
         "title": {
          "text": "Number Of Ratings"
         }
        }
       }
      }
     },
     "metadata": {},
     "output_type": "display_data"
    }
   ],
   "source": [
    "figure = px.scatter(data_frame=df,x=\"Sale Price\",y=\"Number Of Ratings\",size=\"Discount Percentage\",trendline=\"ols\",\n",
    "                    color = \"Product Name\", title=\"Relationship between sale price and number of ratings\")\n",
    "figure.show()"
   ]
  },
  {
   "cell_type": "code",
   "execution_count": null,
   "metadata": {},
   "outputs": [],
   "source": [
    "pip install statsmodels"
   ]
  },
  {
   "cell_type": "code",
   "execution_count": 22,
   "metadata": {},
   "outputs": [
    {
     "data": {
      "application/vnd.plotly.v1+json": {
       "config": {
        "plotlyServerURL": "https://plot.ly"
       },
       "data": [
        {
         "hovertemplate": "Product Name=APPLE iPhone 8 Plus (Gold, 64 GB)<br>Number Of Reviews=%{x}<br>Sale Price=%{y}<br>Discount Percentage=%{marker.size}<extra></extra>",
         "legendgroup": "APPLE iPhone 8 Plus (Gold, 64 GB)",
         "marker": {
          "color": "#636efa",
          "line": {
           "color": "black",
           "width": 2
          },
          "size": [
           0
          ],
          "sizemode": "area",
          "sizeref": 0.0725,
          "symbol": "circle"
         },
         "mode": "markers",
         "name": "APPLE iPhone 8 Plus (Gold, 64 GB)",
         "orientation": "v",
         "showlegend": true,
         "type": "scatter",
         "x": [
          356
         ],
         "xaxis": "x",
         "y": [
          49900
         ],
         "yaxis": "y"
        },
        {
         "hovertemplate": "Product Name=APPLE iPhone 8 Plus (Gold, 64 GB)<extra></extra>",
         "legendgroup": "APPLE iPhone 8 Plus (Gold, 64 GB)",
         "marker": {
          "color": "#636efa",
          "line": {
           "color": "black",
           "width": 2
          },
          "symbol": "circle"
         },
         "mode": "lines",
         "name": "APPLE iPhone 8 Plus (Gold, 64 GB)",
         "showlegend": false,
         "type": "scatter",
         "xaxis": "x",
         "yaxis": "y"
        },
        {
         "hovertemplate": "Product Name=APPLE iPhone 8 Plus (Space Grey, 256 GB)<br>Number Of Reviews=%{x}<br>Sale Price=%{y}<br>Discount Percentage=%{marker.size}<extra></extra>",
         "legendgroup": "APPLE iPhone 8 Plus (Space Grey, 256 GB)",
         "marker": {
          "color": "#EF553B",
          "line": {
           "color": "black",
           "width": 2
          },
          "size": [
           0
          ],
          "sizemode": "area",
          "sizeref": 0.0725,
          "symbol": "circle"
         },
         "mode": "markers",
         "name": "APPLE iPhone 8 Plus (Space Grey, 256 GB)",
         "orientation": "v",
         "showlegend": true,
         "type": "scatter",
         "x": [
          356
         ],
         "xaxis": "x",
         "y": [
          84900
         ],
         "yaxis": "y"
        },
        {
         "hovertemplate": "Product Name=APPLE iPhone 8 Plus (Space Grey, 256 GB)<extra></extra>",
         "legendgroup": "APPLE iPhone 8 Plus (Space Grey, 256 GB)",
         "marker": {
          "color": "#EF553B",
          "line": {
           "color": "black",
           "width": 2
          },
          "symbol": "circle"
         },
         "mode": "lines",
         "name": "APPLE iPhone 8 Plus (Space Grey, 256 GB)",
         "showlegend": false,
         "type": "scatter",
         "xaxis": "x",
         "yaxis": "y"
        },
        {
         "hovertemplate": "Product Name=APPLE iPhone 8 Plus (Silver, 256 GB)<br>Number Of Reviews=%{x}<br>Sale Price=%{y}<br>Discount Percentage=%{marker.size}<extra></extra>",
         "legendgroup": "APPLE iPhone 8 Plus (Silver, 256 GB)",
         "marker": {
          "color": "#00cc96",
          "line": {
           "color": "black",
           "width": 2
          },
          "size": [
           0
          ],
          "sizemode": "area",
          "sizeref": 0.0725,
          "symbol": "circle"
         },
         "mode": "markers",
         "name": "APPLE iPhone 8 Plus (Silver, 256 GB)",
         "orientation": "v",
         "showlegend": true,
         "type": "scatter",
         "x": [
          356
         ],
         "xaxis": "x",
         "y": [
          84900
         ],
         "yaxis": "y"
        },
        {
         "hovertemplate": "Product Name=APPLE iPhone 8 Plus (Silver, 256 GB)<extra></extra>",
         "legendgroup": "APPLE iPhone 8 Plus (Silver, 256 GB)",
         "marker": {
          "color": "#00cc96",
          "line": {
           "color": "black",
           "width": 2
          },
          "symbol": "circle"
         },
         "mode": "lines",
         "name": "APPLE iPhone 8 Plus (Silver, 256 GB)",
         "showlegend": false,
         "type": "scatter",
         "xaxis": "x",
         "yaxis": "y"
        },
        {
         "hovertemplate": "Product Name=APPLE iPhone 8 (Silver, 256 GB)<br>Number Of Reviews=%{x}<br>Sale Price=%{y}<br>Discount Percentage=%{marker.size}<extra></extra>",
         "legendgroup": "APPLE iPhone 8 (Silver, 256 GB)",
         "marker": {
          "color": "#ab63fa",
          "line": {
           "color": "black",
           "width": 2
          },
          "size": [
           0
          ],
          "sizemode": "area",
          "sizeref": 0.0725,
          "symbol": "circle"
         },
         "mode": "markers",
         "name": "APPLE iPhone 8 (Silver, 256 GB)",
         "orientation": "v",
         "showlegend": true,
         "type": "scatter",
         "x": [
          794
         ],
         "xaxis": "x",
         "y": [
          77000
         ],
         "yaxis": "y"
        },
        {
         "hovertemplate": "Product Name=APPLE iPhone 8 (Silver, 256 GB)<extra></extra>",
         "legendgroup": "APPLE iPhone 8 (Silver, 256 GB)",
         "marker": {
          "color": "#ab63fa",
          "line": {
           "color": "black",
           "width": 2
          },
          "symbol": "circle"
         },
         "mode": "lines",
         "name": "APPLE iPhone 8 (Silver, 256 GB)",
         "showlegend": false,
         "type": "scatter",
         "xaxis": "x",
         "yaxis": "y"
        },
        {
         "hovertemplate": "Product Name=APPLE iPhone 8 (Gold, 256 GB)<br>Number Of Reviews=%{x}<br>Sale Price=%{y}<br>Discount Percentage=%{marker.size}<extra></extra>",
         "legendgroup": "APPLE iPhone 8 (Gold, 256 GB)",
         "marker": {
          "color": "#FFA15A",
          "line": {
           "color": "black",
           "width": 2
          },
          "size": [
           0
          ],
          "sizemode": "area",
          "sizeref": 0.0725,
          "symbol": "circle"
         },
         "mode": "markers",
         "name": "APPLE iPhone 8 (Gold, 256 GB)",
         "orientation": "v",
         "showlegend": true,
         "type": "scatter",
         "x": [
          794
         ],
         "xaxis": "x",
         "y": [
          77000
         ],
         "yaxis": "y"
        },
        {
         "hovertemplate": "Product Name=APPLE iPhone 8 (Gold, 256 GB)<extra></extra>",
         "legendgroup": "APPLE iPhone 8 (Gold, 256 GB)",
         "marker": {
          "color": "#FFA15A",
          "line": {
           "color": "black",
           "width": 2
          },
          "symbol": "circle"
         },
         "mode": "lines",
         "name": "APPLE iPhone 8 (Gold, 256 GB)",
         "showlegend": false,
         "type": "scatter",
         "xaxis": "x",
         "yaxis": "y"
        },
        {
         "hovertemplate": "Product Name=APPLE iPhone 8 Plus (Silver, 64 GB)<br>Number Of Reviews=%{x}<br>Sale Price=%{y}<br>Discount Percentage=%{marker.size}<extra></extra>",
         "legendgroup": "APPLE iPhone 8 Plus (Silver, 64 GB)",
         "marker": {
          "color": "#19d3f3",
          "line": {
           "color": "black",
           "width": 2
          },
          "size": [
           0
          ],
          "sizemode": "area",
          "sizeref": 0.0725,
          "symbol": "circle"
         },
         "mode": "markers",
         "name": "APPLE iPhone 8 Plus (Silver, 64 GB)",
         "orientation": "v",
         "showlegend": true,
         "type": "scatter",
         "x": [
          356
         ],
         "xaxis": "x",
         "y": [
          49900
         ],
         "yaxis": "y"
        },
        {
         "hovertemplate": "Product Name=APPLE iPhone 8 Plus (Silver, 64 GB)<extra></extra>",
         "legendgroup": "APPLE iPhone 8 Plus (Silver, 64 GB)",
         "marker": {
          "color": "#19d3f3",
          "line": {
           "color": "black",
           "width": 2
          },
          "symbol": "circle"
         },
         "mode": "lines",
         "name": "APPLE iPhone 8 Plus (Silver, 64 GB)",
         "showlegend": false,
         "type": "scatter",
         "xaxis": "x",
         "yaxis": "y"
        },
        {
         "hovertemplate": "Product Name=APPLE iPhone 8 Plus (Space Grey, 64 GB)<br>Number Of Reviews=%{x}<br>Sale Price=%{y}<br>Discount Percentage=%{marker.size}<extra></extra>",
         "legendgroup": "APPLE iPhone 8 Plus (Space Grey, 64 GB)",
         "marker": {
          "color": "#FF6692",
          "line": {
           "color": "black",
           "width": 2
          },
          "size": [
           0
          ],
          "sizemode": "area",
          "sizeref": 0.0725,
          "symbol": "circle"
         },
         "mode": "markers",
         "name": "APPLE iPhone 8 Plus (Space Grey, 64 GB)",
         "orientation": "v",
         "showlegend": true,
         "type": "scatter",
         "x": [
          356
         ],
         "xaxis": "x",
         "y": [
          49900
         ],
         "yaxis": "y"
        },
        {
         "hovertemplate": "Product Name=APPLE iPhone 8 Plus (Space Grey, 64 GB)<extra></extra>",
         "legendgroup": "APPLE iPhone 8 Plus (Space Grey, 64 GB)",
         "marker": {
          "color": "#FF6692",
          "line": {
           "color": "black",
           "width": 2
          },
          "symbol": "circle"
         },
         "mode": "lines",
         "name": "APPLE iPhone 8 Plus (Space Grey, 64 GB)",
         "showlegend": false,
         "type": "scatter",
         "xaxis": "x",
         "yaxis": "y"
        },
        {
         "hovertemplate": "Product Name=APPLE iPhone 8 (Space Grey, 256 GB)<br>Number Of Reviews=%{x}<br>Sale Price=%{y}<br>Discount Percentage=%{marker.size}<extra></extra>",
         "legendgroup": "APPLE iPhone 8 (Space Grey, 256 GB)",
         "marker": {
          "color": "#B6E880",
          "line": {
           "color": "black",
           "width": 2
          },
          "size": [
           0
          ],
          "sizemode": "area",
          "sizeref": 0.0725,
          "symbol": "circle"
         },
         "mode": "markers",
         "name": "APPLE iPhone 8 (Space Grey, 256 GB)",
         "orientation": "v",
         "showlegend": true,
         "type": "scatter",
         "x": [
          794
         ],
         "xaxis": "x",
         "y": [
          77000
         ],
         "yaxis": "y"
        },
        {
         "hovertemplate": "Product Name=APPLE iPhone 8 (Space Grey, 256 GB)<extra></extra>",
         "legendgroup": "APPLE iPhone 8 (Space Grey, 256 GB)",
         "marker": {
          "color": "#B6E880",
          "line": {
           "color": "black",
           "width": 2
          },
          "symbol": "circle"
         },
         "mode": "lines",
         "name": "APPLE iPhone 8 (Space Grey, 256 GB)",
         "showlegend": false,
         "type": "scatter",
         "xaxis": "x",
         "yaxis": "y"
        },
        {
         "hovertemplate": "Product Name=APPLE iPhone XS Max (Silver, 64 GB)<br>Number Of Reviews=%{x}<br>Sale Price=%{y}<br>Discount Percentage=%{marker.size}<extra></extra>",
         "legendgroup": "APPLE iPhone XS Max (Silver, 64 GB)",
         "marker": {
          "color": "#FF97FF",
          "line": {
           "color": "black",
           "width": 2
          },
          "size": [
           0
          ],
          "sizemode": "area",
          "sizeref": 0.0725,
          "symbol": "circle"
         },
         "mode": "markers",
         "name": "APPLE iPhone XS Max (Silver, 64 GB)",
         "orientation": "v",
         "showlegend": true,
         "type": "scatter",
         "x": [
          149
         ],
         "xaxis": "x",
         "y": [
          89900
         ],
         "yaxis": "y"
        },
        {
         "hovertemplate": "Product Name=APPLE iPhone XS Max (Silver, 64 GB)<extra></extra>",
         "legendgroup": "APPLE iPhone XS Max (Silver, 64 GB)",
         "marker": {
          "color": "#FF97FF",
          "line": {
           "color": "black",
           "width": 2
          },
          "symbol": "circle"
         },
         "mode": "lines",
         "name": "APPLE iPhone XS Max (Silver, 64 GB)",
         "showlegend": false,
         "type": "scatter",
         "xaxis": "x",
         "yaxis": "y"
        },
        {
         "hovertemplate": "Product Name=Apple iPhone XR ((PRODUCT)RED, 128 GB) (Includes EarPods, Power Adapter)<br>Number Of Reviews=%{x}<br>Sale Price=%{y}<br>Discount Percentage=%{marker.size}<extra></extra>",
         "legendgroup": "Apple iPhone XR ((PRODUCT)RED, 128 GB) (Includes EarPods, Power Adapter)",
         "marker": {
          "color": "#FECB52",
          "line": {
           "color": "black",
           "width": 2
          },
          "size": [
           20
          ],
          "sizemode": "area",
          "sizeref": 0.0725,
          "symbol": "circle"
         },
         "mode": "markers",
         "name": "Apple iPhone XR ((PRODUCT)RED, 128 GB) (Includes EarPods, Power Adapter)",
         "orientation": "v",
         "showlegend": true,
         "type": "scatter",
         "x": [
          6796
         ],
         "xaxis": "x",
         "y": [
          41999
         ],
         "yaxis": "y"
        },
        {
         "hovertemplate": "Product Name=Apple iPhone XR ((PRODUCT)RED, 128 GB) (Includes EarPods, Power Adapter)<extra></extra>",
         "legendgroup": "Apple iPhone XR ((PRODUCT)RED, 128 GB) (Includes EarPods, Power Adapter)",
         "marker": {
          "color": "#FECB52",
          "line": {
           "color": "black",
           "width": 2
          },
          "symbol": "circle"
         },
         "mode": "lines",
         "name": "Apple iPhone XR ((PRODUCT)RED, 128 GB) (Includes EarPods, Power Adapter)",
         "showlegend": false,
         "type": "scatter",
         "xaxis": "x",
         "yaxis": "y"
        },
        {
         "hovertemplate": "Product Name=Apple iPhone XR (Black, 64 GB) (Includes EarPods, Power Adapter)<br>Number Of Reviews=%{x}<br>Sale Price=%{y}<br>Discount Percentage=%{marker.size}<extra></extra>",
         "legendgroup": "Apple iPhone XR (Black, 64 GB) (Includes EarPods, Power Adapter)",
         "marker": {
          "color": "#636efa",
          "line": {
           "color": "black",
           "width": 2
          },
          "size": [
           16
          ],
          "sizemode": "area",
          "sizeref": 0.0725,
          "symbol": "circle"
         },
         "mode": "markers",
         "name": "Apple iPhone XR (Black, 64 GB) (Includes EarPods, Power Adapter)",
         "orientation": "v",
         "showlegend": true,
         "type": "scatter",
         "x": [
          6796
         ],
         "xaxis": "x",
         "y": [
          39999
         ],
         "yaxis": "y"
        },
        {
         "hovertemplate": "Product Name=Apple iPhone XR (Black, 64 GB) (Includes EarPods, Power Adapter)<extra></extra>",
         "legendgroup": "Apple iPhone XR (Black, 64 GB) (Includes EarPods, Power Adapter)",
         "marker": {
          "color": "#636efa",
          "line": {
           "color": "black",
           "width": 2
          },
          "symbol": "circle"
         },
         "mode": "lines",
         "name": "Apple iPhone XR (Black, 64 GB) (Includes EarPods, Power Adapter)",
         "showlegend": false,
         "type": "scatter",
         "xaxis": "x",
         "yaxis": "y"
        },
        {
         "hovertemplate": "Product Name=Apple iPhone XR (Coral, 128 GB) (Includes EarPods, Power Adapter)<br>Number Of Reviews=%{x}<br>Sale Price=%{y}<br>Discount Percentage=%{marker.size}<extra></extra>",
         "legendgroup": "Apple iPhone XR (Coral, 128 GB) (Includes EarPods, Power Adapter)",
         "marker": {
          "color": "#EF553B",
          "line": {
           "color": "black",
           "width": 2
          },
          "size": [
           20
          ],
          "sizemode": "area",
          "sizeref": 0.0725,
          "symbol": "circle"
         },
         "mode": "markers",
         "name": "Apple iPhone XR (Coral, 128 GB) (Includes EarPods, Power Adapter)",
         "orientation": "v",
         "showlegend": true,
         "type": "scatter",
         "x": [
          6804
         ],
         "xaxis": "x",
         "y": [
          41999
         ],
         "yaxis": "y"
        },
        {
         "hovertemplate": "Product Name=Apple iPhone XR (Coral, 128 GB) (Includes EarPods, Power Adapter)<extra></extra>",
         "legendgroup": "Apple iPhone XR (Coral, 128 GB) (Includes EarPods, Power Adapter)",
         "marker": {
          "color": "#EF553B",
          "line": {
           "color": "black",
           "width": 2
          },
          "symbol": "circle"
         },
         "mode": "lines",
         "name": "Apple iPhone XR (Coral, 128 GB) (Includes EarPods, Power Adapter)",
         "showlegend": false,
         "type": "scatter",
         "xaxis": "x",
         "yaxis": "y"
        },
        {
         "hovertemplate": "Product Name=Apple iPhone XR (Black, 128 GB) (Includes EarPods, Power Adapter)<br>Number Of Reviews=%{x}<br>Sale Price=%{y}<br>Discount Percentage=%{marker.size}<extra></extra>",
         "legendgroup": "Apple iPhone XR (Black, 128 GB) (Includes EarPods, Power Adapter)",
         "marker": {
          "color": "#00cc96",
          "line": {
           "color": "black",
           "width": 2
          },
          "size": [
           20
          ],
          "sizemode": "area",
          "sizeref": 0.0725,
          "symbol": "circle"
         },
         "mode": "markers",
         "name": "Apple iPhone XR (Black, 128 GB) (Includes EarPods, Power Adapter)",
         "orientation": "v",
         "showlegend": true,
         "type": "scatter",
         "x": [
          6796
         ],
         "xaxis": "x",
         "y": [
          41999
         ],
         "yaxis": "y"
        },
        {
         "hovertemplate": "Product Name=Apple iPhone XR (Black, 128 GB) (Includes EarPods, Power Adapter)<extra></extra>",
         "legendgroup": "Apple iPhone XR (Black, 128 GB) (Includes EarPods, Power Adapter)",
         "marker": {
          "color": "#00cc96",
          "line": {
           "color": "black",
           "width": 2
          },
          "symbol": "circle"
         },
         "mode": "lines",
         "name": "Apple iPhone XR (Black, 128 GB) (Includes EarPods, Power Adapter)",
         "showlegend": false,
         "type": "scatter",
         "xaxis": "x",
         "yaxis": "y"
        },
        {
         "hovertemplate": "Product Name=Apple iPhone XR (White, 128 GB) (Includes EarPods, Power Adapter)<br>Number Of Reviews=%{x}<br>Sale Price=%{y}<br>Discount Percentage=%{marker.size}<extra></extra>",
         "legendgroup": "Apple iPhone XR (White, 128 GB) (Includes EarPods, Power Adapter)",
         "marker": {
          "color": "#ab63fa",
          "line": {
           "color": "black",
           "width": 2
          },
          "size": [
           20
          ],
          "sizemode": "area",
          "sizeref": 0.0725,
          "symbol": "circle"
         },
         "mode": "markers",
         "name": "Apple iPhone XR (White, 128 GB) (Includes EarPods, Power Adapter)",
         "orientation": "v",
         "showlegend": true,
         "type": "scatter",
         "x": [
          6796
         ],
         "xaxis": "x",
         "y": [
          41999
         ],
         "yaxis": "y"
        },
        {
         "hovertemplate": "Product Name=Apple iPhone XR (White, 128 GB) (Includes EarPods, Power Adapter)<extra></extra>",
         "legendgroup": "Apple iPhone XR (White, 128 GB) (Includes EarPods, Power Adapter)",
         "marker": {
          "color": "#ab63fa",
          "line": {
           "color": "black",
           "width": 2
          },
          "symbol": "circle"
         },
         "mode": "lines",
         "name": "Apple iPhone XR (White, 128 GB) (Includes EarPods, Power Adapter)",
         "showlegend": false,
         "type": "scatter",
         "xaxis": "x",
         "yaxis": "y"
        },
        {
         "hovertemplate": "Product Name=APPLE iPhone 11 Pro Max (Gold, 256 GB)<br>Number Of Reviews=%{x}<br>Sale Price=%{y}<br>Discount Percentage=%{marker.size}<extra></extra>",
         "legendgroup": "APPLE iPhone 11 Pro Max (Gold, 256 GB)",
         "marker": {
          "color": "#FFA15A",
          "line": {
           "color": "black",
           "width": 2
          },
          "size": [
           0
          ],
          "sizemode": "area",
          "sizeref": 0.0725,
          "symbol": "circle"
         },
         "mode": "markers",
         "name": "APPLE iPhone 11 Pro Max (Gold, 256 GB)",
         "orientation": "v",
         "showlegend": true,
         "type": "scatter",
         "x": [
          101
         ],
         "xaxis": "x",
         "y": [
          131900
         ],
         "yaxis": "y"
        },
        {
         "hovertemplate": "Product Name=APPLE iPhone 11 Pro Max (Gold, 256 GB)<extra></extra>",
         "legendgroup": "APPLE iPhone 11 Pro Max (Gold, 256 GB)",
         "marker": {
          "color": "#FFA15A",
          "line": {
           "color": "black",
           "width": 2
          },
          "symbol": "circle"
         },
         "mode": "lines",
         "name": "APPLE iPhone 11 Pro Max (Gold, 256 GB)",
         "showlegend": false,
         "type": "scatter",
         "xaxis": "x",
         "yaxis": "y"
        },
        {
         "hovertemplate": "Product Name=APPLE iPhone 11 Pro Max (Gold, 64 GB)<br>Number Of Reviews=%{x}<br>Sale Price=%{y}<br>Discount Percentage=%{marker.size}<extra></extra>",
         "legendgroup": "APPLE iPhone 11 Pro Max (Gold, 64 GB)",
         "marker": {
          "color": "#19d3f3",
          "line": {
           "color": "black",
           "width": 2
          },
          "size": [
           0
          ],
          "sizemode": "area",
          "sizeref": 0.0725,
          "symbol": "circle"
         },
         "mode": "markers",
         "name": "APPLE iPhone 11 Pro Max (Gold, 64 GB)",
         "orientation": "v",
         "showlegend": true,
         "type": "scatter",
         "x": [
          101
         ],
         "xaxis": "x",
         "y": [
          117100
         ],
         "yaxis": "y"
        },
        {
         "hovertemplate": "Product Name=APPLE iPhone 11 Pro Max (Gold, 64 GB)<extra></extra>",
         "legendgroup": "APPLE iPhone 11 Pro Max (Gold, 64 GB)",
         "marker": {
          "color": "#19d3f3",
          "line": {
           "color": "black",
           "width": 2
          },
          "symbol": "circle"
         },
         "mode": "lines",
         "name": "APPLE iPhone 11 Pro Max (Gold, 64 GB)",
         "showlegend": false,
         "type": "scatter",
         "xaxis": "x",
         "yaxis": "y"
        },
        {
         "hovertemplate": "Product Name=APPLE iPhone 11 Pro Max (Midnight Green, 256 GB)<br>Number Of Reviews=%{x}<br>Sale Price=%{y}<br>Discount Percentage=%{marker.size}<extra></extra>",
         "legendgroup": "APPLE iPhone 11 Pro Max (Midnight Green, 256 GB)",
         "marker": {
          "color": "#FF6692",
          "line": {
           "color": "black",
           "width": 2
          },
          "size": [
           0
          ],
          "sizemode": "area",
          "sizeref": 0.0725,
          "symbol": "circle"
         },
         "mode": "markers",
         "name": "APPLE iPhone 11 Pro Max (Midnight Green, 256 GB)",
         "orientation": "v",
         "showlegend": true,
         "type": "scatter",
         "x": [
          101
         ],
         "xaxis": "x",
         "y": [
          131900
         ],
         "yaxis": "y"
        },
        {
         "hovertemplate": "Product Name=APPLE iPhone 11 Pro Max (Midnight Green, 256 GB)<extra></extra>",
         "legendgroup": "APPLE iPhone 11 Pro Max (Midnight Green, 256 GB)",
         "marker": {
          "color": "#FF6692",
          "line": {
           "color": "black",
           "width": 2
          },
          "symbol": "circle"
         },
         "mode": "lines",
         "name": "APPLE iPhone 11 Pro Max (Midnight Green, 256 GB)",
         "showlegend": false,
         "type": "scatter",
         "xaxis": "x",
         "yaxis": "y"
        },
        {
         "hovertemplate": "Product Name=APPLE iPhone 11 Pro Max (Space Grey, 64 GB)<br>Number Of Reviews=%{x}<br>Sale Price=%{y}<br>Discount Percentage=%{marker.size}<extra></extra>",
         "legendgroup": "APPLE iPhone 11 Pro Max (Space Grey, 64 GB)",
         "marker": {
          "color": "#B6E880",
          "line": {
           "color": "black",
           "width": 2
          },
          "size": [
           0
          ],
          "sizemode": "area",
          "sizeref": 0.0725,
          "symbol": "circle"
         },
         "mode": "markers",
         "name": "APPLE iPhone 11 Pro Max (Space Grey, 64 GB)",
         "orientation": "v",
         "showlegend": true,
         "type": "scatter",
         "x": [
          101
         ],
         "xaxis": "x",
         "y": [
          117100
         ],
         "yaxis": "y"
        },
        {
         "hovertemplate": "Product Name=APPLE iPhone 11 Pro Max (Space Grey, 64 GB)<extra></extra>",
         "legendgroup": "APPLE iPhone 11 Pro Max (Space Grey, 64 GB)",
         "marker": {
          "color": "#B6E880",
          "line": {
           "color": "black",
           "width": 2
          },
          "symbol": "circle"
         },
         "mode": "lines",
         "name": "APPLE iPhone 11 Pro Max (Space Grey, 64 GB)",
         "showlegend": false,
         "type": "scatter",
         "xaxis": "x",
         "yaxis": "y"
        },
        {
         "hovertemplate": "Product Name=APPLE iPhone 11 Pro (Midnight Green, 64 GB)<br>Number Of Reviews=%{x}<br>Sale Price=%{y}<br>Discount Percentage=%{marker.size}<extra></extra>",
         "legendgroup": "APPLE iPhone 11 Pro (Midnight Green, 64 GB)",
         "marker": {
          "color": "#FF97FF",
          "line": {
           "color": "black",
           "width": 2
          },
          "size": [
           29
          ],
          "sizemode": "area",
          "sizeref": 0.0725,
          "symbol": "circle"
         },
         "mode": "markers",
         "name": "APPLE iPhone 11 Pro (Midnight Green, 64 GB)",
         "orientation": "v",
         "showlegend": true,
         "type": "scatter",
         "x": [
          523
         ],
         "xaxis": "x",
         "y": [
          74999
         ],
         "yaxis": "y"
        },
        {
         "hovertemplate": "Product Name=APPLE iPhone 11 Pro (Midnight Green, 64 GB)<extra></extra>",
         "legendgroup": "APPLE iPhone 11 Pro (Midnight Green, 64 GB)",
         "marker": {
          "color": "#FF97FF",
          "line": {
           "color": "black",
           "width": 2
          },
          "symbol": "circle"
         },
         "mode": "lines",
         "name": "APPLE iPhone 11 Pro (Midnight Green, 64 GB)",
         "showlegend": false,
         "type": "scatter",
         "xaxis": "x",
         "yaxis": "y"
        },
        {
         "hovertemplate": "Product Name=APPLE iPhone 11 Pro (Space Grey, 512 GB)<br>Number Of Reviews=%{x}<br>Sale Price=%{y}<br>Discount Percentage=%{marker.size}<extra></extra>",
         "legendgroup": "APPLE iPhone 11 Pro (Space Grey, 512 GB)",
         "marker": {
          "color": "#FECB52",
          "line": {
           "color": "black",
           "width": 2
          },
          "size": [
           15
          ],
          "sizemode": "area",
          "sizeref": 0.0725,
          "symbol": "circle"
         },
         "mode": "markers",
         "name": "APPLE iPhone 11 Pro (Space Grey, 512 GB)",
         "orientation": "v",
         "showlegend": true,
         "type": "scatter",
         "x": [
          523
         ],
         "xaxis": "x",
         "y": [
          117900
         ],
         "yaxis": "y"
        },
        {
         "hovertemplate": "Product Name=APPLE iPhone 11 Pro (Space Grey, 512 GB)<extra></extra>",
         "legendgroup": "APPLE iPhone 11 Pro (Space Grey, 512 GB)",
         "marker": {
          "color": "#FECB52",
          "line": {
           "color": "black",
           "width": 2
          },
          "symbol": "circle"
         },
         "mode": "lines",
         "name": "APPLE iPhone 11 Pro (Space Grey, 512 GB)",
         "showlegend": false,
         "type": "scatter",
         "xaxis": "x",
         "yaxis": "y"
        },
        {
         "hovertemplate": "Product Name=APPLE iPhone 11 Pro Max (Midnight Green, 64 GB)<br>Number Of Reviews=%{x}<br>Sale Price=%{y}<br>Discount Percentage=%{marker.size}<extra></extra>",
         "legendgroup": "APPLE iPhone 11 Pro Max (Midnight Green, 64 GB)",
         "marker": {
          "color": "#636efa",
          "line": {
           "color": "black",
           "width": 2
          },
          "size": [
           0
          ],
          "sizemode": "area",
          "sizeref": 0.0725,
          "symbol": "circle"
         },
         "mode": "markers",
         "name": "APPLE iPhone 11 Pro Max (Midnight Green, 64 GB)",
         "orientation": "v",
         "showlegend": true,
         "type": "scatter",
         "x": [
          101
         ],
         "xaxis": "x",
         "y": [
          117100
         ],
         "yaxis": "y"
        },
        {
         "hovertemplate": "Product Name=APPLE iPhone 11 Pro Max (Midnight Green, 64 GB)<extra></extra>",
         "legendgroup": "APPLE iPhone 11 Pro Max (Midnight Green, 64 GB)",
         "marker": {
          "color": "#636efa",
          "line": {
           "color": "black",
           "width": 2
          },
          "symbol": "circle"
         },
         "mode": "lines",
         "name": "APPLE iPhone 11 Pro Max (Midnight Green, 64 GB)",
         "showlegend": false,
         "type": "scatter",
         "xaxis": "x",
         "yaxis": "y"
        },
        {
         "hovertemplate": "Product Name=APPLE iPhone 11 Pro (Midnight Green, 512 GB)<br>Number Of Reviews=%{x}<br>Sale Price=%{y}<br>Discount Percentage=%{marker.size}<extra></extra>",
         "legendgroup": "APPLE iPhone 11 Pro (Midnight Green, 512 GB)",
         "marker": {
          "color": "#EF553B",
          "line": {
           "color": "black",
           "width": 2
          },
          "size": [
           15
          ],
          "sizemode": "area",
          "sizeref": 0.0725,
          "symbol": "circle"
         },
         "mode": "markers",
         "name": "APPLE iPhone 11 Pro (Midnight Green, 512 GB)",
         "orientation": "v",
         "showlegend": true,
         "type": "scatter",
         "x": [
          523
         ],
         "xaxis": "x",
         "y": [
          117900
         ],
         "yaxis": "y"
        },
        {
         "hovertemplate": "Product Name=APPLE iPhone 11 Pro (Midnight Green, 512 GB)<extra></extra>",
         "legendgroup": "APPLE iPhone 11 Pro (Midnight Green, 512 GB)",
         "marker": {
          "color": "#EF553B",
          "line": {
           "color": "black",
           "width": 2
          },
          "symbol": "circle"
         },
         "mode": "lines",
         "name": "APPLE iPhone 11 Pro (Midnight Green, 512 GB)",
         "showlegend": false,
         "type": "scatter",
         "xaxis": "x",
         "yaxis": "y"
        },
        {
         "hovertemplate": "Product Name=APPLE iPhone 11 Pro (Space Grey, 256 GB)<br>Number Of Reviews=%{x}<br>Sale Price=%{y}<br>Discount Percentage=%{marker.size}<extra></extra>",
         "legendgroup": "APPLE iPhone 11 Pro (Space Grey, 256 GB)",
         "marker": {
          "color": "#00cc96",
          "line": {
           "color": "black",
           "width": 2
          },
          "size": [
           17
          ],
          "sizemode": "area",
          "sizeref": 0.0725,
          "symbol": "circle"
         },
         "mode": "markers",
         "name": "APPLE iPhone 11 Pro (Space Grey, 256 GB)",
         "orientation": "v",
         "showlegend": true,
         "type": "scatter",
         "x": [
          522
         ],
         "xaxis": "x",
         "y": [
          99900
         ],
         "yaxis": "y"
        },
        {
         "hovertemplate": "Product Name=APPLE iPhone 11 Pro (Space Grey, 256 GB)<extra></extra>",
         "legendgroup": "APPLE iPhone 11 Pro (Space Grey, 256 GB)",
         "marker": {
          "color": "#00cc96",
          "line": {
           "color": "black",
           "width": 2
          },
          "symbol": "circle"
         },
         "mode": "lines",
         "name": "APPLE iPhone 11 Pro (Space Grey, 256 GB)",
         "showlegend": false,
         "type": "scatter",
         "xaxis": "x",
         "yaxis": "y"
        },
        {
         "hovertemplate": "Product Name=Apple iPhone SE (White, 256 GB) (Includes EarPods, Power Adapter)<br>Number Of Reviews=%{x}<br>Sale Price=%{y}<br>Discount Percentage=%{marker.size}<extra></extra>",
         "legendgroup": "Apple iPhone SE (White, 256 GB) (Includes EarPods, Power Adapter)",
         "marker": {
          "color": "#ab63fa",
          "line": {
           "color": "black",
           "width": 2
          },
          "size": [
           18
          ],
          "sizemode": "area",
          "sizeref": 0.0725,
          "symbol": "circle"
         },
         "mode": "markers",
         "name": "Apple iPhone SE (White, 256 GB) (Includes EarPods, Power Adapter)",
         "orientation": "v",
         "showlegend": true,
         "type": "scatter",
         "x": [
          8161
         ],
         "xaxis": "x",
         "y": [
          44999
         ],
         "yaxis": "y"
        },
        {
         "hovertemplate": "Product Name=Apple iPhone SE (White, 256 GB) (Includes EarPods, Power Adapter)<extra></extra>",
         "legendgroup": "Apple iPhone SE (White, 256 GB) (Includes EarPods, Power Adapter)",
         "marker": {
          "color": "#ab63fa",
          "line": {
           "color": "black",
           "width": 2
          },
          "symbol": "circle"
         },
         "mode": "lines",
         "name": "Apple iPhone SE (White, 256 GB) (Includes EarPods, Power Adapter)",
         "showlegend": false,
         "type": "scatter",
         "xaxis": "x",
         "yaxis": "y"
        },
        {
         "hovertemplate": "Product Name=APPLE iPhone 12 Pro (Silver, 512 GB)<br>Number Of Reviews=%{x}<br>Sale Price=%{y}<br>Discount Percentage=%{marker.size}<extra></extra>",
         "legendgroup": "APPLE iPhone 12 Pro (Silver, 512 GB)",
         "marker": {
          "color": "#FFA15A",
          "line": {
           "color": "black",
           "width": 2
          },
          "size": [
           6
          ],
          "sizemode": "area",
          "sizeref": 0.0725,
          "symbol": "circle"
         },
         "mode": "markers",
         "name": "APPLE iPhone 12 Pro (Silver, 512 GB)",
         "orientation": "v",
         "showlegend": true,
         "type": "scatter",
         "x": [
          42
         ],
         "xaxis": "x",
         "y": [
          140900
         ],
         "yaxis": "y"
        },
        {
         "hovertemplate": "Product Name=APPLE iPhone 12 Pro (Silver, 512 GB)<extra></extra>",
         "legendgroup": "APPLE iPhone 12 Pro (Silver, 512 GB)",
         "marker": {
          "color": "#FFA15A",
          "line": {
           "color": "black",
           "width": 2
          },
          "symbol": "circle"
         },
         "mode": "lines",
         "name": "APPLE iPhone 12 Pro (Silver, 512 GB)",
         "showlegend": false,
         "type": "scatter",
         "xaxis": "x",
         "yaxis": "y"
        },
        {
         "hovertemplate": "Product Name=APPLE iPhone 12 Pro Max (Pacific Blue, 256 GB)<br>Number Of Reviews=%{x}<br>Sale Price=%{y}<br>Discount Percentage=%{marker.size}<extra></extra>",
         "legendgroup": "APPLE iPhone 12 Pro Max (Pacific Blue, 256 GB)",
         "marker": {
          "color": "#19d3f3",
          "line": {
           "color": "black",
           "width": 2
          },
          "size": [
           6
          ],
          "sizemode": "area",
          "sizeref": 0.0725,
          "symbol": "circle"
         },
         "mode": "markers",
         "name": "APPLE iPhone 12 Pro Max (Pacific Blue, 256 GB)",
         "orientation": "v",
         "showlegend": true,
         "type": "scatter",
         "x": [
          45
         ],
         "xaxis": "x",
         "y": [
          130900
         ],
         "yaxis": "y"
        },
        {
         "hovertemplate": "Product Name=APPLE iPhone 12 Pro Max (Pacific Blue, 256 GB)<extra></extra>",
         "legendgroup": "APPLE iPhone 12 Pro Max (Pacific Blue, 256 GB)",
         "marker": {
          "color": "#19d3f3",
          "line": {
           "color": "black",
           "width": 2
          },
          "symbol": "circle"
         },
         "mode": "lines",
         "name": "APPLE iPhone 12 Pro Max (Pacific Blue, 256 GB)",
         "showlegend": false,
         "type": "scatter",
         "xaxis": "x",
         "yaxis": "y"
        },
        {
         "hovertemplate": "Product Name=APPLE iPhone 12 Mini (White, 128 GB)<br>Number Of Reviews=%{x}<br>Sale Price=%{y}<br>Discount Percentage=%{marker.size}<extra></extra>",
         "legendgroup": "APPLE iPhone 12 Mini (White, 128 GB)",
         "marker": {
          "color": "#FF6692",
          "line": {
           "color": "black",
           "width": 2
          },
          "size": [
           13
          ],
          "sizemode": "area",
          "sizeref": 0.0725,
          "symbol": "circle"
         },
         "mode": "markers",
         "name": "APPLE iPhone 12 Mini (White, 128 GB)",
         "orientation": "v",
         "showlegend": true,
         "type": "scatter",
         "x": [
          64
         ],
         "xaxis": "x",
         "y": [
          64900
         ],
         "yaxis": "y"
        },
        {
         "hovertemplate": "Product Name=APPLE iPhone 12 Mini (White, 128 GB)<extra></extra>",
         "legendgroup": "APPLE iPhone 12 Mini (White, 128 GB)",
         "marker": {
          "color": "#FF6692",
          "line": {
           "color": "black",
           "width": 2
          },
          "symbol": "circle"
         },
         "mode": "lines",
         "name": "APPLE iPhone 12 Mini (White, 128 GB)",
         "showlegend": false,
         "type": "scatter",
         "xaxis": "x",
         "yaxis": "y"
        },
        {
         "hovertemplate": "Product Name=APPLE iPhone 12 Pro (Graphite, 256 GB)<br>Number Of Reviews=%{x}<br>Sale Price=%{y}<br>Discount Percentage=%{marker.size}<extra></extra>",
         "legendgroup": "APPLE iPhone 12 Pro (Graphite, 256 GB)",
         "marker": {
          "color": "#B6E880",
          "line": {
           "color": "black",
           "width": 2
          },
          "size": [
           6
          ],
          "sizemode": "area",
          "sizeref": 0.0725,
          "symbol": "circle"
         },
         "mode": "markers",
         "name": "APPLE iPhone 12 Pro (Graphite, 256 GB)",
         "orientation": "v",
         "showlegend": true,
         "type": "scatter",
         "x": [
          42
         ],
         "xaxis": "x",
         "y": [
          120900
         ],
         "yaxis": "y"
        },
        {
         "hovertemplate": "Product Name=APPLE iPhone 12 Pro (Graphite, 256 GB)<extra></extra>",
         "legendgroup": "APPLE iPhone 12 Pro (Graphite, 256 GB)",
         "marker": {
          "color": "#B6E880",
          "line": {
           "color": "black",
           "width": 2
          },
          "symbol": "circle"
         },
         "mode": "lines",
         "name": "APPLE iPhone 12 Pro (Graphite, 256 GB)",
         "showlegend": false,
         "type": "scatter",
         "xaxis": "x",
         "yaxis": "y"
        },
        {
         "hovertemplate": "Product Name=APPLE iPhone 12 Mini (White, 64 GB)<br>Number Of Reviews=%{x}<br>Sale Price=%{y}<br>Discount Percentage=%{marker.size}<extra></extra>",
         "legendgroup": "APPLE iPhone 12 Mini (White, 64 GB)",
         "marker": {
          "color": "#FF97FF",
          "line": {
           "color": "black",
           "width": 2
          },
          "size": [
           14
          ],
          "sizemode": "area",
          "sizeref": 0.0725,
          "symbol": "circle"
         },
         "mode": "markers",
         "name": "APPLE iPhone 12 Mini (White, 64 GB)",
         "orientation": "v",
         "showlegend": true,
         "type": "scatter",
         "x": [
          64
         ],
         "xaxis": "x",
         "y": [
          59900
         ],
         "yaxis": "y"
        },
        {
         "hovertemplate": "Product Name=APPLE iPhone 12 Mini (White, 64 GB)<extra></extra>",
         "legendgroup": "APPLE iPhone 12 Mini (White, 64 GB)",
         "marker": {
          "color": "#FF97FF",
          "line": {
           "color": "black",
           "width": 2
          },
          "symbol": "circle"
         },
         "mode": "lines",
         "name": "APPLE iPhone 12 Mini (White, 64 GB)",
         "showlegend": false,
         "type": "scatter",
         "xaxis": "x",
         "yaxis": "y"
        },
        {
         "hovertemplate": "Product Name=APPLE iPhone 12 (White, 128 GB)<br>Number Of Reviews=%{x}<br>Sale Price=%{y}<br>Discount Percentage=%{marker.size}<extra></extra>",
         "legendgroup": "APPLE iPhone 12 (White, 128 GB)",
         "marker": {
          "color": "#FECB52",
          "line": {
           "color": "black",
           "width": 2
          },
          "size": [
           10
          ],
          "sizemode": "area",
          "sizeref": 0.0725,
          "symbol": "circle"
         },
         "mode": "markers",
         "name": "APPLE iPhone 12 (White, 128 GB)",
         "orientation": "v",
         "showlegend": true,
         "type": "scatter",
         "x": [
          180
         ],
         "xaxis": "x",
         "y": [
          75900
         ],
         "yaxis": "y"
        },
        {
         "hovertemplate": "Product Name=APPLE iPhone 12 (White, 128 GB)<extra></extra>",
         "legendgroup": "APPLE iPhone 12 (White, 128 GB)",
         "marker": {
          "color": "#FECB52",
          "line": {
           "color": "black",
           "width": 2
          },
          "symbol": "circle"
         },
         "mode": "lines",
         "name": "APPLE iPhone 12 (White, 128 GB)",
         "showlegend": false,
         "type": "scatter",
         "xaxis": "x",
         "yaxis": "y"
        },
        {
         "hovertemplate": "Product Name=APPLE iPhone 12 Pro (Graphite, 128 GB)<br>Number Of Reviews=%{x}<br>Sale Price=%{y}<br>Discount Percentage=%{marker.size}<extra></extra>",
         "legendgroup": "APPLE iPhone 12 Pro (Graphite, 128 GB)",
         "marker": {
          "color": "#636efa",
          "line": {
           "color": "black",
           "width": 2
          },
          "size": [
           7
          ],
          "sizemode": "area",
          "sizeref": 0.0725,
          "symbol": "circle"
         },
         "mode": "markers",
         "name": "APPLE iPhone 12 Pro (Graphite, 128 GB)",
         "orientation": "v",
         "showlegend": true,
         "type": "scatter",
         "x": [
          42
         ],
         "xaxis": "x",
         "y": [
          110900
         ],
         "yaxis": "y"
        },
        {
         "hovertemplate": "Product Name=APPLE iPhone 12 Pro (Graphite, 128 GB)<extra></extra>",
         "legendgroup": "APPLE iPhone 12 Pro (Graphite, 128 GB)",
         "marker": {
          "color": "#636efa",
          "line": {
           "color": "black",
           "width": 2
          },
          "symbol": "circle"
         },
         "mode": "lines",
         "name": "APPLE iPhone 12 Pro (Graphite, 128 GB)",
         "showlegend": false,
         "type": "scatter",
         "xaxis": "x",
         "yaxis": "y"
        },
        {
         "hovertemplate": "Product Name=APPLE iPhone 12 Pro Max (Graphite, 256 GB)<br>Number Of Reviews=%{x}<br>Sale Price=%{y}<br>Discount Percentage=%{marker.size}<extra></extra>",
         "legendgroup": "APPLE iPhone 12 Pro Max (Graphite, 256 GB)",
         "marker": {
          "color": "#EF553B",
          "line": {
           "color": "black",
           "width": 2
          },
          "size": [
           6
          ],
          "sizemode": "area",
          "sizeref": 0.0725,
          "symbol": "circle"
         },
         "mode": "markers",
         "name": "APPLE iPhone 12 Pro Max (Graphite, 256 GB)",
         "orientation": "v",
         "showlegend": true,
         "type": "scatter",
         "x": [
          45
         ],
         "xaxis": "x",
         "y": [
          130900
         ],
         "yaxis": "y"
        },
        {
         "hovertemplate": "Product Name=APPLE iPhone 12 Pro Max (Graphite, 256 GB)<extra></extra>",
         "legendgroup": "APPLE iPhone 12 Pro Max (Graphite, 256 GB)",
         "marker": {
          "color": "#EF553B",
          "line": {
           "color": "black",
           "width": 2
          },
          "symbol": "circle"
         },
         "mode": "lines",
         "name": "APPLE iPhone 12 Pro Max (Graphite, 256 GB)",
         "showlegend": false,
         "type": "scatter",
         "xaxis": "x",
         "yaxis": "y"
        },
        {
         "hovertemplate": "Product Name=APPLE iPhone 12 Pro Max (Graphite, 128 GB)<br>Number Of Reviews=%{x}<br>Sale Price=%{y}<br>Discount Percentage=%{marker.size}<extra></extra>",
         "legendgroup": "APPLE iPhone 12 Pro Max (Graphite, 128 GB)",
         "marker": {
          "color": "#00cc96",
          "line": {
           "color": "black",
           "width": 2
          },
          "size": [
           6
          ],
          "sizemode": "area",
          "sizeref": 0.0725,
          "symbol": "circle"
         },
         "mode": "markers",
         "name": "APPLE iPhone 12 Pro Max (Graphite, 128 GB)",
         "orientation": "v",
         "showlegend": true,
         "type": "scatter",
         "x": [
          45
         ],
         "xaxis": "x",
         "y": [
          120900
         ],
         "yaxis": "y"
        },
        {
         "hovertemplate": "Product Name=APPLE iPhone 12 Pro Max (Graphite, 128 GB)<extra></extra>",
         "legendgroup": "APPLE iPhone 12 Pro Max (Graphite, 128 GB)",
         "marker": {
          "color": "#00cc96",
          "line": {
           "color": "black",
           "width": 2
          },
          "symbol": "circle"
         },
         "mode": "lines",
         "name": "APPLE iPhone 12 Pro Max (Graphite, 128 GB)",
         "showlegend": false,
         "type": "scatter",
         "xaxis": "x",
         "yaxis": "y"
        },
        {
         "hovertemplate": "Product Name=APPLE iPhone 12 Mini (Black, 128 GB)<br>Number Of Reviews=%{x}<br>Sale Price=%{y}<br>Discount Percentage=%{marker.size}<extra></extra>",
         "legendgroup": "APPLE iPhone 12 Mini (Black, 128 GB)",
         "marker": {
          "color": "#ab63fa",
          "line": {
           "color": "black",
           "width": 2
          },
          "size": [
           13
          ],
          "sizemode": "area",
          "sizeref": 0.0725,
          "symbol": "circle"
         },
         "mode": "markers",
         "name": "APPLE iPhone 12 Mini (Black, 128 GB)",
         "orientation": "v",
         "showlegend": true,
         "type": "scatter",
         "x": [
          63
         ],
         "xaxis": "x",
         "y": [
          64900
         ],
         "yaxis": "y"
        },
        {
         "hovertemplate": "Product Name=APPLE iPhone 12 Mini (Black, 128 GB)<extra></extra>",
         "legendgroup": "APPLE iPhone 12 Mini (Black, 128 GB)",
         "marker": {
          "color": "#ab63fa",
          "line": {
           "color": "black",
           "width": 2
          },
          "symbol": "circle"
         },
         "mode": "lines",
         "name": "APPLE iPhone 12 Mini (Black, 128 GB)",
         "showlegend": false,
         "type": "scatter",
         "xaxis": "x",
         "yaxis": "y"
        },
        {
         "hovertemplate": "Product Name=APPLE iPhone 12 Mini (Blue, 128 GB)<br>Number Of Reviews=%{x}<br>Sale Price=%{y}<br>Discount Percentage=%{marker.size}<extra></extra>",
         "legendgroup": "APPLE iPhone 12 Mini (Blue, 128 GB)",
         "marker": {
          "color": "#FFA15A",
          "line": {
           "color": "black",
           "width": 2
          },
          "size": [
           13
          ],
          "sizemode": "area",
          "sizeref": 0.0725,
          "symbol": "circle"
         },
         "mode": "markers",
         "name": "APPLE iPhone 12 Mini (Blue, 128 GB)",
         "orientation": "v",
         "showlegend": true,
         "type": "scatter",
         "x": [
          63
         ],
         "xaxis": "x",
         "y": [
          64900
         ],
         "yaxis": "y"
        },
        {
         "hovertemplate": "Product Name=APPLE iPhone 12 Mini (Blue, 128 GB)<extra></extra>",
         "legendgroup": "APPLE iPhone 12 Mini (Blue, 128 GB)",
         "marker": {
          "color": "#FFA15A",
          "line": {
           "color": "black",
           "width": 2
          },
          "symbol": "circle"
         },
         "mode": "lines",
         "name": "APPLE iPhone 12 Mini (Blue, 128 GB)",
         "showlegend": false,
         "type": "scatter",
         "xaxis": "x",
         "yaxis": "y"
        },
        {
         "hovertemplate": "Product Name=APPLE iPhone 12 (Black, 128 GB)<br>Number Of Reviews=%{x}<br>Sale Price=%{y}<br>Discount Percentage=%{marker.size}<extra></extra>",
         "legendgroup": "APPLE iPhone 12 (Black, 128 GB)",
         "marker": {
          "color": "#19d3f3",
          "line": {
           "color": "black",
           "width": 2
          },
          "size": [
           10
          ],
          "sizemode": "area",
          "sizeref": 0.0725,
          "symbol": "circle"
         },
         "mode": "markers",
         "name": "APPLE iPhone 12 (Black, 128 GB)",
         "orientation": "v",
         "showlegend": true,
         "type": "scatter",
         "x": [
          180
         ],
         "xaxis": "x",
         "y": [
          75900
         ],
         "yaxis": "y"
        },
        {
         "hovertemplate": "Product Name=APPLE iPhone 12 (Black, 128 GB)<extra></extra>",
         "legendgroup": "APPLE iPhone 12 (Black, 128 GB)",
         "marker": {
          "color": "#19d3f3",
          "line": {
           "color": "black",
           "width": 2
          },
          "symbol": "circle"
         },
         "mode": "lines",
         "name": "APPLE iPhone 12 (Black, 128 GB)",
         "showlegend": false,
         "type": "scatter",
         "xaxis": "x",
         "yaxis": "y"
        },
        {
         "hovertemplate": "Product Name=APPLE iPhone 12 (Blue, 128 GB)<br>Number Of Reviews=%{x}<br>Sale Price=%{y}<br>Discount Percentage=%{marker.size}<extra></extra>",
         "legendgroup": "APPLE iPhone 12 (Blue, 128 GB)",
         "marker": {
          "color": "#FF6692",
          "line": {
           "color": "black",
           "width": 2
          },
          "size": [
           10
          ],
          "sizemode": "area",
          "sizeref": 0.0725,
          "symbol": "circle"
         },
         "mode": "markers",
         "name": "APPLE iPhone 12 (Blue, 128 GB)",
         "orientation": "v",
         "showlegend": true,
         "type": "scatter",
         "x": [
          180
         ],
         "xaxis": "x",
         "y": [
          75900
         ],
         "yaxis": "y"
        },
        {
         "hovertemplate": "Product Name=APPLE iPhone 12 (Blue, 128 GB)<extra></extra>",
         "legendgroup": "APPLE iPhone 12 (Blue, 128 GB)",
         "marker": {
          "color": "#FF6692",
          "line": {
           "color": "black",
           "width": 2
          },
          "symbol": "circle"
         },
         "mode": "lines",
         "name": "APPLE iPhone 12 (Blue, 128 GB)",
         "showlegend": false,
         "type": "scatter",
         "xaxis": "x",
         "yaxis": "y"
        },
        {
         "hovertemplate": "Product Name=APPLE iPhone 12 Pro Max (Silver, 128 GB)<br>Number Of Reviews=%{x}<br>Sale Price=%{y}<br>Discount Percentage=%{marker.size}<extra></extra>",
         "legendgroup": "APPLE iPhone 12 Pro Max (Silver, 128 GB)",
         "marker": {
          "color": "#B6E880",
          "line": {
           "color": "black",
           "width": 2
          },
          "size": [
           6
          ],
          "sizemode": "area",
          "sizeref": 0.0725,
          "symbol": "circle"
         },
         "mode": "markers",
         "name": "APPLE iPhone 12 Pro Max (Silver, 128 GB)",
         "orientation": "v",
         "showlegend": true,
         "type": "scatter",
         "x": [
          45
         ],
         "xaxis": "x",
         "y": [
          120900
         ],
         "yaxis": "y"
        },
        {
         "hovertemplate": "Product Name=APPLE iPhone 12 Pro Max (Silver, 128 GB)<extra></extra>",
         "legendgroup": "APPLE iPhone 12 Pro Max (Silver, 128 GB)",
         "marker": {
          "color": "#B6E880",
          "line": {
           "color": "black",
           "width": 2
          },
          "symbol": "circle"
         },
         "mode": "lines",
         "name": "APPLE iPhone 12 Pro Max (Silver, 128 GB)",
         "showlegend": false,
         "type": "scatter",
         "xaxis": "x",
         "yaxis": "y"
        },
        {
         "hovertemplate": "Product Name=APPLE iPhone 12 Mini (Red, 64 GB)<br>Number Of Reviews=%{x}<br>Sale Price=%{y}<br>Discount Percentage=%{marker.size}<extra></extra>",
         "legendgroup": "APPLE iPhone 12 Mini (Red, 64 GB)",
         "marker": {
          "color": "#FF97FF",
          "line": {
           "color": "black",
           "width": 2
          },
          "size": [
           14
          ],
          "sizemode": "area",
          "sizeref": 0.0725,
          "symbol": "circle"
         },
         "mode": "markers",
         "name": "APPLE iPhone 12 Mini (Red, 64 GB)",
         "orientation": "v",
         "showlegend": true,
         "type": "scatter",
         "x": [
          64
         ],
         "xaxis": "x",
         "y": [
          59900
         ],
         "yaxis": "y"
        },
        {
         "hovertemplate": "Product Name=APPLE iPhone 12 Mini (Red, 64 GB)<extra></extra>",
         "legendgroup": "APPLE iPhone 12 Mini (Red, 64 GB)",
         "marker": {
          "color": "#FF97FF",
          "line": {
           "color": "black",
           "width": 2
          },
          "symbol": "circle"
         },
         "mode": "lines",
         "name": "APPLE iPhone 12 Mini (Red, 64 GB)",
         "showlegend": false,
         "type": "scatter",
         "xaxis": "x",
         "yaxis": "y"
        },
        {
         "hovertemplate": "Product Name=APPLE iPhone 12 Pro Max (Gold, 128 GB)<br>Number Of Reviews=%{x}<br>Sale Price=%{y}<br>Discount Percentage=%{marker.size}<extra></extra>",
         "legendgroup": "APPLE iPhone 12 Pro Max (Gold, 128 GB)",
         "marker": {
          "color": "#FECB52",
          "line": {
           "color": "black",
           "width": 2
          },
          "size": [
           6
          ],
          "sizemode": "area",
          "sizeref": 0.0725,
          "symbol": "circle"
         },
         "mode": "markers",
         "name": "APPLE iPhone 12 Pro Max (Gold, 128 GB)",
         "orientation": "v",
         "showlegend": true,
         "type": "scatter",
         "x": [
          45
         ],
         "xaxis": "x",
         "y": [
          120900
         ],
         "yaxis": "y"
        },
        {
         "hovertemplate": "Product Name=APPLE iPhone 12 Pro Max (Gold, 128 GB)<extra></extra>",
         "legendgroup": "APPLE iPhone 12 Pro Max (Gold, 128 GB)",
         "marker": {
          "color": "#FECB52",
          "line": {
           "color": "black",
           "width": 2
          },
          "symbol": "circle"
         },
         "mode": "lines",
         "name": "APPLE iPhone 12 Pro Max (Gold, 128 GB)",
         "showlegend": false,
         "type": "scatter",
         "xaxis": "x",
         "yaxis": "y"
        },
        {
         "hovertemplate": "Product Name=APPLE iPhone 12 (Green, 128 GB)<br>Number Of Reviews=%{x}<br>Sale Price=%{y}<br>Discount Percentage=%{marker.size}<extra></extra>",
         "legendgroup": "APPLE iPhone 12 (Green, 128 GB)",
         "marker": {
          "color": "#636efa",
          "line": {
           "color": "black",
           "width": 2
          },
          "size": [
           10
          ],
          "sizemode": "area",
          "sizeref": 0.0725,
          "symbol": "circle"
         },
         "mode": "markers",
         "name": "APPLE iPhone 12 (Green, 128 GB)",
         "orientation": "v",
         "showlegend": true,
         "type": "scatter",
         "x": [
          178
         ],
         "xaxis": "x",
         "y": [
          75900
         ],
         "yaxis": "y"
        },
        {
         "hovertemplate": "Product Name=APPLE iPhone 12 (Green, 128 GB)<extra></extra>",
         "legendgroup": "APPLE iPhone 12 (Green, 128 GB)",
         "marker": {
          "color": "#636efa",
          "line": {
           "color": "black",
           "width": 2
          },
          "symbol": "circle"
         },
         "mode": "lines",
         "name": "APPLE iPhone 12 (Green, 128 GB)",
         "showlegend": false,
         "type": "scatter",
         "xaxis": "x",
         "yaxis": "y"
        },
        {
         "hovertemplate": "Product Name=APPLE iPhone 12 Pro (Pacific Blue, 512 GB)<br>Number Of Reviews=%{x}<br>Sale Price=%{y}<br>Discount Percentage=%{marker.size}<extra></extra>",
         "legendgroup": "APPLE iPhone 12 Pro (Pacific Blue, 512 GB)",
         "marker": {
          "color": "#EF553B",
          "line": {
           "color": "black",
           "width": 2
          },
          "size": [
           6
          ],
          "sizemode": "area",
          "sizeref": 0.0725,
          "symbol": "circle"
         },
         "mode": "markers",
         "name": "APPLE iPhone 12 Pro (Pacific Blue, 512 GB)",
         "orientation": "v",
         "showlegend": true,
         "type": "scatter",
         "x": [
          42
         ],
         "xaxis": "x",
         "y": [
          140900
         ],
         "yaxis": "y"
        },
        {
         "hovertemplate": "Product Name=APPLE iPhone 12 Pro (Pacific Blue, 512 GB)<extra></extra>",
         "legendgroup": "APPLE iPhone 12 Pro (Pacific Blue, 512 GB)",
         "marker": {
          "color": "#EF553B",
          "line": {
           "color": "black",
           "width": 2
          },
          "symbol": "circle"
         },
         "mode": "lines",
         "name": "APPLE iPhone 12 Pro (Pacific Blue, 512 GB)",
         "showlegend": false,
         "type": "scatter",
         "xaxis": "x",
         "yaxis": "y"
        },
        {
         "hovertemplate": "Product Name=APPLE iPhone 12 (White, 64 GB)<br>Number Of Reviews=%{x}<br>Sale Price=%{y}<br>Discount Percentage=%{marker.size}<extra></extra>",
         "legendgroup": "APPLE iPhone 12 (White, 64 GB)",
         "marker": {
          "color": "#00cc96",
          "line": {
           "color": "black",
           "width": 2
          },
          "size": [
           11
          ],
          "sizemode": "area",
          "sizeref": 0.0725,
          "symbol": "circle"
         },
         "mode": "markers",
         "name": "APPLE iPhone 12 (White, 64 GB)",
         "orientation": "v",
         "showlegend": true,
         "type": "scatter",
         "x": [
          180
         ],
         "xaxis": "x",
         "y": [
          70900
         ],
         "yaxis": "y"
        },
        {
         "hovertemplate": "Product Name=APPLE iPhone 12 (White, 64 GB)<extra></extra>",
         "legendgroup": "APPLE iPhone 12 (White, 64 GB)",
         "marker": {
          "color": "#00cc96",
          "line": {
           "color": "black",
           "width": 2
          },
          "symbol": "circle"
         },
         "mode": "lines",
         "name": "APPLE iPhone 12 (White, 64 GB)",
         "showlegend": false,
         "type": "scatter",
         "xaxis": "x",
         "yaxis": "y"
        },
        {
         "hovertemplate": "Product Name=APPLE iPhone 12 (Black, 64 GB)<br>Number Of Reviews=%{x}<br>Sale Price=%{y}<br>Discount Percentage=%{marker.size}<extra></extra>",
         "legendgroup": "APPLE iPhone 12 (Black, 64 GB)",
         "marker": {
          "color": "#ab63fa",
          "line": {
           "color": "black",
           "width": 2
          },
          "size": [
           11
          ],
          "sizemode": "area",
          "sizeref": 0.0725,
          "symbol": "circle"
         },
         "mode": "markers",
         "name": "APPLE iPhone 12 (Black, 64 GB)",
         "orientation": "v",
         "showlegend": true,
         "type": "scatter",
         "x": [
          178
         ],
         "xaxis": "x",
         "y": [
          70900
         ],
         "yaxis": "y"
        },
        {
         "hovertemplate": "Product Name=APPLE iPhone 12 (Black, 64 GB)<extra></extra>",
         "legendgroup": "APPLE iPhone 12 (Black, 64 GB)",
         "marker": {
          "color": "#ab63fa",
          "line": {
           "color": "black",
           "width": 2
          },
          "symbol": "circle"
         },
         "mode": "lines",
         "name": "APPLE iPhone 12 (Black, 64 GB)",
         "showlegend": false,
         "type": "scatter",
         "xaxis": "x",
         "yaxis": "y"
        },
        {
         "hovertemplate": "Product Name=APPLE iPhone 12 (Red, 128 GB)<br>Number Of Reviews=%{x}<br>Sale Price=%{y}<br>Discount Percentage=%{marker.size}<extra></extra>",
         "legendgroup": "APPLE iPhone 12 (Red, 128 GB)",
         "marker": {
          "color": "#FFA15A",
          "line": {
           "color": "black",
           "width": 2
          },
          "size": [
           10
          ],
          "sizemode": "area",
          "sizeref": 0.0725,
          "symbol": "circle"
         },
         "mode": "markers",
         "name": "APPLE iPhone 12 (Red, 128 GB)",
         "orientation": "v",
         "showlegend": true,
         "type": "scatter",
         "x": [
          180
         ],
         "xaxis": "x",
         "y": [
          75900
         ],
         "yaxis": "y"
        },
        {
         "hovertemplate": "Product Name=APPLE iPhone 12 (Red, 128 GB)<extra></extra>",
         "legendgroup": "APPLE iPhone 12 (Red, 128 GB)",
         "marker": {
          "color": "#FFA15A",
          "line": {
           "color": "black",
           "width": 2
          },
          "symbol": "circle"
         },
         "mode": "lines",
         "name": "APPLE iPhone 12 (Red, 128 GB)",
         "showlegend": false,
         "type": "scatter",
         "xaxis": "x",
         "yaxis": "y"
        },
        {
         "hovertemplate": "Product Name=APPLE iPhone 12 Mini (Black, 64 GB)<br>Number Of Reviews=%{x}<br>Sale Price=%{y}<br>Discount Percentage=%{marker.size}<extra></extra>",
         "legendgroup": "APPLE iPhone 12 Mini (Black, 64 GB)",
         "marker": {
          "color": "#19d3f3",
          "line": {
           "color": "black",
           "width": 2
          },
          "size": [
           14
          ],
          "sizemode": "area",
          "sizeref": 0.0725,
          "symbol": "circle"
         },
         "mode": "markers",
         "name": "APPLE iPhone 12 Mini (Black, 64 GB)",
         "orientation": "v",
         "showlegend": true,
         "type": "scatter",
         "x": [
          64
         ],
         "xaxis": "x",
         "y": [
          59900
         ],
         "yaxis": "y"
        },
        {
         "hovertemplate": "Product Name=APPLE iPhone 12 Mini (Black, 64 GB)<extra></extra>",
         "legendgroup": "APPLE iPhone 12 Mini (Black, 64 GB)",
         "marker": {
          "color": "#19d3f3",
          "line": {
           "color": "black",
           "width": 2
          },
          "symbol": "circle"
         },
         "mode": "lines",
         "name": "APPLE iPhone 12 Mini (Black, 64 GB)",
         "showlegend": false,
         "type": "scatter",
         "xaxis": "x",
         "yaxis": "y"
        },
        {
         "hovertemplate": "Product Name=APPLE iPhone 12 Pro (Pacific Blue, 128 GB)<br>Number Of Reviews=%{x}<br>Sale Price=%{y}<br>Discount Percentage=%{marker.size}<extra></extra>",
         "legendgroup": "APPLE iPhone 12 Pro (Pacific Blue, 128 GB)",
         "marker": {
          "color": "#FF6692",
          "line": {
           "color": "black",
           "width": 2
          },
          "size": [
           7
          ],
          "sizemode": "area",
          "sizeref": 0.0725,
          "symbol": "circle"
         },
         "mode": "markers",
         "name": "APPLE iPhone 12 Pro (Pacific Blue, 128 GB)",
         "orientation": "v",
         "showlegend": true,
         "type": "scatter",
         "x": [
          42
         ],
         "xaxis": "x",
         "y": [
          110900
         ],
         "yaxis": "y"
        },
        {
         "hovertemplate": "Product Name=APPLE iPhone 12 Pro (Pacific Blue, 128 GB)<extra></extra>",
         "legendgroup": "APPLE iPhone 12 Pro (Pacific Blue, 128 GB)",
         "marker": {
          "color": "#FF6692",
          "line": {
           "color": "black",
           "width": 2
          },
          "symbol": "circle"
         },
         "mode": "lines",
         "name": "APPLE iPhone 12 Pro (Pacific Blue, 128 GB)",
         "showlegend": false,
         "type": "scatter",
         "xaxis": "x",
         "yaxis": "y"
        },
        {
         "hovertemplate": "Product Name=APPLE iPhone 12 Pro Max (Pacific Blue, 128 GB)<br>Number Of Reviews=%{x}<br>Sale Price=%{y}<br>Discount Percentage=%{marker.size}<extra></extra>",
         "legendgroup": "APPLE iPhone 12 Pro Max (Pacific Blue, 128 GB)",
         "marker": {
          "color": "#B6E880",
          "line": {
           "color": "black",
           "width": 2
          },
          "size": [
           6
          ],
          "sizemode": "area",
          "sizeref": 0.0725,
          "symbol": "circle"
         },
         "mode": "markers",
         "name": "APPLE iPhone 12 Pro Max (Pacific Blue, 128 GB)",
         "orientation": "v",
         "showlegend": true,
         "type": "scatter",
         "x": [
          45
         ],
         "xaxis": "x",
         "y": [
          120900
         ],
         "yaxis": "y"
        },
        {
         "hovertemplate": "Product Name=APPLE iPhone 12 Pro Max (Pacific Blue, 128 GB)<extra></extra>",
         "legendgroup": "APPLE iPhone 12 Pro Max (Pacific Blue, 128 GB)",
         "marker": {
          "color": "#B6E880",
          "line": {
           "color": "black",
           "width": 2
          },
          "symbol": "circle"
         },
         "mode": "lines",
         "name": "APPLE iPhone 12 Pro Max (Pacific Blue, 128 GB)",
         "showlegend": false,
         "type": "scatter",
         "xaxis": "x",
         "yaxis": "y"
        },
        {
         "hovertemplate": "Product Name=APPLE iPhone 12 Pro Max (Silver, 256 GB)<br>Number Of Reviews=%{x}<br>Sale Price=%{y}<br>Discount Percentage=%{marker.size}<extra></extra>",
         "legendgroup": "APPLE iPhone 12 Pro Max (Silver, 256 GB)",
         "marker": {
          "color": "#FF97FF",
          "line": {
           "color": "black",
           "width": 2
          },
          "size": [
           6
          ],
          "sizemode": "area",
          "sizeref": 0.0725,
          "symbol": "circle"
         },
         "mode": "markers",
         "name": "APPLE iPhone 12 Pro Max (Silver, 256 GB)",
         "orientation": "v",
         "showlegend": true,
         "type": "scatter",
         "x": [
          45
         ],
         "xaxis": "x",
         "y": [
          130900
         ],
         "yaxis": "y"
        },
        {
         "hovertemplate": "Product Name=APPLE iPhone 12 Pro Max (Silver, 256 GB)<extra></extra>",
         "legendgroup": "APPLE iPhone 12 Pro Max (Silver, 256 GB)",
         "marker": {
          "color": "#FF97FF",
          "line": {
           "color": "black",
           "width": 2
          },
          "symbol": "circle"
         },
         "mode": "lines",
         "name": "APPLE iPhone 12 Pro Max (Silver, 256 GB)",
         "showlegend": false,
         "type": "scatter",
         "xaxis": "x",
         "yaxis": "y"
        },
        {
         "hovertemplate": "Product Name=APPLE iPhone 12 Pro Max (Gold, 256 GB)<br>Number Of Reviews=%{x}<br>Sale Price=%{y}<br>Discount Percentage=%{marker.size}<extra></extra>",
         "legendgroup": "APPLE iPhone 12 Pro Max (Gold, 256 GB)",
         "marker": {
          "color": "#FECB52",
          "line": {
           "color": "black",
           "width": 2
          },
          "size": [
           6
          ],
          "sizemode": "area",
          "sizeref": 0.0725,
          "symbol": "circle"
         },
         "mode": "markers",
         "name": "APPLE iPhone 12 Pro Max (Gold, 256 GB)",
         "orientation": "v",
         "showlegend": true,
         "type": "scatter",
         "x": [
          45
         ],
         "xaxis": "x",
         "y": [
          130900
         ],
         "yaxis": "y"
        },
        {
         "hovertemplate": "Product Name=APPLE iPhone 12 Pro Max (Gold, 256 GB)<extra></extra>",
         "legendgroup": "APPLE iPhone 12 Pro Max (Gold, 256 GB)",
         "marker": {
          "color": "#FECB52",
          "line": {
           "color": "black",
           "width": 2
          },
          "symbol": "circle"
         },
         "mode": "lines",
         "name": "APPLE iPhone 12 Pro Max (Gold, 256 GB)",
         "showlegend": false,
         "type": "scatter",
         "xaxis": "x",
         "yaxis": "y"
        },
        {
         "hovertemplate": "Product Name=APPLE iPhone 11 (White, 128 GB)<br>Number Of Reviews=%{x}<br>Sale Price=%{y}<br>Discount Percentage=%{marker.size}<extra></extra>",
         "legendgroup": "APPLE iPhone 11 (White, 128 GB)",
         "marker": {
          "color": "#636efa",
          "line": {
           "color": "black",
           "width": 2
          },
          "size": [
           8
          ],
          "sizemode": "area",
          "sizeref": 0.0725,
          "symbol": "circle"
         },
         "mode": "markers",
         "name": "APPLE iPhone 11 (White, 128 GB)",
         "orientation": "v",
         "showlegend": true,
         "type": "scatter",
         "x": [
          3357
         ],
         "xaxis": "x",
         "y": [
          54999
         ],
         "yaxis": "y"
        },
        {
         "hovertemplate": "Product Name=APPLE iPhone 11 (White, 128 GB)<extra></extra>",
         "legendgroup": "APPLE iPhone 11 (White, 128 GB)",
         "marker": {
          "color": "#636efa",
          "line": {
           "color": "black",
           "width": 2
          },
          "symbol": "circle"
         },
         "mode": "lines",
         "name": "APPLE iPhone 11 (White, 128 GB)",
         "showlegend": false,
         "type": "scatter",
         "xaxis": "x",
         "yaxis": "y"
        },
        {
         "hovertemplate": "Product Name=APPLE iPhone 11 (Red, 128 GB)<br>Number Of Reviews=%{x}<br>Sale Price=%{y}<br>Discount Percentage=%{marker.size}<extra></extra>",
         "legendgroup": "APPLE iPhone 11 (Red, 128 GB)",
         "marker": {
          "color": "#EF553B",
          "line": {
           "color": "black",
           "width": 2
          },
          "size": [
           8
          ],
          "sizemode": "area",
          "sizeref": 0.0725,
          "symbol": "circle"
         },
         "mode": "markers",
         "name": "APPLE iPhone 11 (Red, 128 GB)",
         "orientation": "v",
         "showlegend": true,
         "type": "scatter",
         "x": [
          3357
         ],
         "xaxis": "x",
         "y": [
          54999
         ],
         "yaxis": "y"
        },
        {
         "hovertemplate": "Product Name=APPLE iPhone 11 (Red, 128 GB)<extra></extra>",
         "legendgroup": "APPLE iPhone 11 (Red, 128 GB)",
         "marker": {
          "color": "#EF553B",
          "line": {
           "color": "black",
           "width": 2
          },
          "symbol": "circle"
         },
         "mode": "lines",
         "name": "APPLE iPhone 11 (Red, 128 GB)",
         "showlegend": false,
         "type": "scatter",
         "xaxis": "x",
         "yaxis": "y"
        },
        {
         "hovertemplate": "Product Name=APPLE iPhone SE (White, 64 GB)<br>Number Of Reviews=%{x}<br>Sale Price=%{y}<br>Discount Percentage=%{marker.size}<extra></extra>",
         "legendgroup": "APPLE iPhone SE (White, 64 GB)",
         "marker": {
          "color": "#00cc96",
          "line": {
           "color": "black",
           "width": 2
          },
          "size": [
           24
          ],
          "sizemode": "area",
          "sizeref": 0.0725,
          "symbol": "circle"
         },
         "mode": "markers",
         "name": "APPLE iPhone SE (White, 64 GB)",
         "orientation": "v",
         "showlegend": true,
         "type": "scatter",
         "x": [
          8154
         ],
         "xaxis": "x",
         "y": [
          29999
         ],
         "yaxis": "y"
        },
        {
         "hovertemplate": "Product Name=APPLE iPhone SE (White, 64 GB)<extra></extra>",
         "legendgroup": "APPLE iPhone SE (White, 64 GB)",
         "marker": {
          "color": "#00cc96",
          "line": {
           "color": "black",
           "width": 2
          },
          "symbol": "circle"
         },
         "mode": "lines",
         "name": "APPLE iPhone SE (White, 64 GB)",
         "showlegend": false,
         "type": "scatter",
         "xaxis": "x",
         "yaxis": "y"
        },
        {
         "hovertemplate": "Product Name=APPLE iPhone SE (Black, 128 GB)<br>Number Of Reviews=%{x}<br>Sale Price=%{y}<br>Discount Percentage=%{marker.size}<extra></extra>",
         "legendgroup": "APPLE iPhone SE (Black, 128 GB)",
         "marker": {
          "color": "#ab63fa",
          "line": {
           "color": "black",
           "width": 2
          },
          "size": [
           22
          ],
          "sizemode": "area",
          "sizeref": 0.0725,
          "symbol": "circle"
         },
         "mode": "markers",
         "name": "APPLE iPhone SE (Black, 128 GB)",
         "orientation": "v",
         "showlegend": true,
         "type": "scatter",
         "x": [
          8161
         ],
         "xaxis": "x",
         "y": [
          34999
         ],
         "yaxis": "y"
        },
        {
         "hovertemplate": "Product Name=APPLE iPhone SE (Black, 128 GB)<extra></extra>",
         "legendgroup": "APPLE iPhone SE (Black, 128 GB)",
         "marker": {
          "color": "#ab63fa",
          "line": {
           "color": "black",
           "width": 2
          },
          "symbol": "circle"
         },
         "mode": "lines",
         "name": "APPLE iPhone SE (Black, 128 GB)",
         "showlegend": false,
         "type": "scatter",
         "xaxis": "x",
         "yaxis": "y"
        },
        {
         "hovertemplate": "Product Name=APPLE iPhone SE (White, 128 GB)<br>Number Of Reviews=%{x}<br>Sale Price=%{y}<br>Discount Percentage=%{marker.size}<extra></extra>",
         "legendgroup": "APPLE iPhone SE (White, 128 GB)",
         "marker": {
          "color": "#FFA15A",
          "line": {
           "color": "black",
           "width": 2
          },
          "size": [
           22
          ],
          "sizemode": "area",
          "sizeref": 0.0725,
          "symbol": "circle"
         },
         "mode": "markers",
         "name": "APPLE iPhone SE (White, 128 GB)",
         "orientation": "v",
         "showlegend": true,
         "type": "scatter",
         "x": [
          8154
         ],
         "xaxis": "x",
         "y": [
          34999
         ],
         "yaxis": "y"
        },
        {
         "hovertemplate": "Product Name=APPLE iPhone SE (White, 128 GB)<extra></extra>",
         "legendgroup": "APPLE iPhone SE (White, 128 GB)",
         "marker": {
          "color": "#FFA15A",
          "line": {
           "color": "black",
           "width": 2
          },
          "symbol": "circle"
         },
         "mode": "lines",
         "name": "APPLE iPhone SE (White, 128 GB)",
         "showlegend": false,
         "type": "scatter",
         "xaxis": "x",
         "yaxis": "y"
        },
        {
         "hovertemplate": "Product Name=APPLE iPhone SE (Red, 128 GB)<br>Number Of Reviews=%{x}<br>Sale Price=%{y}<br>Discount Percentage=%{marker.size}<extra></extra>",
         "legendgroup": "APPLE iPhone SE (Red, 128 GB)",
         "marker": {
          "color": "#19d3f3",
          "line": {
           "color": "black",
           "width": 2
          },
          "size": [
           22
          ],
          "sizemode": "area",
          "sizeref": 0.0725,
          "symbol": "circle"
         },
         "mode": "markers",
         "name": "APPLE iPhone SE (Red, 128 GB)",
         "orientation": "v",
         "showlegend": true,
         "type": "scatter",
         "x": [
          8161
         ],
         "xaxis": "x",
         "y": [
          34999
         ],
         "yaxis": "y"
        },
        {
         "hovertemplate": "Product Name=APPLE iPhone SE (Red, 128 GB)<extra></extra>",
         "legendgroup": "APPLE iPhone SE (Red, 128 GB)",
         "marker": {
          "color": "#19d3f3",
          "line": {
           "color": "black",
           "width": 2
          },
          "symbol": "circle"
         },
         "mode": "lines",
         "name": "APPLE iPhone SE (Red, 128 GB)",
         "showlegend": false,
         "type": "scatter",
         "xaxis": "x",
         "yaxis": "y"
        },
        {
         "hovertemplate": "Product Name=APPLE iPhone 11 (Black, 128 GB)<br>Number Of Reviews=%{x}<br>Sale Price=%{y}<br>Discount Percentage=%{marker.size}<extra></extra>",
         "legendgroup": "APPLE iPhone 11 (Black, 128 GB)",
         "marker": {
          "color": "#FF6692",
          "line": {
           "color": "black",
           "width": 2
          },
          "size": [
           8
          ],
          "sizemode": "area",
          "sizeref": 0.0725,
          "symbol": "circle"
         },
         "mode": "markers",
         "name": "APPLE iPhone 11 (Black, 128 GB)",
         "orientation": "v",
         "showlegend": true,
         "type": "scatter",
         "x": [
          3331
         ],
         "xaxis": "x",
         "y": [
          54999
         ],
         "yaxis": "y"
        },
        {
         "hovertemplate": "Product Name=APPLE iPhone 11 (Black, 128 GB)<extra></extra>",
         "legendgroup": "APPLE iPhone 11 (Black, 128 GB)",
         "marker": {
          "color": "#FF6692",
          "line": {
           "color": "black",
           "width": 2
          },
          "symbol": "circle"
         },
         "mode": "lines",
         "name": "APPLE iPhone 11 (Black, 128 GB)",
         "showlegend": false,
         "type": "scatter",
         "xaxis": "x",
         "yaxis": "y"
        },
        {
         "hovertemplate": "Product Name=APPLE iPhone SE (Black, 64 GB)<br>Number Of Reviews=%{x}<br>Sale Price=%{y}<br>Discount Percentage=%{marker.size}<extra></extra>",
         "legendgroup": "APPLE iPhone SE (Black, 64 GB)",
         "marker": {
          "color": "#B6E880",
          "line": {
           "color": "black",
           "width": 2
          },
          "size": [
           24
          ],
          "sizemode": "area",
          "sizeref": 0.0725,
          "symbol": "circle"
         },
         "mode": "markers",
         "name": "APPLE iPhone SE (Black, 64 GB)",
         "orientation": "v",
         "showlegend": true,
         "type": "scatter",
         "x": [
          8161
         ],
         "xaxis": "x",
         "y": [
          29999
         ],
         "yaxis": "y"
        },
        {
         "hovertemplate": "Product Name=APPLE iPhone SE (Black, 64 GB)<extra></extra>",
         "legendgroup": "APPLE iPhone SE (Black, 64 GB)",
         "marker": {
          "color": "#B6E880",
          "line": {
           "color": "black",
           "width": 2
          },
          "symbol": "circle"
         },
         "mode": "lines",
         "name": "APPLE iPhone SE (Black, 64 GB)",
         "showlegend": false,
         "type": "scatter",
         "xaxis": "x",
         "yaxis": "y"
        },
        {
         "hovertemplate": "Product Name=APPLE iPhone 11 (Purple, 64 GB)<br>Number Of Reviews=%{x}<br>Sale Price=%{y}<br>Discount Percentage=%{marker.size}<extra></extra>",
         "legendgroup": "APPLE iPhone 11 (Purple, 64 GB)",
         "marker": {
          "color": "#FF97FF",
          "line": {
           "color": "black",
           "width": 2
          },
          "size": [
           14
          ],
          "sizemode": "area",
          "sizeref": 0.0725,
          "symbol": "circle"
         },
         "mode": "markers",
         "name": "APPLE iPhone 11 (Purple, 64 GB)",
         "orientation": "v",
         "showlegend": true,
         "type": "scatter",
         "x": [
          3331
         ],
         "xaxis": "x",
         "y": [
          46999
         ],
         "yaxis": "y"
        },
        {
         "hovertemplate": "Product Name=APPLE iPhone 11 (Purple, 64 GB)<extra></extra>",
         "legendgroup": "APPLE iPhone 11 (Purple, 64 GB)",
         "marker": {
          "color": "#FF97FF",
          "line": {
           "color": "black",
           "width": 2
          },
          "symbol": "circle"
         },
         "mode": "lines",
         "name": "APPLE iPhone 11 (Purple, 64 GB)",
         "showlegend": false,
         "type": "scatter",
         "xaxis": "x",
         "yaxis": "y"
        },
        {
         "hovertemplate": "Product Name=APPLE iPhone 11 (White, 64 GB)<br>Number Of Reviews=%{x}<br>Sale Price=%{y}<br>Discount Percentage=%{marker.size}<extra></extra>",
         "legendgroup": "APPLE iPhone 11 (White, 64 GB)",
         "marker": {
          "color": "#FECB52",
          "line": {
           "color": "black",
           "width": 2
          },
          "size": [
           14
          ],
          "sizemode": "area",
          "sizeref": 0.0725,
          "symbol": "circle"
         },
         "mode": "markers",
         "name": "APPLE iPhone 11 (White, 64 GB)",
         "orientation": "v",
         "showlegend": true,
         "type": "scatter",
         "x": [
          3331
         ],
         "xaxis": "x",
         "y": [
          46999
         ],
         "yaxis": "y"
        },
        {
         "hovertemplate": "Product Name=APPLE iPhone 11 (White, 64 GB)<extra></extra>",
         "legendgroup": "APPLE iPhone 11 (White, 64 GB)",
         "marker": {
          "color": "#FECB52",
          "line": {
           "color": "black",
           "width": 2
          },
          "symbol": "circle"
         },
         "mode": "lines",
         "name": "APPLE iPhone 11 (White, 64 GB)",
         "showlegend": false,
         "type": "scatter",
         "xaxis": "x",
         "yaxis": "y"
        },
        {
         "hovertemplate": "Product Name=APPLE iPhone 11 (Black, 64 GB)<br>Number Of Reviews=%{x}<br>Sale Price=%{y}<br>Discount Percentage=%{marker.size}<extra></extra>",
         "legendgroup": "APPLE iPhone 11 (Black, 64 GB)",
         "marker": {
          "color": "#636efa",
          "line": {
           "color": "black",
           "width": 2
          },
          "size": [
           14
          ],
          "sizemode": "area",
          "sizeref": 0.0725,
          "symbol": "circle"
         },
         "mode": "markers",
         "name": "APPLE iPhone 11 (Black, 64 GB)",
         "orientation": "v",
         "showlegend": true,
         "type": "scatter",
         "x": [
          3331
         ],
         "xaxis": "x",
         "y": [
          46999
         ],
         "yaxis": "y"
        },
        {
         "hovertemplate": "Product Name=APPLE iPhone 11 (Black, 64 GB)<extra></extra>",
         "legendgroup": "APPLE iPhone 11 (Black, 64 GB)",
         "marker": {
          "color": "#636efa",
          "line": {
           "color": "black",
           "width": 2
          },
          "symbol": "circle"
         },
         "mode": "lines",
         "name": "APPLE iPhone 11 (Black, 64 GB)",
         "showlegend": false,
         "type": "scatter",
         "xaxis": "x",
         "yaxis": "y"
        },
        {
         "hovertemplate": "Product Name=APPLE iPhone 11 (Red, 64 GB)<br>Number Of Reviews=%{x}<br>Sale Price=%{y}<br>Discount Percentage=%{marker.size}<extra></extra>",
         "legendgroup": "APPLE iPhone 11 (Red, 64 GB)",
         "marker": {
          "color": "#EF553B",
          "line": {
           "color": "black",
           "width": 2
          },
          "size": [
           14
          ],
          "sizemode": "area",
          "sizeref": 0.0725,
          "symbol": "circle"
         },
         "mode": "markers",
         "name": "APPLE iPhone 11 (Red, 64 GB)",
         "orientation": "v",
         "showlegend": true,
         "type": "scatter",
         "x": [
          3331
         ],
         "xaxis": "x",
         "y": [
          46999
         ],
         "yaxis": "y"
        },
        {
         "hovertemplate": "Product Name=APPLE iPhone 11 (Red, 64 GB)<extra></extra>",
         "legendgroup": "APPLE iPhone 11 (Red, 64 GB)",
         "marker": {
          "color": "#EF553B",
          "line": {
           "color": "black",
           "width": 2
          },
          "symbol": "circle"
         },
         "mode": "lines",
         "name": "APPLE iPhone 11 (Red, 64 GB)",
         "showlegend": false,
         "type": "scatter",
         "xaxis": "x",
         "yaxis": "y"
        }
       ],
       "layout": {
        "legend": {
         "itemsizing": "constant",
         "title": {
          "text": "Product Name"
         },
         "tracegroupgap": 0
        },
        "template": {
         "data": {
          "bar": [
           {
            "error_x": {
             "color": "#2a3f5f"
            },
            "error_y": {
             "color": "#2a3f5f"
            },
            "marker": {
             "line": {
              "color": "#E5ECF6",
              "width": 0.5
             },
             "pattern": {
              "fillmode": "overlay",
              "size": 10,
              "solidity": 0.2
             }
            },
            "type": "bar"
           }
          ],
          "barpolar": [
           {
            "marker": {
             "line": {
              "color": "#E5ECF6",
              "width": 0.5
             },
             "pattern": {
              "fillmode": "overlay",
              "size": 10,
              "solidity": 0.2
             }
            },
            "type": "barpolar"
           }
          ],
          "carpet": [
           {
            "aaxis": {
             "endlinecolor": "#2a3f5f",
             "gridcolor": "white",
             "linecolor": "white",
             "minorgridcolor": "white",
             "startlinecolor": "#2a3f5f"
            },
            "baxis": {
             "endlinecolor": "#2a3f5f",
             "gridcolor": "white",
             "linecolor": "white",
             "minorgridcolor": "white",
             "startlinecolor": "#2a3f5f"
            },
            "type": "carpet"
           }
          ],
          "choropleth": [
           {
            "colorbar": {
             "outlinewidth": 0,
             "ticks": ""
            },
            "type": "choropleth"
           }
          ],
          "contour": [
           {
            "colorbar": {
             "outlinewidth": 0,
             "ticks": ""
            },
            "colorscale": [
             [
              0,
              "#0d0887"
             ],
             [
              0.1111111111111111,
              "#46039f"
             ],
             [
              0.2222222222222222,
              "#7201a8"
             ],
             [
              0.3333333333333333,
              "#9c179e"
             ],
             [
              0.4444444444444444,
              "#bd3786"
             ],
             [
              0.5555555555555556,
              "#d8576b"
             ],
             [
              0.6666666666666666,
              "#ed7953"
             ],
             [
              0.7777777777777778,
              "#fb9f3a"
             ],
             [
              0.8888888888888888,
              "#fdca26"
             ],
             [
              1,
              "#f0f921"
             ]
            ],
            "type": "contour"
           }
          ],
          "contourcarpet": [
           {
            "colorbar": {
             "outlinewidth": 0,
             "ticks": ""
            },
            "type": "contourcarpet"
           }
          ],
          "heatmap": [
           {
            "colorbar": {
             "outlinewidth": 0,
             "ticks": ""
            },
            "colorscale": [
             [
              0,
              "#0d0887"
             ],
             [
              0.1111111111111111,
              "#46039f"
             ],
             [
              0.2222222222222222,
              "#7201a8"
             ],
             [
              0.3333333333333333,
              "#9c179e"
             ],
             [
              0.4444444444444444,
              "#bd3786"
             ],
             [
              0.5555555555555556,
              "#d8576b"
             ],
             [
              0.6666666666666666,
              "#ed7953"
             ],
             [
              0.7777777777777778,
              "#fb9f3a"
             ],
             [
              0.8888888888888888,
              "#fdca26"
             ],
             [
              1,
              "#f0f921"
             ]
            ],
            "type": "heatmap"
           }
          ],
          "heatmapgl": [
           {
            "colorbar": {
             "outlinewidth": 0,
             "ticks": ""
            },
            "colorscale": [
             [
              0,
              "#0d0887"
             ],
             [
              0.1111111111111111,
              "#46039f"
             ],
             [
              0.2222222222222222,
              "#7201a8"
             ],
             [
              0.3333333333333333,
              "#9c179e"
             ],
             [
              0.4444444444444444,
              "#bd3786"
             ],
             [
              0.5555555555555556,
              "#d8576b"
             ],
             [
              0.6666666666666666,
              "#ed7953"
             ],
             [
              0.7777777777777778,
              "#fb9f3a"
             ],
             [
              0.8888888888888888,
              "#fdca26"
             ],
             [
              1,
              "#f0f921"
             ]
            ],
            "type": "heatmapgl"
           }
          ],
          "histogram": [
           {
            "marker": {
             "pattern": {
              "fillmode": "overlay",
              "size": 10,
              "solidity": 0.2
             }
            },
            "type": "histogram"
           }
          ],
          "histogram2d": [
           {
            "colorbar": {
             "outlinewidth": 0,
             "ticks": ""
            },
            "colorscale": [
             [
              0,
              "#0d0887"
             ],
             [
              0.1111111111111111,
              "#46039f"
             ],
             [
              0.2222222222222222,
              "#7201a8"
             ],
             [
              0.3333333333333333,
              "#9c179e"
             ],
             [
              0.4444444444444444,
              "#bd3786"
             ],
             [
              0.5555555555555556,
              "#d8576b"
             ],
             [
              0.6666666666666666,
              "#ed7953"
             ],
             [
              0.7777777777777778,
              "#fb9f3a"
             ],
             [
              0.8888888888888888,
              "#fdca26"
             ],
             [
              1,
              "#f0f921"
             ]
            ],
            "type": "histogram2d"
           }
          ],
          "histogram2dcontour": [
           {
            "colorbar": {
             "outlinewidth": 0,
             "ticks": ""
            },
            "colorscale": [
             [
              0,
              "#0d0887"
             ],
             [
              0.1111111111111111,
              "#46039f"
             ],
             [
              0.2222222222222222,
              "#7201a8"
             ],
             [
              0.3333333333333333,
              "#9c179e"
             ],
             [
              0.4444444444444444,
              "#bd3786"
             ],
             [
              0.5555555555555556,
              "#d8576b"
             ],
             [
              0.6666666666666666,
              "#ed7953"
             ],
             [
              0.7777777777777778,
              "#fb9f3a"
             ],
             [
              0.8888888888888888,
              "#fdca26"
             ],
             [
              1,
              "#f0f921"
             ]
            ],
            "type": "histogram2dcontour"
           }
          ],
          "mesh3d": [
           {
            "colorbar": {
             "outlinewidth": 0,
             "ticks": ""
            },
            "type": "mesh3d"
           }
          ],
          "parcoords": [
           {
            "line": {
             "colorbar": {
              "outlinewidth": 0,
              "ticks": ""
             }
            },
            "type": "parcoords"
           }
          ],
          "pie": [
           {
            "automargin": true,
            "type": "pie"
           }
          ],
          "scatter": [
           {
            "fillpattern": {
             "fillmode": "overlay",
             "size": 10,
             "solidity": 0.2
            },
            "type": "scatter"
           }
          ],
          "scatter3d": [
           {
            "line": {
             "colorbar": {
              "outlinewidth": 0,
              "ticks": ""
             }
            },
            "marker": {
             "colorbar": {
              "outlinewidth": 0,
              "ticks": ""
             }
            },
            "type": "scatter3d"
           }
          ],
          "scattercarpet": [
           {
            "marker": {
             "colorbar": {
              "outlinewidth": 0,
              "ticks": ""
             }
            },
            "type": "scattercarpet"
           }
          ],
          "scattergeo": [
           {
            "marker": {
             "colorbar": {
              "outlinewidth": 0,
              "ticks": ""
             }
            },
            "type": "scattergeo"
           }
          ],
          "scattergl": [
           {
            "marker": {
             "colorbar": {
              "outlinewidth": 0,
              "ticks": ""
             }
            },
            "type": "scattergl"
           }
          ],
          "scattermapbox": [
           {
            "marker": {
             "colorbar": {
              "outlinewidth": 0,
              "ticks": ""
             }
            },
            "type": "scattermapbox"
           }
          ],
          "scatterpolar": [
           {
            "marker": {
             "colorbar": {
              "outlinewidth": 0,
              "ticks": ""
             }
            },
            "type": "scatterpolar"
           }
          ],
          "scatterpolargl": [
           {
            "marker": {
             "colorbar": {
              "outlinewidth": 0,
              "ticks": ""
             }
            },
            "type": "scatterpolargl"
           }
          ],
          "scatterternary": [
           {
            "marker": {
             "colorbar": {
              "outlinewidth": 0,
              "ticks": ""
             }
            },
            "type": "scatterternary"
           }
          ],
          "surface": [
           {
            "colorbar": {
             "outlinewidth": 0,
             "ticks": ""
            },
            "colorscale": [
             [
              0,
              "#0d0887"
             ],
             [
              0.1111111111111111,
              "#46039f"
             ],
             [
              0.2222222222222222,
              "#7201a8"
             ],
             [
              0.3333333333333333,
              "#9c179e"
             ],
             [
              0.4444444444444444,
              "#bd3786"
             ],
             [
              0.5555555555555556,
              "#d8576b"
             ],
             [
              0.6666666666666666,
              "#ed7953"
             ],
             [
              0.7777777777777778,
              "#fb9f3a"
             ],
             [
              0.8888888888888888,
              "#fdca26"
             ],
             [
              1,
              "#f0f921"
             ]
            ],
            "type": "surface"
           }
          ],
          "table": [
           {
            "cells": {
             "fill": {
              "color": "#EBF0F8"
             },
             "line": {
              "color": "white"
             }
            },
            "header": {
             "fill": {
              "color": "#C8D4E3"
             },
             "line": {
              "color": "white"
             }
            },
            "type": "table"
           }
          ]
         },
         "layout": {
          "annotationdefaults": {
           "arrowcolor": "#2a3f5f",
           "arrowhead": 0,
           "arrowwidth": 1
          },
          "autotypenumbers": "strict",
          "coloraxis": {
           "colorbar": {
            "outlinewidth": 0,
            "ticks": ""
           }
          },
          "colorscale": {
           "diverging": [
            [
             0,
             "#8e0152"
            ],
            [
             0.1,
             "#c51b7d"
            ],
            [
             0.2,
             "#de77ae"
            ],
            [
             0.3,
             "#f1b6da"
            ],
            [
             0.4,
             "#fde0ef"
            ],
            [
             0.5,
             "#f7f7f7"
            ],
            [
             0.6,
             "#e6f5d0"
            ],
            [
             0.7,
             "#b8e186"
            ],
            [
             0.8,
             "#7fbc41"
            ],
            [
             0.9,
             "#4d9221"
            ],
            [
             1,
             "#276419"
            ]
           ],
           "sequential": [
            [
             0,
             "#0d0887"
            ],
            [
             0.1111111111111111,
             "#46039f"
            ],
            [
             0.2222222222222222,
             "#7201a8"
            ],
            [
             0.3333333333333333,
             "#9c179e"
            ],
            [
             0.4444444444444444,
             "#bd3786"
            ],
            [
             0.5555555555555556,
             "#d8576b"
            ],
            [
             0.6666666666666666,
             "#ed7953"
            ],
            [
             0.7777777777777778,
             "#fb9f3a"
            ],
            [
             0.8888888888888888,
             "#fdca26"
            ],
            [
             1,
             "#f0f921"
            ]
           ],
           "sequentialminus": [
            [
             0,
             "#0d0887"
            ],
            [
             0.1111111111111111,
             "#46039f"
            ],
            [
             0.2222222222222222,
             "#7201a8"
            ],
            [
             0.3333333333333333,
             "#9c179e"
            ],
            [
             0.4444444444444444,
             "#bd3786"
            ],
            [
             0.5555555555555556,
             "#d8576b"
            ],
            [
             0.6666666666666666,
             "#ed7953"
            ],
            [
             0.7777777777777778,
             "#fb9f3a"
            ],
            [
             0.8888888888888888,
             "#fdca26"
            ],
            [
             1,
             "#f0f921"
            ]
           ]
          },
          "colorway": [
           "#636efa",
           "#EF553B",
           "#00cc96",
           "#ab63fa",
           "#FFA15A",
           "#19d3f3",
           "#FF6692",
           "#B6E880",
           "#FF97FF",
           "#FECB52"
          ],
          "font": {
           "color": "#2a3f5f"
          },
          "geo": {
           "bgcolor": "white",
           "lakecolor": "white",
           "landcolor": "#E5ECF6",
           "showlakes": true,
           "showland": true,
           "subunitcolor": "white"
          },
          "hoverlabel": {
           "align": "left"
          },
          "hovermode": "closest",
          "mapbox": {
           "style": "light"
          },
          "paper_bgcolor": "white",
          "plot_bgcolor": "#E5ECF6",
          "polar": {
           "angularaxis": {
            "gridcolor": "white",
            "linecolor": "white",
            "ticks": ""
           },
           "bgcolor": "#E5ECF6",
           "radialaxis": {
            "gridcolor": "white",
            "linecolor": "white",
            "ticks": ""
           }
          },
          "scene": {
           "xaxis": {
            "backgroundcolor": "#E5ECF6",
            "gridcolor": "white",
            "gridwidth": 2,
            "linecolor": "white",
            "showbackground": true,
            "ticks": "",
            "zerolinecolor": "white"
           },
           "yaxis": {
            "backgroundcolor": "#E5ECF6",
            "gridcolor": "white",
            "gridwidth": 2,
            "linecolor": "white",
            "showbackground": true,
            "ticks": "",
            "zerolinecolor": "white"
           },
           "zaxis": {
            "backgroundcolor": "#E5ECF6",
            "gridcolor": "white",
            "gridwidth": 2,
            "linecolor": "white",
            "showbackground": true,
            "ticks": "",
            "zerolinecolor": "white"
           }
          },
          "shapedefaults": {
           "line": {
            "color": "#2a3f5f"
           }
          },
          "ternary": {
           "aaxis": {
            "gridcolor": "white",
            "linecolor": "white",
            "ticks": ""
           },
           "baxis": {
            "gridcolor": "white",
            "linecolor": "white",
            "ticks": ""
           },
           "bgcolor": "#E5ECF6",
           "caxis": {
            "gridcolor": "white",
            "linecolor": "white",
            "ticks": ""
           }
          },
          "title": {
           "x": 0.05
          },
          "xaxis": {
           "automargin": true,
           "gridcolor": "white",
           "linecolor": "white",
           "ticks": "",
           "title": {
            "standoff": 15
           },
           "zerolinecolor": "white",
           "zerolinewidth": 2
          },
          "yaxis": {
           "automargin": true,
           "gridcolor": "white",
           "linecolor": "white",
           "ticks": "",
           "title": {
            "standoff": 15
           },
           "zerolinecolor": "white",
           "zerolinewidth": 2
          }
         }
        },
        "title": {
         "text": "Relationship between sale price and number of reviews"
        },
        "xaxis": {
         "anchor": "y",
         "domain": [
          0,
          1
         ],
         "title": {
          "text": "Number Of Reviews"
         }
        },
        "yaxis": {
         "anchor": "x",
         "domain": [
          0,
          1
         ],
         "title": {
          "text": "Sale Price"
         }
        }
       }
      }
     },
     "metadata": {},
     "output_type": "display_data"
    }
   ],
   "source": [
    "figure = px.scatter(data_frame=df,y=\"Sale Price\",x=\"Number Of Reviews\",size=\"Discount Percentage\",trendline=\"ols\",\n",
    "                    color=\"Product Name\",title=\"Relationship between sale price and number of reviews\")\n",
    "#fig.update_layout(legend_title=\"Discount Percentage\"=\"Product Name\")\n",
    "figure.update_traces(marker=dict(line=dict(width=2,color='black')))\n",
    "figure.show()"
   ]
  }
 ],
 "metadata": {
  "kernelspec": {
   "display_name": "Python 3",
   "language": "python",
   "name": "python3"
  },
  "language_info": {
   "codemirror_mode": {
    "name": "ipython",
    "version": 3
   },
   "file_extension": ".py",
   "mimetype": "text/x-python",
   "name": "python",
   "nbconvert_exporter": "python",
   "pygments_lexer": "ipython3",
   "version": "3.11.5"
  },
  "orig_nbformat": 4
 },
 "nbformat": 4,
 "nbformat_minor": 2
}
